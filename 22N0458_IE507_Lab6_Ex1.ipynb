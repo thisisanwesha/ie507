{
  "nbformat": 4,
  "nbformat_minor": 0,
  "metadata": {
    "colab": {
      "provenance": [],
      "collapsed_sections": []
    },
    "kernelspec": {
      "name": "python3",
      "display_name": "Python 3"
    }
  },
  "cells": [
    {
      "cell_type": "code",
      "source": [
        "!pip install -q pyomo"
      ],
      "metadata": {
        "id": "1cDyGb5SYnq-"
      },
      "execution_count": null,
      "outputs": []
    },
    {
      "cell_type": "code",
      "metadata": {
        "id": "1r_yYUofSTFB"
      },
      "source": [
        "from pyomo.environ import * "
      ],
      "execution_count": null,
      "outputs": []
    },
    {
      "cell_type": "code",
      "metadata": {
        "id": "4xu-ZbGQ61f4"
      },
      "source": [
        "import numpy as np"
      ],
      "execution_count": null,
      "outputs": []
    },
    {
      "cell_type": "code",
      "metadata": {
        "id": "g3bUiPzkmSQP"
      },
      "source": [
        "import pandas as pd"
      ],
      "execution_count": null,
      "outputs": []
    },
    {
      "cell_type": "code",
      "metadata": {
        "id": "Z26rYgB4m25b",
        "outputId": "3bb3b805-5abb-4230-feb1-beff9e46a706",
        "colab": {
          "base_uri": "https://localhost:8080/"
        }
      },
      "source": [
        "data_csvfile = pd.read_csv('lab6_ex1.csv')\n",
        "print(data_csvfile)"
      ],
      "execution_count": null,
      "outputs": [
        {
          "output_type": "stream",
          "name": "stdout",
          "text": [
            "  Warehouses/Markets  Hassan  Jodhpur  Trichy  Simla  Vijayawada  Dibrugarh  \\\n",
            "0          Ahmedabad     827      817    1470   2272        1615       3143   \n",
            "1          Bengaluru     559     1832     751   3772         637       3773   \n",
            "2            Chennai     110     2443     577   3865         798       3521   \n",
            "3              Delhi    2943     1471    4676   1337        2702       2741   \n",
            "4            Kolkata    3742     3089    2931   3199        2226       1739   \n",
            "5            Lucknow    2353     1160    3295    368        2369       2365   \n",
            "6             Mumbai    1356     1617    2045   2941        2334       4151   \n",
            "7          Hyderabad     195     1862    1331   2921         402       2825   \n",
            "8             Demand     205      300     425    270         375        225   \n",
            "\n",
            "   Raipur  Agartala  Available Stock  \n",
            "0    1264      4465              350  \n",
            "1    1856      5459              185  \n",
            "2    1984      5303              305  \n",
            "3    2482      4148              180  \n",
            "4    1691      2128              205  \n",
            "5    1293      3642              175  \n",
            "6    1937      4287              325  \n",
            "7     563      4441              370  \n",
            "8     185       110             2095  \n"
          ]
        }
      ]
    },
    {
      "cell_type": "code",
      "metadata": {
        "id": "Kte6UWEjnPS7",
        "colab": {
          "base_uri": "https://localhost:8080/"
        },
        "outputId": "e17effd5-e9c0-4a4f-c747-1ea34cf48b3a"
      },
      "source": [
        "data_csvfile.columns"
      ],
      "execution_count": null,
      "outputs": [
        {
          "output_type": "execute_result",
          "data": {
            "text/plain": [
              "Index(['Warehouses/Markets', 'Hassan', 'Jodhpur', 'Trichy', 'Simla',\n",
              "       'Vijayawada', 'Dibrugarh', 'Raipur', 'Agartala', 'Available Stock'],\n",
              "      dtype='object')"
            ]
          },
          "metadata": {},
          "execution_count": 40
        }
      ]
    },
    {
      "cell_type": "code",
      "metadata": {
        "id": "HYj3zpsvSih4"
      },
      "source": [
        "# create a model\n",
        "model_lab6_ex1 = ConcreteModel()"
      ],
      "execution_count": null,
      "outputs": []
    },
    {
      "cell_type": "code",
      "metadata": {
        "id": "NePoJ4k9Lp3H",
        "colab": {
          "base_uri": "https://localhost:8080/"
        },
        "outputId": "6e3e284e-6ff3-41f4-f2fa-342735e5c5d9"
      },
      "source": [
        "row_indices = range(M)\n",
        "col_indices = range(N)\n",
        "\n",
        "print(row_indices)\n",
        "print(col_indices)"
      ],
      "execution_count": null,
      "outputs": [
        {
          "output_type": "stream",
          "name": "stdout",
          "text": [
            "range(0, 8)\n",
            "range(0, 8)\n"
          ]
        }
      ]
    },
    {
      "cell_type": "code",
      "metadata": {
        "id": "ny1L1i__Ktkm",
        "colab": {
          "base_uri": "https://localhost:8080/"
        },
        "outputId": "6f431ea3-228d-4381-af92-46af7f0e0a35"
      },
      "source": [
        "#to get the contents of costs alone from the file we use the following\n",
        "for row_idx in row_indices:\n",
        "  for col_idx in col_indices:\n",
        "    print('cost[',row_idx,'][',col_idx+1,']:',data_csvfile.iloc[row_idx, col_idx+1])"
      ],
      "execution_count": null,
      "outputs": [
        {
          "output_type": "stream",
          "name": "stdout",
          "text": [
            "cost[ 0 ][ 1 ]: 827\n",
            "cost[ 0 ][ 2 ]: 817\n",
            "cost[ 0 ][ 3 ]: 1470\n",
            "cost[ 0 ][ 4 ]: 2272\n",
            "cost[ 0 ][ 5 ]: 1615\n",
            "cost[ 0 ][ 6 ]: 3143\n",
            "cost[ 0 ][ 7 ]: 1264\n",
            "cost[ 0 ][ 8 ]: 4465\n",
            "cost[ 1 ][ 1 ]: 559\n",
            "cost[ 1 ][ 2 ]: 1832\n",
            "cost[ 1 ][ 3 ]: 751\n",
            "cost[ 1 ][ 4 ]: 3772\n",
            "cost[ 1 ][ 5 ]: 637\n",
            "cost[ 1 ][ 6 ]: 3773\n",
            "cost[ 1 ][ 7 ]: 1856\n",
            "cost[ 1 ][ 8 ]: 5459\n",
            "cost[ 2 ][ 1 ]: 110\n",
            "cost[ 2 ][ 2 ]: 2443\n",
            "cost[ 2 ][ 3 ]: 577\n",
            "cost[ 2 ][ 4 ]: 3865\n",
            "cost[ 2 ][ 5 ]: 798\n",
            "cost[ 2 ][ 6 ]: 3521\n",
            "cost[ 2 ][ 7 ]: 1984\n",
            "cost[ 2 ][ 8 ]: 5303\n",
            "cost[ 3 ][ 1 ]: 2943\n",
            "cost[ 3 ][ 2 ]: 1471\n",
            "cost[ 3 ][ 3 ]: 4676\n",
            "cost[ 3 ][ 4 ]: 1337\n",
            "cost[ 3 ][ 5 ]: 2702\n",
            "cost[ 3 ][ 6 ]: 2741\n",
            "cost[ 3 ][ 7 ]: 2482\n",
            "cost[ 3 ][ 8 ]: 4148\n",
            "cost[ 4 ][ 1 ]: 3742\n",
            "cost[ 4 ][ 2 ]: 3089\n",
            "cost[ 4 ][ 3 ]: 2931\n",
            "cost[ 4 ][ 4 ]: 3199\n",
            "cost[ 4 ][ 5 ]: 2226\n",
            "cost[ 4 ][ 6 ]: 1739\n",
            "cost[ 4 ][ 7 ]: 1691\n",
            "cost[ 4 ][ 8 ]: 2128\n",
            "cost[ 5 ][ 1 ]: 2353\n",
            "cost[ 5 ][ 2 ]: 1160\n",
            "cost[ 5 ][ 3 ]: 3295\n",
            "cost[ 5 ][ 4 ]: 368\n",
            "cost[ 5 ][ 5 ]: 2369\n",
            "cost[ 5 ][ 6 ]: 2365\n",
            "cost[ 5 ][ 7 ]: 1293\n",
            "cost[ 5 ][ 8 ]: 3642\n",
            "cost[ 6 ][ 1 ]: 1356\n",
            "cost[ 6 ][ 2 ]: 1617\n",
            "cost[ 6 ][ 3 ]: 2045\n",
            "cost[ 6 ][ 4 ]: 2941\n",
            "cost[ 6 ][ 5 ]: 2334\n",
            "cost[ 6 ][ 6 ]: 4151\n",
            "cost[ 6 ][ 7 ]: 1937\n",
            "cost[ 6 ][ 8 ]: 4287\n",
            "cost[ 7 ][ 1 ]: 195\n",
            "cost[ 7 ][ 2 ]: 1862\n",
            "cost[ 7 ][ 3 ]: 1331\n",
            "cost[ 7 ][ 4 ]: 2921\n",
            "cost[ 7 ][ 5 ]: 402\n",
            "cost[ 7 ][ 6 ]: 2825\n",
            "cost[ 7 ][ 7 ]: 563\n",
            "cost[ 7 ][ 8 ]: 4441\n"
          ]
        }
      ]
    },
    {
      "cell_type": "code",
      "metadata": {
        "id": "GWlyoZdzpoNT"
      },
      "source": [
        "#declare the decision variables in the model\n",
        "model_lab6_ex1.x = Var(row_indices, col_indices, domain= NonNegativeIntegers)"
      ],
      "execution_count": null,
      "outputs": []
    },
    {
      "cell_type": "code",
      "metadata": {
        "id": "6AUcuaeEqDUm"
      },
      "source": [
        "model_lab6_ex1.objective = Objective(expr=sum(data_csvfile.iloc[i,j+1]*model_lab6_ex1.x[i,j] for i in row_indices for j in col_indices),sense=minimize)"
      ],
      "execution_count": null,
      "outputs": []
    },
    {
      "cell_type": "code",
      "metadata": {
        "id": "Mcu6irk6tQHz"
      },
      "source": [
        "model_lab6_ex1.constraints = ConstraintList()"
      ],
      "execution_count": null,
      "outputs": []
    },
    {
      "cell_type": "code",
      "metadata": {
        "id": "361XIzn3t_m2"
      },
      "source": [
        "#first we will add the available stock constraints\n",
        "for i in range(M):\n",
        "  model_lab6_ex1.constraints.add(expr=sum(model_lab6_ex1.x[i,j] for j in col_indices) <= data_csvfile.iloc[i,N+1])\n",
        "  \n",
        "#Now we will add the demand constraints\n",
        "for j in range(N):\n",
        "  model_lab6_ex1.constraints.add(expr=sum(model_lab6_ex1.x[i,j] for i in row_indices) == data_csvfile.iloc[M,j+1])"
      ],
      "execution_count": null,
      "outputs": []
    },
    {
      "cell_type": "code",
      "metadata": {
        "id": "hLjlmRD8eG_X",
        "colab": {
          "base_uri": "https://localhost:8080/"
        },
        "outputId": "6265261a-e8a5-41a2-ab49-d98fe1c48879"
      },
      "source": [
        "model_lab6_ex1.pprint()"
      ],
      "execution_count": null,
      "outputs": [
        {
          "output_type": "stream",
          "name": "stdout",
          "text": [
            "4 Set Declarations\n",
            "    constraints_index : Size=1, Index=None, Ordered=Insertion\n",
            "        Key  : Dimen : Domain : Size : Members\n",
            "        None :     1 :    Any :   16 : {1, 2, 3, 4, 5, 6, 7, 8, 9, 10, 11, 12, 13, 14, 15, 16}\n",
            "    x_index : Size=1, Index=None, Ordered=True\n",
            "        Key  : Dimen : Domain              : Size : Members\n",
            "        None :     2 : x_index_0*x_index_1 :   64 : {(0, 0), (0, 1), (0, 2), (0, 3), (0, 4), (0, 5), (0, 6), (0, 7), (1, 0), (1, 1), (1, 2), (1, 3), (1, 4), (1, 5), (1, 6), (1, 7), (2, 0), (2, 1), (2, 2), (2, 3), (2, 4), (2, 5), (2, 6), (2, 7), (3, 0), (3, 1), (3, 2), (3, 3), (3, 4), (3, 5), (3, 6), (3, 7), (4, 0), (4, 1), (4, 2), (4, 3), (4, 4), (4, 5), (4, 6), (4, 7), (5, 0), (5, 1), (5, 2), (5, 3), (5, 4), (5, 5), (5, 6), (5, 7), (6, 0), (6, 1), (6, 2), (6, 3), (6, 4), (6, 5), (6, 6), (6, 7), (7, 0), (7, 1), (7, 2), (7, 3), (7, 4), (7, 5), (7, 6), (7, 7)}\n",
            "    x_index_0 : Size=1, Index=None, Ordered=Insertion\n",
            "        Key  : Dimen : Domain : Size : Members\n",
            "        None :     1 :    Any :    8 : {0, 1, 2, 3, 4, 5, 6, 7}\n",
            "    x_index_1 : Size=1, Index=None, Ordered=Insertion\n",
            "        Key  : Dimen : Domain : Size : Members\n",
            "        None :     1 :    Any :    8 : {0, 1, 2, 3, 4, 5, 6, 7}\n",
            "\n",
            "1 Var Declarations\n",
            "    x : Size=64, Index=x_index\n",
            "        Key    : Lower : Value : Upper : Fixed : Stale : Domain\n",
            "        (0, 0) :     0 :  None :  None : False :  True : NonNegativeIntegers\n",
            "        (0, 1) :     0 :  None :  None : False :  True : NonNegativeIntegers\n",
            "        (0, 2) :     0 :  None :  None : False :  True : NonNegativeIntegers\n",
            "        (0, 3) :     0 :  None :  None : False :  True : NonNegativeIntegers\n",
            "        (0, 4) :     0 :  None :  None : False :  True : NonNegativeIntegers\n",
            "        (0, 5) :     0 :  None :  None : False :  True : NonNegativeIntegers\n",
            "        (0, 6) :     0 :  None :  None : False :  True : NonNegativeIntegers\n",
            "        (0, 7) :     0 :  None :  None : False :  True : NonNegativeIntegers\n",
            "        (1, 0) :     0 :  None :  None : False :  True : NonNegativeIntegers\n",
            "        (1, 1) :     0 :  None :  None : False :  True : NonNegativeIntegers\n",
            "        (1, 2) :     0 :  None :  None : False :  True : NonNegativeIntegers\n",
            "        (1, 3) :     0 :  None :  None : False :  True : NonNegativeIntegers\n",
            "        (1, 4) :     0 :  None :  None : False :  True : NonNegativeIntegers\n",
            "        (1, 5) :     0 :  None :  None : False :  True : NonNegativeIntegers\n",
            "        (1, 6) :     0 :  None :  None : False :  True : NonNegativeIntegers\n",
            "        (1, 7) :     0 :  None :  None : False :  True : NonNegativeIntegers\n",
            "        (2, 0) :     0 :  None :  None : False :  True : NonNegativeIntegers\n",
            "        (2, 1) :     0 :  None :  None : False :  True : NonNegativeIntegers\n",
            "        (2, 2) :     0 :  None :  None : False :  True : NonNegativeIntegers\n",
            "        (2, 3) :     0 :  None :  None : False :  True : NonNegativeIntegers\n",
            "        (2, 4) :     0 :  None :  None : False :  True : NonNegativeIntegers\n",
            "        (2, 5) :     0 :  None :  None : False :  True : NonNegativeIntegers\n",
            "        (2, 6) :     0 :  None :  None : False :  True : NonNegativeIntegers\n",
            "        (2, 7) :     0 :  None :  None : False :  True : NonNegativeIntegers\n",
            "        (3, 0) :     0 :  None :  None : False :  True : NonNegativeIntegers\n",
            "        (3, 1) :     0 :  None :  None : False :  True : NonNegativeIntegers\n",
            "        (3, 2) :     0 :  None :  None : False :  True : NonNegativeIntegers\n",
            "        (3, 3) :     0 :  None :  None : False :  True : NonNegativeIntegers\n",
            "        (3, 4) :     0 :  None :  None : False :  True : NonNegativeIntegers\n",
            "        (3, 5) :     0 :  None :  None : False :  True : NonNegativeIntegers\n",
            "        (3, 6) :     0 :  None :  None : False :  True : NonNegativeIntegers\n",
            "        (3, 7) :     0 :  None :  None : False :  True : NonNegativeIntegers\n",
            "        (4, 0) :     0 :  None :  None : False :  True : NonNegativeIntegers\n",
            "        (4, 1) :     0 :  None :  None : False :  True : NonNegativeIntegers\n",
            "        (4, 2) :     0 :  None :  None : False :  True : NonNegativeIntegers\n",
            "        (4, 3) :     0 :  None :  None : False :  True : NonNegativeIntegers\n",
            "        (4, 4) :     0 :  None :  None : False :  True : NonNegativeIntegers\n",
            "        (4, 5) :     0 :  None :  None : False :  True : NonNegativeIntegers\n",
            "        (4, 6) :     0 :  None :  None : False :  True : NonNegativeIntegers\n",
            "        (4, 7) :     0 :  None :  None : False :  True : NonNegativeIntegers\n",
            "        (5, 0) :     0 :  None :  None : False :  True : NonNegativeIntegers\n",
            "        (5, 1) :     0 :  None :  None : False :  True : NonNegativeIntegers\n",
            "        (5, 2) :     0 :  None :  None : False :  True : NonNegativeIntegers\n",
            "        (5, 3) :     0 :  None :  None : False :  True : NonNegativeIntegers\n",
            "        (5, 4) :     0 :  None :  None : False :  True : NonNegativeIntegers\n",
            "        (5, 5) :     0 :  None :  None : False :  True : NonNegativeIntegers\n",
            "        (5, 6) :     0 :  None :  None : False :  True : NonNegativeIntegers\n",
            "        (5, 7) :     0 :  None :  None : False :  True : NonNegativeIntegers\n",
            "        (6, 0) :     0 :  None :  None : False :  True : NonNegativeIntegers\n",
            "        (6, 1) :     0 :  None :  None : False :  True : NonNegativeIntegers\n",
            "        (6, 2) :     0 :  None :  None : False :  True : NonNegativeIntegers\n",
            "        (6, 3) :     0 :  None :  None : False :  True : NonNegativeIntegers\n",
            "        (6, 4) :     0 :  None :  None : False :  True : NonNegativeIntegers\n",
            "        (6, 5) :     0 :  None :  None : False :  True : NonNegativeIntegers\n",
            "        (6, 6) :     0 :  None :  None : False :  True : NonNegativeIntegers\n",
            "        (6, 7) :     0 :  None :  None : False :  True : NonNegativeIntegers\n",
            "        (7, 0) :     0 :  None :  None : False :  True : NonNegativeIntegers\n",
            "        (7, 1) :     0 :  None :  None : False :  True : NonNegativeIntegers\n",
            "        (7, 2) :     0 :  None :  None : False :  True : NonNegativeIntegers\n",
            "        (7, 3) :     0 :  None :  None : False :  True : NonNegativeIntegers\n",
            "        (7, 4) :     0 :  None :  None : False :  True : NonNegativeIntegers\n",
            "        (7, 5) :     0 :  None :  None : False :  True : NonNegativeIntegers\n",
            "        (7, 6) :     0 :  None :  None : False :  True : NonNegativeIntegers\n",
            "        (7, 7) :     0 :  None :  None : False :  True : NonNegativeIntegers\n",
            "\n",
            "1 Objective Declarations\n",
            "    objective : Size=1, Index=None, Active=True\n",
            "        Key  : Active : Sense    : Expression\n",
            "        None :   True : minimize : 827*x[0,0] + 817*x[0,1] + 1470*x[0,2] + 2272*x[0,3] + 1615*x[0,4] + 3143*x[0,5] + 1264*x[0,6] + 4465*x[0,7] + 559*x[1,0] + 1832*x[1,1] + 751*x[1,2] + 3772*x[1,3] + 637*x[1,4] + 3773*x[1,5] + 1856*x[1,6] + 5459*x[1,7] + 110*x[2,0] + 2443*x[2,1] + 577*x[2,2] + 3865*x[2,3] + 798*x[2,4] + 3521*x[2,5] + 1984*x[2,6] + 5303*x[2,7] + 2943*x[3,0] + 1471*x[3,1] + 4676*x[3,2] + 1337*x[3,3] + 2702*x[3,4] + 2741*x[3,5] + 2482*x[3,6] + 4148*x[3,7] + 3742*x[4,0] + 3089*x[4,1] + 2931*x[4,2] + 3199*x[4,3] + 2226*x[4,4] + 1739*x[4,5] + 1691*x[4,6] + 2128*x[4,7] + 2353*x[5,0] + 1160*x[5,1] + 3295*x[5,2] + 368*x[5,3] + 2369*x[5,4] + 2365*x[5,5] + 1293*x[5,6] + 3642*x[5,7] + 1356*x[6,0] + 1617*x[6,1] + 2045*x[6,2] + 2941*x[6,3] + 2334*x[6,4] + 4151*x[6,5] + 1937*x[6,6] + 4287*x[6,7] + 195*x[7,0] + 1862*x[7,1] + 1331*x[7,2] + 2921*x[7,3] + 402*x[7,4] + 2825*x[7,5] + 563*x[7,6] + 4441*x[7,7]\n",
            "\n",
            "1 Constraint Declarations\n",
            "    constraints : Size=16, Index=constraints_index, Active=True\n",
            "        Key : Lower : Body                                                                  : Upper : Active\n",
            "          1 :  -Inf : x[0,0] + x[0,1] + x[0,2] + x[0,3] + x[0,4] + x[0,5] + x[0,6] + x[0,7] : 350.0 :   True\n",
            "          2 :  -Inf : x[1,0] + x[1,1] + x[1,2] + x[1,3] + x[1,4] + x[1,5] + x[1,6] + x[1,7] : 185.0 :   True\n",
            "          3 :  -Inf : x[2,0] + x[2,1] + x[2,2] + x[2,3] + x[2,4] + x[2,5] + x[2,6] + x[2,7] : 305.0 :   True\n",
            "          4 :  -Inf : x[3,0] + x[3,1] + x[3,2] + x[3,3] + x[3,4] + x[3,5] + x[3,6] + x[3,7] : 180.0 :   True\n",
            "          5 :  -Inf : x[4,0] + x[4,1] + x[4,2] + x[4,3] + x[4,4] + x[4,5] + x[4,6] + x[4,7] : 205.0 :   True\n",
            "          6 :  -Inf : x[5,0] + x[5,1] + x[5,2] + x[5,3] + x[5,4] + x[5,5] + x[5,6] + x[5,7] : 175.0 :   True\n",
            "          7 :  -Inf : x[6,0] + x[6,1] + x[6,2] + x[6,3] + x[6,4] + x[6,5] + x[6,6] + x[6,7] : 325.0 :   True\n",
            "          8 :  -Inf : x[7,0] + x[7,1] + x[7,2] + x[7,3] + x[7,4] + x[7,5] + x[7,6] + x[7,7] : 370.0 :   True\n",
            "          9 : 205.0 : x[0,0] + x[1,0] + x[2,0] + x[3,0] + x[4,0] + x[5,0] + x[6,0] + x[7,0] : 205.0 :   True\n",
            "         10 : 300.0 : x[0,1] + x[1,1] + x[2,1] + x[3,1] + x[4,1] + x[5,1] + x[6,1] + x[7,1] : 300.0 :   True\n",
            "         11 : 425.0 : x[0,2] + x[1,2] + x[2,2] + x[3,2] + x[4,2] + x[5,2] + x[6,2] + x[7,2] : 425.0 :   True\n",
            "         12 : 270.0 : x[0,3] + x[1,3] + x[2,3] + x[3,3] + x[4,3] + x[5,3] + x[6,3] + x[7,3] : 270.0 :   True\n",
            "         13 : 375.0 : x[0,4] + x[1,4] + x[2,4] + x[3,4] + x[4,4] + x[5,4] + x[6,4] + x[7,4] : 375.0 :   True\n",
            "         14 : 225.0 : x[0,5] + x[1,5] + x[2,5] + x[3,5] + x[4,5] + x[5,5] + x[6,5] + x[7,5] : 225.0 :   True\n",
            "         15 : 185.0 : x[0,6] + x[1,6] + x[2,6] + x[3,6] + x[4,6] + x[5,6] + x[6,6] + x[7,6] : 185.0 :   True\n",
            "         16 : 110.0 : x[0,7] + x[1,7] + x[2,7] + x[3,7] + x[4,7] + x[5,7] + x[6,7] + x[7,7] : 110.0 :   True\n",
            "\n",
            "7 Declarations: x_index_0 x_index_1 x_index x objective constraints_index constraints\n"
          ]
        }
      ]
    },
    {
      "cell_type": "code",
      "metadata": {
        "id": "rhSG6IRMfclR"
      },
      "source": [
        "!apt-get install -y -qq coinor-cbc"
      ],
      "execution_count": null,
      "outputs": []
    },
    {
      "cell_type": "code",
      "metadata": {
        "id": "Sq3CpPcCeIBC"
      },
      "source": [
        "opt_cbc = SolverFactory('cbc')"
      ],
      "execution_count": null,
      "outputs": []
    },
    {
      "cell_type": "code",
      "metadata": {
        "id": "ANOu9qtsMgJQ",
        "colab": {
          "base_uri": "https://localhost:8080/"
        },
        "outputId": "04736a65-7096-4b41-9b84-f3f526223264"
      },
      "source": [
        "result = opt_cbc.solve(model_lab6_ex1)\n",
        "print('Solver status:', result.solver.status)\n",
        "print('Solver termination condition:',result.solver.termination_condition)"
      ],
      "execution_count": null,
      "outputs": [
        {
          "output_type": "stream",
          "name": "stdout",
          "text": [
            "Solver status: ok\n",
            "Solver termination condition: optimal\n"
          ]
        }
      ]
    },
    {
      "cell_type": "code",
      "metadata": {
        "id": "WQZHDR3afKj5",
        "colab": {
          "base_uri": "https://localhost:8080/"
        },
        "outputId": "ae38e6bf-0cec-4e42-97ff-17598092df7e"
      },
      "source": [
        "/# display solution\n",
        "print('\\nObjective = ', model_lab6_ex1.objective())\n",
        "\n",
        "print('\\nDecision Variables')\n",
        "for i in row_indices:\n",
        "  for j in col_indices:\n",
        "    print('Number of truckloads of EVs between',data_csvfile['Warehouses/Markets'][i],'and', data_csvfile.columns[j+1],':', model_lab6_ex1.x[i,j].value)\n",
        "\n",
        "print('\\nConstraints')\n",
        "model_lab6_ex1.constraints.display()"
      ],
      "execution_count": null,
      "outputs": [
        {
          "output_type": "stream",
          "name": "stdout",
          "text": [
            "\n",
            "Objective =  2192870.0\n",
            "\n",
            "Decision Variables\n",
            "Number of truckloads of EVs between Ahmedabad and Hassan : 0.0\n",
            "Number of truckloads of EVs between Ahmedabad and Jodhpur : 300.0\n",
            "Number of truckloads of EVs between Ahmedabad and Trichy : 0.0\n",
            "Number of truckloads of EVs between Ahmedabad and Simla : 0.0\n",
            "Number of truckloads of EVs between Ahmedabad and Vijayawada : 0.0\n",
            "Number of truckloads of EVs between Ahmedabad and Dibrugarh : 45.0\n",
            "Number of truckloads of EVs between Ahmedabad and Raipur : 5.0\n",
            "Number of truckloads of EVs between Ahmedabad and Agartala : 0.0\n",
            "Number of truckloads of EVs between Bengaluru and Hassan : 0.0\n",
            "Number of truckloads of EVs between Bengaluru and Jodhpur : 0.0\n",
            "Number of truckloads of EVs between Bengaluru and Trichy : 120.0\n",
            "Number of truckloads of EVs between Bengaluru and Simla : 0.0\n",
            "Number of truckloads of EVs between Bengaluru and Vijayawada : 65.0\n",
            "Number of truckloads of EVs between Bengaluru and Dibrugarh : 0.0\n",
            "Number of truckloads of EVs between Bengaluru and Raipur : 0.0\n",
            "Number of truckloads of EVs between Bengaluru and Agartala : 0.0\n",
            "Number of truckloads of EVs between Chennai and Hassan : 0.0\n",
            "Number of truckloads of EVs between Chennai and Jodhpur : 0.0\n",
            "Number of truckloads of EVs between Chennai and Trichy : 305.0\n",
            "Number of truckloads of EVs between Chennai and Simla : 0.0\n",
            "Number of truckloads of EVs between Chennai and Vijayawada : 0.0\n",
            "Number of truckloads of EVs between Chennai and Dibrugarh : 0.0\n",
            "Number of truckloads of EVs between Chennai and Raipur : 0.0\n",
            "Number of truckloads of EVs between Chennai and Agartala : 0.0\n",
            "Number of truckloads of EVs between Delhi and Hassan : 0.0\n",
            "Number of truckloads of EVs between Delhi and Jodhpur : 0.0\n",
            "Number of truckloads of EVs between Delhi and Trichy : 0.0\n",
            "Number of truckloads of EVs between Delhi and Simla : 95.0\n",
            "Number of truckloads of EVs between Delhi and Vijayawada : 0.0\n",
            "Number of truckloads of EVs between Delhi and Dibrugarh : 85.0\n",
            "Number of truckloads of EVs between Delhi and Raipur : 0.0\n",
            "Number of truckloads of EVs between Delhi and Agartala : 0.0\n",
            "Number of truckloads of EVs between Kolkata and Hassan : 0.0\n",
            "Number of truckloads of EVs between Kolkata and Jodhpur : 0.0\n",
            "Number of truckloads of EVs between Kolkata and Trichy : 0.0\n",
            "Number of truckloads of EVs between Kolkata and Simla : 0.0\n",
            "Number of truckloads of EVs between Kolkata and Vijayawada : 0.0\n",
            "Number of truckloads of EVs between Kolkata and Dibrugarh : 95.0\n",
            "Number of truckloads of EVs between Kolkata and Raipur : 0.0\n",
            "Number of truckloads of EVs between Kolkata and Agartala : 110.0\n",
            "Number of truckloads of EVs between Lucknow and Hassan : 0.0\n",
            "Number of truckloads of EVs between Lucknow and Jodhpur : 0.0\n",
            "Number of truckloads of EVs between Lucknow and Trichy : 0.0\n",
            "Number of truckloads of EVs between Lucknow and Simla : 175.0\n",
            "Number of truckloads of EVs between Lucknow and Vijayawada : 0.0\n",
            "Number of truckloads of EVs between Lucknow and Dibrugarh : 0.0\n",
            "Number of truckloads of EVs between Lucknow and Raipur : 0.0\n",
            "Number of truckloads of EVs between Lucknow and Agartala : 0.0\n",
            "Number of truckloads of EVs between Mumbai and Hassan : 205.0\n",
            "Number of truckloads of EVs between Mumbai and Jodhpur : 0.0\n",
            "Number of truckloads of EVs between Mumbai and Trichy : 0.0\n",
            "Number of truckloads of EVs between Mumbai and Simla : 0.0\n",
            "Number of truckloads of EVs between Mumbai and Vijayawada : 0.0\n",
            "Number of truckloads of EVs between Mumbai and Dibrugarh : 0.0\n",
            "Number of truckloads of EVs between Mumbai and Raipur : 120.0\n",
            "Number of truckloads of EVs between Mumbai and Agartala : 0.0\n",
            "Number of truckloads of EVs between Hyderabad and Hassan : 0.0\n",
            "Number of truckloads of EVs between Hyderabad and Jodhpur : 0.0\n",
            "Number of truckloads of EVs between Hyderabad and Trichy : 0.0\n",
            "Number of truckloads of EVs between Hyderabad and Simla : 0.0\n",
            "Number of truckloads of EVs between Hyderabad and Vijayawada : 310.0\n",
            "Number of truckloads of EVs between Hyderabad and Dibrugarh : 0.0\n",
            "Number of truckloads of EVs between Hyderabad and Raipur : 60.0\n",
            "Number of truckloads of EVs between Hyderabad and Agartala : 0.0\n",
            "\n",
            "Constraints\n",
            "constraints : Size=16\n",
            "    Key : Lower : Body  : Upper\n",
            "      1 :  None : 350.0 : 350.0\n",
            "      2 :  None : 185.0 : 185.0\n",
            "      3 :  None : 305.0 : 305.0\n",
            "      4 :  None : 180.0 : 180.0\n",
            "      5 :  None : 205.0 : 205.0\n",
            "      6 :  None : 175.0 : 175.0\n",
            "      7 :  None : 325.0 : 325.0\n",
            "      8 :  None : 370.0 : 370.0\n",
            "      9 : 205.0 : 205.0 : 205.0\n",
            "     10 : 300.0 : 300.0 : 300.0\n",
            "     11 : 425.0 : 425.0 : 425.0\n",
            "     12 : 270.0 : 270.0 : 270.0\n",
            "     13 : 375.0 : 375.0 : 375.0\n",
            "     14 : 225.0 : 225.0 : 225.0\n",
            "     15 : 185.0 : 185.0 : 185.0\n",
            "     16 : 110.0 : 110.0 : 110.0\n"
          ]
        }
      ]
    },
    {
      "cell_type": "code",
      "source": [
        "data_csvfile.iloc[5,4]=10000000000"
      ],
      "metadata": {
        "id": "fERjYz44k1ZZ"
      },
      "execution_count": null,
      "outputs": []
    },
    {
      "cell_type": "code",
      "source": [
        "model_lab6_ex1.objective = Objective(expr=sum(data_csvfile.iloc[i,j+1]*model_lab6_ex1.x[i,j] for i in row_indices for j in col_indices),sense=minimize)"
      ],
      "metadata": {
        "colab": {
          "base_uri": "https://localhost:8080/"
        },
        "id": "u_mTMPfMqNHi",
        "outputId": "1802a557-cd6d-48be-93f7-cdfe187cc15e"
      },
      "execution_count": null,
      "outputs": [
        {
          "output_type": "stream",
          "name": "stderr",
          "text": [
            "WARNING:pyomo.core:Implicitly replacing the Component attribute objective (type=<class 'pyomo.core.base.objective.ScalarObjective'>) on block unknown with a new Component (type=<class 'pyomo.core.base.objective.ScalarObjective'>).\n",
            "This is usually indicative of a modelling error.\n",
            "To avoid this warning, use block.del_component() and block.add_component().\n"
          ]
        }
      ]
    },
    {
      "cell_type": "code",
      "source": [
        "result = opt_cbc.solve(model_lab6_ex1)\n",
        "print('Solver status:', result.solver.status)\n",
        "print('Solver termination condition:',result.solver.termination_condition)"
      ],
      "metadata": {
        "colab": {
          "base_uri": "https://localhost:8080/"
        },
        "id": "Bl03LwKZpJjP",
        "outputId": "47bccd9f-4d7a-4880-9e80-f99d81be82a9"
      },
      "execution_count": null,
      "outputs": [
        {
          "output_type": "stream",
          "name": "stdout",
          "text": [
            "Solver status: ok\n",
            "Solver termination condition: optimal\n"
          ]
        }
      ]
    },
    {
      "cell_type": "code",
      "source": [
        "/# display solution\n",
        "print('\\nObjective = ', model_lab6_ex1.objective())\n",
        "\n",
        "print('\\nDecision Variables')\n",
        "for i in row_indices:\n",
        "  for j in col_indices:\n",
        "    print('Number of truckloads of EVs between',data_csvfile['Warehouses/Markets'][i],'and', data_csvfile.columns[j+1],':', model_lab6_ex1.x[i,j].value)\n",
        "\n",
        "print('\\nConstraints')\n",
        "model_lab6_ex1.constraints.display()"
      ],
      "metadata": {
        "colab": {
          "base_uri": "https://localhost:8080/"
        },
        "id": "4aV2I85upbYJ",
        "outputId": "1c5ffc56-aa8e-4115-c2ec-5b07c1435233"
      },
      "execution_count": null,
      "outputs": [
        {
          "output_type": "stream",
          "name": "stdout",
          "text": [
            "\n",
            "Objective =  2380570.0\n",
            "\n",
            "Decision Variables\n",
            "Number of truckloads of EVs between Ahmedabad and Hassan : 0.0\n",
            "Number of truckloads of EVs between Ahmedabad and Jodhpur : 300.0\n",
            "Number of truckloads of EVs between Ahmedabad and Trichy : 0.0\n",
            "Number of truckloads of EVs between Ahmedabad and Simla : 0.0\n",
            "Number of truckloads of EVs between Ahmedabad and Vijayawada : 0.0\n",
            "Number of truckloads of EVs between Ahmedabad and Dibrugarh : 0.0\n",
            "Number of truckloads of EVs between Ahmedabad and Raipur : 50.0\n",
            "Number of truckloads of EVs between Ahmedabad and Agartala : 0.0\n",
            "Number of truckloads of EVs between Bengaluru and Hassan : 0.0\n",
            "Number of truckloads of EVs between Bengaluru and Jodhpur : 0.0\n",
            "Number of truckloads of EVs between Bengaluru and Trichy : 120.0\n",
            "Number of truckloads of EVs between Bengaluru and Simla : 0.0\n",
            "Number of truckloads of EVs between Bengaluru and Vijayawada : 65.0\n",
            "Number of truckloads of EVs between Bengaluru and Dibrugarh : 0.0\n",
            "Number of truckloads of EVs between Bengaluru and Raipur : 0.0\n",
            "Number of truckloads of EVs between Bengaluru and Agartala : 0.0\n",
            "Number of truckloads of EVs between Chennai and Hassan : 0.0\n",
            "Number of truckloads of EVs between Chennai and Jodhpur : 0.0\n",
            "Number of truckloads of EVs between Chennai and Trichy : 305.0\n",
            "Number of truckloads of EVs between Chennai and Simla : 0.0\n",
            "Number of truckloads of EVs between Chennai and Vijayawada : 0.0\n",
            "Number of truckloads of EVs between Chennai and Dibrugarh : 0.0\n",
            "Number of truckloads of EVs between Chennai and Raipur : 0.0\n",
            "Number of truckloads of EVs between Chennai and Agartala : 0.0\n",
            "Number of truckloads of EVs between Delhi and Hassan : 0.0\n",
            "Number of truckloads of EVs between Delhi and Jodhpur : 0.0\n",
            "Number of truckloads of EVs between Delhi and Trichy : 0.0\n",
            "Number of truckloads of EVs between Delhi and Simla : 180.0\n",
            "Number of truckloads of EVs between Delhi and Vijayawada : 0.0\n",
            "Number of truckloads of EVs between Delhi and Dibrugarh : 0.0\n",
            "Number of truckloads of EVs between Delhi and Raipur : 0.0\n",
            "Number of truckloads of EVs between Delhi and Agartala : 0.0\n",
            "Number of truckloads of EVs between Kolkata and Hassan : 0.0\n",
            "Number of truckloads of EVs between Kolkata and Jodhpur : 0.0\n",
            "Number of truckloads of EVs between Kolkata and Trichy : 0.0\n",
            "Number of truckloads of EVs between Kolkata and Simla : 0.0\n",
            "Number of truckloads of EVs between Kolkata and Vijayawada : 0.0\n",
            "Number of truckloads of EVs between Kolkata and Dibrugarh : 95.0\n",
            "Number of truckloads of EVs between Kolkata and Raipur : 0.0\n",
            "Number of truckloads of EVs between Kolkata and Agartala : 110.0\n",
            "Number of truckloads of EVs between Lucknow and Hassan : 0.0\n",
            "Number of truckloads of EVs between Lucknow and Jodhpur : 0.0\n",
            "Number of truckloads of EVs between Lucknow and Trichy : 0.0\n",
            "Number of truckloads of EVs between Lucknow and Simla : 0.0\n",
            "Number of truckloads of EVs between Lucknow and Vijayawada : 0.0\n",
            "Number of truckloads of EVs between Lucknow and Dibrugarh : 130.0\n",
            "Number of truckloads of EVs between Lucknow and Raipur : 45.0\n",
            "Number of truckloads of EVs between Lucknow and Agartala : 0.0\n",
            "Number of truckloads of EVs between Mumbai and Hassan : 205.0\n",
            "Number of truckloads of EVs between Mumbai and Jodhpur : 0.0\n",
            "Number of truckloads of EVs between Mumbai and Trichy : 0.0\n",
            "Number of truckloads of EVs between Mumbai and Simla : 90.0\n",
            "Number of truckloads of EVs between Mumbai and Vijayawada : 0.0\n",
            "Number of truckloads of EVs between Mumbai and Dibrugarh : 0.0\n",
            "Number of truckloads of EVs between Mumbai and Raipur : 30.0\n",
            "Number of truckloads of EVs between Mumbai and Agartala : 0.0\n",
            "Number of truckloads of EVs between Hyderabad and Hassan : 0.0\n",
            "Number of truckloads of EVs between Hyderabad and Jodhpur : 0.0\n",
            "Number of truckloads of EVs between Hyderabad and Trichy : 0.0\n",
            "Number of truckloads of EVs between Hyderabad and Simla : 0.0\n",
            "Number of truckloads of EVs between Hyderabad and Vijayawada : 310.0\n",
            "Number of truckloads of EVs between Hyderabad and Dibrugarh : 0.0\n",
            "Number of truckloads of EVs between Hyderabad and Raipur : 60.0\n",
            "Number of truckloads of EVs between Hyderabad and Agartala : 0.0\n",
            "\n",
            "Constraints\n",
            "constraints : Size=16\n",
            "    Key : Lower : Body  : Upper\n",
            "      1 :  None : 350.0 : 350.0\n",
            "      2 :  None : 185.0 : 185.0\n",
            "      3 :  None : 305.0 : 305.0\n",
            "      4 :  None : 180.0 : 180.0\n",
            "      5 :  None : 205.0 : 205.0\n",
            "      6 :  None : 175.0 : 175.0\n",
            "      7 :  None : 325.0 : 325.0\n",
            "      8 :  None : 370.0 : 370.0\n",
            "      9 : 205.0 : 205.0 : 205.0\n",
            "     10 : 300.0 : 300.0 : 300.0\n",
            "     11 : 425.0 : 425.0 : 425.0\n",
            "     12 : 270.0 : 270.0 : 270.0\n",
            "     13 : 375.0 : 375.0 : 375.0\n",
            "     14 : 225.0 : 225.0 : 225.0\n",
            "     15 : 185.0 : 185.0 : 185.0\n",
            "     16 : 110.0 : 110.0 : 110.0\n"
          ]
        }
      ]
    },
    {
      "cell_type": "code",
      "source": [
        "data_csvfile.iloc[4,6]=10000000000"
      ],
      "metadata": {
        "id": "VUYq9ppyms__"
      },
      "execution_count": null,
      "outputs": []
    },
    {
      "cell_type": "code",
      "source": [
        "data_csvfile.iloc[3,7]=10000000000"
      ],
      "metadata": {
        "id": "k4D_zXdeodP5"
      },
      "execution_count": null,
      "outputs": []
    },
    {
      "cell_type": "code",
      "source": [
        "model_lab6_ex1.objective = Objective(expr=sum(data_csvfile.iloc[i,j+1]*model_lab6_ex1.x[i,j] for i in row_indices for j in col_indices),sense=minimize)"
      ],
      "metadata": {
        "colab": {
          "base_uri": "https://localhost:8080/"
        },
        "id": "OrBz11aFsrIV",
        "outputId": "a4f4ea79-b598-4273-b723-5cbb0c46f496"
      },
      "execution_count": null,
      "outputs": [
        {
          "output_type": "stream",
          "name": "stderr",
          "text": [
            "WARNING:pyomo.core:Implicitly replacing the Component attribute objective (type=<class 'pyomo.core.base.objective.ScalarObjective'>) on block unknown with a new Component (type=<class 'pyomo.core.base.objective.ScalarObjective'>).\n",
            "This is usually indicative of a modelling error.\n",
            "To avoid this warning, use block.del_component() and block.add_component().\n"
          ]
        }
      ]
    },
    {
      "cell_type": "code",
      "source": [
        "result = opt_cbc.solve(model_lab6_ex1)\n",
        "print('Solver status:', result.solver.status)\n",
        "print('Solver termination condition:',result.solver.termination_condition)"
      ],
      "metadata": {
        "colab": {
          "base_uri": "https://localhost:8080/"
        },
        "id": "Ue7vinbApKR3",
        "outputId": "d6cfec07-5532-441e-e39f-03410df5a696"
      },
      "execution_count": null,
      "outputs": [
        {
          "output_type": "stream",
          "name": "stdout",
          "text": [
            "Solver status: ok\n",
            "Solver termination condition: optimal\n"
          ]
        }
      ]
    },
    {
      "cell_type": "code",
      "source": [
        "/# display solution\n",
        "print('\\nObjective = ', model_lab6_ex1.objective())\n",
        "\n",
        "print('\\nDecision Variables')\n",
        "for i in row_indices:\n",
        "  for j in col_indices:\n",
        "    print('Number of truckloads of EVs between',data_csvfile['Warehouses/Markets'][i],'and', data_csvfile.columns[j+1],':', model_lab6_ex1.x[i,j].value)\n",
        "\n",
        "print('\\nConstraints')\n",
        "model_lab6_ex1.constraints.display()"
      ],
      "metadata": {
        "colab": {
          "base_uri": "https://localhost:8080/"
        },
        "id": "q_nr8SGfpfr-",
        "outputId": "838911dd-5cea-4d9b-ab06-f8520f430915"
      },
      "execution_count": null,
      "outputs": [
        {
          "output_type": "stream",
          "name": "stdout",
          "text": [
            "\n",
            "Objective =  2518200.0\n",
            "\n",
            "Decision Variables\n",
            "Number of truckloads of EVs between Ahmedabad and Hassan : 0.0\n",
            "Number of truckloads of EVs between Ahmedabad and Jodhpur : 300.0\n",
            "Number of truckloads of EVs between Ahmedabad and Trichy : 0.0\n",
            "Number of truckloads of EVs between Ahmedabad and Simla : 0.0\n",
            "Number of truckloads of EVs between Ahmedabad and Vijayawada : 0.0\n",
            "Number of truckloads of EVs between Ahmedabad and Dibrugarh : 50.0\n",
            "Number of truckloads of EVs between Ahmedabad and Raipur : 0.0\n",
            "Number of truckloads of EVs between Ahmedabad and Agartala : 0.0\n",
            "Number of truckloads of EVs between Bengaluru and Hassan : 0.0\n",
            "Number of truckloads of EVs between Bengaluru and Jodhpur : 0.0\n",
            "Number of truckloads of EVs between Bengaluru and Trichy : 120.0\n",
            "Number of truckloads of EVs between Bengaluru and Simla : 0.0\n",
            "Number of truckloads of EVs between Bengaluru and Vijayawada : 65.0\n",
            "Number of truckloads of EVs between Bengaluru and Dibrugarh : 0.0\n",
            "Number of truckloads of EVs between Bengaluru and Raipur : 0.0\n",
            "Number of truckloads of EVs between Bengaluru and Agartala : 0.0\n",
            "Number of truckloads of EVs between Chennai and Hassan : 0.0\n",
            "Number of truckloads of EVs between Chennai and Jodhpur : 0.0\n",
            "Number of truckloads of EVs between Chennai and Trichy : 305.0\n",
            "Number of truckloads of EVs between Chennai and Simla : 0.0\n",
            "Number of truckloads of EVs between Chennai and Vijayawada : 0.0\n",
            "Number of truckloads of EVs between Chennai and Dibrugarh : 0.0\n",
            "Number of truckloads of EVs between Chennai and Raipur : 0.0\n",
            "Number of truckloads of EVs between Chennai and Agartala : 0.0\n",
            "Number of truckloads of EVs between Delhi and Hassan : 0.0\n",
            "Number of truckloads of EVs between Delhi and Jodhpur : 0.0\n",
            "Number of truckloads of EVs between Delhi and Trichy : 0.0\n",
            "Number of truckloads of EVs between Delhi and Simla : 180.0\n",
            "Number of truckloads of EVs between Delhi and Vijayawada : 0.0\n",
            "Number of truckloads of EVs between Delhi and Dibrugarh : 0.0\n",
            "Number of truckloads of EVs between Delhi and Raipur : 0.0\n",
            "Number of truckloads of EVs between Delhi and Agartala : 0.0\n",
            "Number of truckloads of EVs between Kolkata and Hassan : 0.0\n",
            "Number of truckloads of EVs between Kolkata and Jodhpur : 0.0\n",
            "Number of truckloads of EVs between Kolkata and Trichy : 0.0\n",
            "Number of truckloads of EVs between Kolkata and Simla : 0.0\n",
            "Number of truckloads of EVs between Kolkata and Vijayawada : 0.0\n",
            "Number of truckloads of EVs between Kolkata and Dibrugarh : 0.0\n",
            "Number of truckloads of EVs between Kolkata and Raipur : 95.0\n",
            "Number of truckloads of EVs between Kolkata and Agartala : 110.0\n",
            "Number of truckloads of EVs between Lucknow and Hassan : 0.0\n",
            "Number of truckloads of EVs between Lucknow and Jodhpur : 0.0\n",
            "Number of truckloads of EVs between Lucknow and Trichy : 0.0\n",
            "Number of truckloads of EVs between Lucknow and Simla : 0.0\n",
            "Number of truckloads of EVs between Lucknow and Vijayawada : 0.0\n",
            "Number of truckloads of EVs between Lucknow and Dibrugarh : 175.0\n",
            "Number of truckloads of EVs between Lucknow and Raipur : 0.0\n",
            "Number of truckloads of EVs between Lucknow and Agartala : 0.0\n",
            "Number of truckloads of EVs between Mumbai and Hassan : 205.0\n",
            "Number of truckloads of EVs between Mumbai and Jodhpur : 0.0\n",
            "Number of truckloads of EVs between Mumbai and Trichy : 0.0\n",
            "Number of truckloads of EVs between Mumbai and Simla : 90.0\n",
            "Number of truckloads of EVs between Mumbai and Vijayawada : 0.0\n",
            "Number of truckloads of EVs between Mumbai and Dibrugarh : 0.0\n",
            "Number of truckloads of EVs between Mumbai and Raipur : 30.0\n",
            "Number of truckloads of EVs between Mumbai and Agartala : 0.0\n",
            "Number of truckloads of EVs between Hyderabad and Hassan : 0.0\n",
            "Number of truckloads of EVs between Hyderabad and Jodhpur : 0.0\n",
            "Number of truckloads of EVs between Hyderabad and Trichy : 0.0\n",
            "Number of truckloads of EVs between Hyderabad and Simla : 0.0\n",
            "Number of truckloads of EVs between Hyderabad and Vijayawada : 310.0\n",
            "Number of truckloads of EVs between Hyderabad and Dibrugarh : 0.0\n",
            "Number of truckloads of EVs between Hyderabad and Raipur : 60.0\n",
            "Number of truckloads of EVs between Hyderabad and Agartala : 0.0\n",
            "\n",
            "Constraints\n",
            "constraints : Size=16\n",
            "    Key : Lower : Body  : Upper\n",
            "      1 :  None : 350.0 : 350.0\n",
            "      2 :  None : 185.0 : 185.0\n",
            "      3 :  None : 305.0 : 305.0\n",
            "      4 :  None : 180.0 : 180.0\n",
            "      5 :  None : 205.0 : 205.0\n",
            "      6 :  None : 175.0 : 175.0\n",
            "      7 :  None : 325.0 : 325.0\n",
            "      8 :  None : 370.0 : 370.0\n",
            "      9 : 205.0 : 205.0 : 205.0\n",
            "     10 : 300.0 : 300.0 : 300.0\n",
            "     11 : 425.0 : 425.0 : 425.0\n",
            "     12 : 270.0 : 270.0 : 270.0\n",
            "     13 : 375.0 : 375.0 : 375.0\n",
            "     14 : 225.0 : 225.0 : 225.0\n",
            "     15 : 185.0 : 185.0 : 185.0\n",
            "     16 : 110.0 : 110.0 : 110.0\n"
          ]
        }
      ]
    },
    {
      "cell_type": "markdown",
      "source": [
        "**Answer 1:**\n",
        "\n",
        "Minimize 827$x_{0,0}$ + 817$x_{0,1}$ + 1470$x_{0,2}$ + 2272$x_{0,3}$ + 1615$x_{0,4}$ + 3143$x_{0,5}$ + 1264$x_{0,6}$ + 4465$x_{0,7}$ + 559$x_{1,0}$ + 1832$x_{1,1}$ + 751$x_{1,2}$ + 3772$x_{1,3}$ + 637$x_{1,4}$ + 3773$x_{1,5}$ + 1856$x_{1,6}$ + 5459$x_{1,7}$ + 110$x_{2,0}$ + 2443$x_{2,1}$ + 577$x_{2,2}$ + 3865$x_{2,3}$ + 798$x_{2,4}$ + 3521$x_{2,5}$ + 1984$x_{2,6}$ + 5303$x_{2,7}$ + 2943$x_{3,0}$ + 1471$x_{3,1}$ + 4676$x_{3,2}$ + 1337$x_{3,3}$ + 2702$x_{3,4}$ + 2741$x_{3,5}$ + 2482$x_{3,6}$ + 4148$x_{3,7}$ + 3742$x_{4,0}$ + 3089$x_{4,1}$ + 2931$x_{4,2}$ + 3199$x_{4,3}$ + 2226$x_{4,4}$ + 1739$x_{4,5}$ + 1691$x_{4,6}$ + 2128$x_{4,7}$ + 2353$x_{5,0}$ + 1160$x_{5,1}$ + 3295$x_{5,2}$ + 368$x_{5,3}$ + 2369$x_{5,4}$ + 2365$x_{5,5}$ + 1293$x_{5,6}$ + 3642$x_{5,7}$ + 1356$x_{6,0}$ + 1617$x_{6,1}$ + 2045$x_{6,2}$ + 2941$x_{6,3}$ + 2334$x_{6,4}$ + 4151$x_{6,5}$ + 1937$x_{6,6}$ + 4287$x_{6,7}$ + 195$x_{7,0}$ + 1862$x_{7,1}$ + 1331$x_{7,2}$ + 2921$x_{7,3}$ + 402$x_{7,4}$ + 2825$x_{7,5}$ + 563$x_{7,6}$ + 4441$x_{7,7}$\n",
        "\n",
        "subject to constraints \n",
        "\n",
        "$x_{0,0}$ + $x_{0,1}$ + $x_{0,2}$ + $x_{0,3}$ + $x_{0,4}$ + $x_{0,5}$ + $x_{0,6}$ + $x_{0,7}$ $\\leq$ 350.0\n",
        "\n",
        "$x_{1,0}$ + $x_{1,1}$ + $x_{1,2}$ + $x_{1,3}$ + $x_{1,4}$ + $x_{1,5}$ + $x_{1,6}$ + $x_{1,7}$ $\\leq$ 185.0\n",
        "\n",
        "$x_{2,0}$ + $x_{2,1}$ + $x_{2,2}$ + $x_{2,3}$ + $x_{2,4}$ + $x_{2,5}$ + $x_{2,6}$ + $x_{2,7}$ $\\leq$ 305.0\n",
        "\n",
        "$x_{3,0}$ + $x_{3,1}$ + $x_{3,2}$ + $x_{3,3}$ + $x_{3,4}$ + $x_{3,5}$ + $x_{3,6}$ + $x_{3,7}$ $\\leq$ 180.0\n",
        "\n",
        "$x_{4,0}$ + $x_{4,1}$ + $x_{4,2}$ + $x_{4,3}$ + $x_{4,4}$ + $x_{4,5}$ + $x_{4,6}$ + $x_{4,7}$ $\\leq$ 205.0\n",
        "\n",
        "$x_{5,0}$ + $x_{5,1}$ + $x_{5,2}$ + $x_{5,3}$ + $x_{5,4}$ + $x_{5,5}$ + $x_{5,6}$ + $x_{5,7}$ $\\leq$ 175.0\n",
        "\n",
        "$x_{6,0}$ + $x_{6,1}$ + $x_{6,2}$ + $x_{6,3}$ + $x_{6,4}$ + $x_{6,5}$ + $x_{6,6}$ + $x_{6,7}$ $\\leq$ 325.0\n",
        "\n",
        "$x_{7,0}$ + $x_{7,1}$ + $x_{7,2}$ + $x_{7,3}$ + $x_{7,4}$ + $x_{7,5}$ + $x_{7,6}$ + $x_{7,7}$ $\\leq$ 370.0\n",
        "\n",
        "$x_{0,0}$ + $x_{1,0}$ + $x_{2,0}$ + $x_{3,0}$ + $x_{4,0}$ + $x_{5,0}$ + $x_{6,0}$ + $x_{7,0}$ = 205.0\n",
        "\n",
        "$x_{0,1}$ + $x_{1,1}$ + $x_{2,1}$ + $x_{3,1}$ + $x_{4,1}$ + $x_{5,1}$ + $x_{6,1}$ + $x_{7,1}$ = 300.0\n",
        "\n",
        "$x_{0,2}$ + $x_{1,2}$ + $x_{2,2}$ + $x_{3,2}$ + $x_{4,2}$ + $x_{5,2}$ + $x_{6,2}$ + $x_{7,2}$ = 425.0\n",
        "\n",
        "$x_{0,3}$ + $x_{1,3}$ + $x_{2,3}$ + $x_{3,3}$ + $x_{4,3}$ + $x_{5,3}$ + $x_{6,3}$ + $x_{7,3}$ = 270.0\n",
        "\n",
        "$x_{0,4}$ + $x_{1,4}$ + $x_{2,4}$ + $x_{3,4}$ + $x_{4,4}$ + $x_{5,4}$ + $x_{6,4}$ + $x_{7,4}$ = 375.0\n",
        "\n",
        "$x_{0,5}$ + $x_{1,5}$ + $x_{2,5}$ + $x_{3,5}$ + $x_{4,5}$ + $x_{5,5}$ + $x_{6,5}$ + $x_{7,5}$ = 225.0\n",
        "\n",
        "$x_{0,6}$ + $x_{1,6}$ + $x_{2,6}$ + $x_{3,6}$ + $x_{4,6}$ + $x_{5,6}$ + $x_{6,6}$ + $x_{7,6}$ = 185.0\n",
        "\n",
        "$x_{0,7}$ + $x_{1,7}$ + $x_{2,7}$ + $x_{3,7}$ + $x_{4,7}$ + $x_{5,7}$ + $x_{6,7}$ + $x_{7,7}$ = 110.0 \n",
        "\n",
        "Each $x_{i,j} \\geq$ 0\n",
        "\n",
        "In general,\n",
        "\n",
        "$ minimize \\sum_{m=1}^8\\sum_{w=1}^8 C(w,m)*x_{wm} $\\\n",
        "subject to constraints \n",
        "\n",
        "$\\sum_{w=1}^8x_{wm}=d_m \\forall m \\in \\{ 1,2,....8 \\}$\n",
        "\n",
        "$ \\sum_{m=1}^8x_{wm} \\leq s_w \\forall w \\in\\{1,2,....8\\}$\n",
        "\n",
        "$ x_{wm}\\geq 0\\ \\forall\\ w,m \\in \\{1,2,....,8\\}$\n",
        "\n",
        "where m denotes the number of markets and w denotes number of warehouses. $x_{wm}$ denotes the number of truckloads between mth market and wth warehouse. $d_{m}$ is the demand at mth market and $s_{w}$ is the available stock of wth warehouse. C(w,m) is the transportation cost of sending a truckload of EVs from warehouse w to market m.\n",
        "\n",
        "**Answer 7:**\n",
        "\n",
        "Total cost =  2192870.0\n",
        "\n",
        "Number of truckloads of EVs between Ahmedabad and Jodhpur : 300.0\n",
        "\n",
        "Number of truckloads of EVs between Ahmedabad and Dibrugarh : 45.0\n",
        "\n",
        "Number of truckloads of EVs between Ahmedabad and Raipur : 5.0\n",
        "\n",
        "Number of truckloads of EVs between Bengaluru and Trichy : 120.0\n",
        "\n",
        "Number of truckloads of EVs between Bengaluru and Vijayawada : 65.0\n",
        "\n",
        "Number of truckloads of EVs between Chennai and Trichy : 305.0\n",
        "\n",
        "Number of truckloads of EVs between Delhi and Simla : 95.0\n",
        "\n",
        "Number of truckloads of EVs between Delhi and Dibrugarh : 85.0\n",
        "\n",
        "Number of truckloads of EVs between Kolkata and Dibrugarh : 95.0\n",
        "\n",
        "Number of truckloads of EVs between Kolkata and Agartala : 110.0\n",
        "\n",
        "Number of truckloads of EVs between Lucknow and Simla : 175.0\n",
        "\n",
        "Number of truckloads of EVs between Mumbai and Hassan : 205.0\n",
        "\n",
        "Number of truckloads of EVs between Mumbai and Raipur : 120.0\n",
        "\n",
        "Number of truckloads of EVs between Hyderabad and Vijayawada : 310.0\n",
        "\n",
        "**Answer 8:**\n",
        "\n",
        "Since the objective of the LP is the minimize cost, we can increase the cost of transportation from Lucknow to Simla so much that the number of truck loads between Lucknow and Simla becomes zero. I have set the cost of transportation between Lucknow and Simla to be 10000000000.\n",
        "\n",
        "**Answer 9:**\n",
        "\n",
        "Total cost =  2380570.0\n",
        "\n",
        "Number of truckloads of EVs between Ahmedabad and Jodhpur : 300.0\n",
        "\n",
        "Number of truckloads of EVs between Ahmedabad and Raipur : 50.0\n",
        "\n",
        "Number of truckloads of EVs between Bengaluru and Trichy : 120.0\n",
        "\n",
        "Number of truckloads of EVs between Bengaluru and Vijayawada : 65.0\n",
        "\n",
        "Number of truckloads of EVs between Chennai and Trichy : 305.0\n",
        "\n",
        "Number of truckloads of EVs between Delhi and Simla : 180.0\n",
        "\n",
        "Number of truckloads of EVs between Kolkata and Dibrugarh : 95.0\n",
        "\n",
        "Number of truckloads of EVs between Kolkata and Agartala : 110.0\n",
        "\n",
        "Number of truckloads of EVs between Lucknow and Dibrugarh : 130.0\n",
        "\n",
        "Number of truckloads of EVs between Lucknow and Raipur : 45.0\n",
        "\n",
        "Number of truckloads of EVs between Mumbai and Hassan : 205.0\n",
        "\n",
        "Number of truckloads of EVs between Mumbai and Simla : 90.0\n",
        "\n",
        "Number of truckloads of EVs between Mumbai and Raipur : 30.0\n",
        "\n",
        "Number of truckloads of EVs between Hyderabad and Vijayawada : 310.0\n",
        "\n",
        "Number of truckloads of EVs between Hyderabad and Raipur : 60.0\n",
        "\n",
        "**Observations:**\n",
        "\n",
        "Now, Lucknow cannot send any truckload to Simla. Previously, Lucknow was sending 175 truckloads to Simla. Simla still has demand of 270 truckloads which needs to be fulfilled so now it gets the remaining supply (175) from other cities like Delhi and Mumbai. Lucknow has available stock of 175, so it can send the stock which was previously being supplied to Simla (175) to other cities like Dibrugarh and Raipur. Because of these changes, some changes also appear in number of truckloads transported between other cities to satisfy all requirements of demands and available stock.\n",
        "\n",
        "**Answer 10:**\n",
        "\n",
        "Since the objective of the LP is the minimize cost, we can increase the cost of transportation from Kolkata to Dibrugarh and Delhi to Raipur so much that the number of truck loads between them becomes zero. I have set the cost of transportation in Kolkata-Dibrugarh link and Delhi-Raipur link to be 10000000000 and 10000000000.\n",
        "\n",
        "**Answer 11:**\n",
        "\n",
        "Total cost =  2518200.0\n",
        "\n",
        "Number of truckloads of EVs between Ahmedabad and Jodhpur : 300.0\n",
        "\n",
        "Number of truckloads of EVs between Ahmedabad and Dibrugarh : 50.0\n",
        "\n",
        "Number of truckloads of EVs between Bengaluru and Trichy : 120.0\n",
        "\n",
        "Number of truckloads of EVs between Bengaluru and Vijayawada : 65.0\n",
        "\n",
        "Number of truckloads of EVs between Chennai and Trichy : 305.0\n",
        "\n",
        "Number of truckloads of EVs between Delhi and Simla : 180.0\n",
        "\n",
        "Number of truckloads of EVs between Kolkata and Raipur : 95.0\n",
        "\n",
        "Number of truckloads of EVs between Kolkata and Agartala : 110.0\n",
        "\n",
        "Number of truckloads of EVs between Lucknow and Dibrugarh : 175.0\n",
        "\n",
        "Number of truckloads of EVs between Mumbai and Hassan : 205.0\n",
        "\n",
        "Number of truckloads of EVs between Mumbai and Simla : 90.0\n",
        "\n",
        "Number of truckloads of EVs between Mumbai and Raipur : 30.0\n",
        "\n",
        "Number of truckloads of EVs between Hyderabad and Vijayawada : 310.0\n",
        "\n",
        "Number of truckloads of EVs between Hyderabad and Raipur : 60.0\n",
        "\n",
        "**Observations:**\n",
        "\n",
        "Now, Kolkata cannot send any truckload to Dibrugarh. Previously, Kolkata was sending 95 truckloads to Dibrugarh. Dibrugarh still has demand of 225 truckloads which needs to be fulfilled so now it gets the remaining supply (95) from other cities like Ahmedabad and Lucknow. Kolkata has available stock of 205, so it can send the stock which was previously being supplied to Dibrugarh (95) to other cities like Raipur.\n",
        "\n",
        "Delhi was previously also not sending any truckload to Raipur so there will be no difference now.\n",
        "\n",
        "Because of these changes, some changes also appear in number of truckloads transported between other cities to satisfy all requirements of demands and available stock."
      ],
      "metadata": {
        "id": "Webj9HJscnmA"
      }
    }
  ]
}