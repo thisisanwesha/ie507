{
  "nbformat": 4,
  "nbformat_minor": 0,
  "metadata": {
    "colab": {
      "provenance": [],
      "collapsed_sections": []
    },
    "kernelspec": {
      "name": "python3",
      "display_name": "Python 3"
    }
  },
  "cells": [
    {
      "cell_type": "code",
      "metadata": {
        "id": "1r_yYUofSTFB"
      },
      "source": [
        "!pip install -q pyomo"
      ],
      "execution_count": 1,
      "outputs": []
    },
    {
      "cell_type": "code",
      "metadata": {
        "id": "j4opCPZrSak0"
      },
      "source": [
        "from pyomo.environ import *"
      ],
      "execution_count": 2,
      "outputs": []
    },
    {
      "cell_type": "code",
      "source": [
        "import pandas as pd\n",
        "import numpy as np\n",
        "import matplotlib.pyplot as plt"
      ],
      "metadata": {
        "id": "tcETBofgm8Gq"
      },
      "execution_count": 3,
      "outputs": []
    },
    {
      "cell_type": "code",
      "source": [
        "dataframe=pd.read_csv('lab8_ex2.csv')\n",
        "dataframe.head()"
      ],
      "metadata": {
        "id": "yNzFMpCdo4t6",
        "colab": {
          "base_uri": "https://localhost:8080/",
          "height": 206
        },
        "outputId": "e1cd8c21-8540-4618-9e4d-e72e88eb4fa7"
      },
      "execution_count": 4,
      "outputs": [
        {
          "output_type": "execute_result",
          "data": {
            "text/plain": [
              "   i    Ri    Vi     Bi  Ai         Ti        Di\n",
              "0  1   175   945   2800  23   2.962963  0.024339\n",
              "1  2   450   832   3900  40   4.687500  0.048077\n",
              "2  3  1050  2007  24900  78  12.406577  0.038864\n",
              "3  4   900   800  36450  64  45.562500  0.080000\n",
              "4  5    19   780    366   4   0.469231  0.005128"
            ],
            "text/html": [
              "\n",
              "  <div id=\"df-058094b1-47fe-497d-ba53-caa8aeb6ee37\">\n",
              "    <div class=\"colab-df-container\">\n",
              "      <div>\n",
              "<style scoped>\n",
              "    .dataframe tbody tr th:only-of-type {\n",
              "        vertical-align: middle;\n",
              "    }\n",
              "\n",
              "    .dataframe tbody tr th {\n",
              "        vertical-align: top;\n",
              "    }\n",
              "\n",
              "    .dataframe thead th {\n",
              "        text-align: right;\n",
              "    }\n",
              "</style>\n",
              "<table border=\"1\" class=\"dataframe\">\n",
              "  <thead>\n",
              "    <tr style=\"text-align: right;\">\n",
              "      <th></th>\n",
              "      <th>i</th>\n",
              "      <th>Ri</th>\n",
              "      <th>Vi</th>\n",
              "      <th>Bi</th>\n",
              "      <th>Ai</th>\n",
              "      <th>Ti</th>\n",
              "      <th>Di</th>\n",
              "    </tr>\n",
              "  </thead>\n",
              "  <tbody>\n",
              "    <tr>\n",
              "      <th>0</th>\n",
              "      <td>1</td>\n",
              "      <td>175</td>\n",
              "      <td>945</td>\n",
              "      <td>2800</td>\n",
              "      <td>23</td>\n",
              "      <td>2.962963</td>\n",
              "      <td>0.024339</td>\n",
              "    </tr>\n",
              "    <tr>\n",
              "      <th>1</th>\n",
              "      <td>2</td>\n",
              "      <td>450</td>\n",
              "      <td>832</td>\n",
              "      <td>3900</td>\n",
              "      <td>40</td>\n",
              "      <td>4.687500</td>\n",
              "      <td>0.048077</td>\n",
              "    </tr>\n",
              "    <tr>\n",
              "      <th>2</th>\n",
              "      <td>3</td>\n",
              "      <td>1050</td>\n",
              "      <td>2007</td>\n",
              "      <td>24900</td>\n",
              "      <td>78</td>\n",
              "      <td>12.406577</td>\n",
              "      <td>0.038864</td>\n",
              "    </tr>\n",
              "    <tr>\n",
              "      <th>3</th>\n",
              "      <td>4</td>\n",
              "      <td>900</td>\n",
              "      <td>800</td>\n",
              "      <td>36450</td>\n",
              "      <td>64</td>\n",
              "      <td>45.562500</td>\n",
              "      <td>0.080000</td>\n",
              "    </tr>\n",
              "    <tr>\n",
              "      <th>4</th>\n",
              "      <td>5</td>\n",
              "      <td>19</td>\n",
              "      <td>780</td>\n",
              "      <td>366</td>\n",
              "      <td>4</td>\n",
              "      <td>0.469231</td>\n",
              "      <td>0.005128</td>\n",
              "    </tr>\n",
              "  </tbody>\n",
              "</table>\n",
              "</div>\n",
              "      <button class=\"colab-df-convert\" onclick=\"convertToInteractive('df-058094b1-47fe-497d-ba53-caa8aeb6ee37')\"\n",
              "              title=\"Convert this dataframe to an interactive table.\"\n",
              "              style=\"display:none;\">\n",
              "        \n",
              "  <svg xmlns=\"http://www.w3.org/2000/svg\" height=\"24px\"viewBox=\"0 0 24 24\"\n",
              "       width=\"24px\">\n",
              "    <path d=\"M0 0h24v24H0V0z\" fill=\"none\"/>\n",
              "    <path d=\"M18.56 5.44l.94 2.06.94-2.06 2.06-.94-2.06-.94-.94-2.06-.94 2.06-2.06.94zm-11 1L8.5 8.5l.94-2.06 2.06-.94-2.06-.94L8.5 2.5l-.94 2.06-2.06.94zm10 10l.94 2.06.94-2.06 2.06-.94-2.06-.94-.94-2.06-.94 2.06-2.06.94z\"/><path d=\"M17.41 7.96l-1.37-1.37c-.4-.4-.92-.59-1.43-.59-.52 0-1.04.2-1.43.59L10.3 9.45l-7.72 7.72c-.78.78-.78 2.05 0 2.83L4 21.41c.39.39.9.59 1.41.59.51 0 1.02-.2 1.41-.59l7.78-7.78 2.81-2.81c.8-.78.8-2.07 0-2.86zM5.41 20L4 18.59l7.72-7.72 1.47 1.35L5.41 20z\"/>\n",
              "  </svg>\n",
              "      </button>\n",
              "      \n",
              "  <style>\n",
              "    .colab-df-container {\n",
              "      display:flex;\n",
              "      flex-wrap:wrap;\n",
              "      gap: 12px;\n",
              "    }\n",
              "\n",
              "    .colab-df-convert {\n",
              "      background-color: #E8F0FE;\n",
              "      border: none;\n",
              "      border-radius: 50%;\n",
              "      cursor: pointer;\n",
              "      display: none;\n",
              "      fill: #1967D2;\n",
              "      height: 32px;\n",
              "      padding: 0 0 0 0;\n",
              "      width: 32px;\n",
              "    }\n",
              "\n",
              "    .colab-df-convert:hover {\n",
              "      background-color: #E2EBFA;\n",
              "      box-shadow: 0px 1px 2px rgba(60, 64, 67, 0.3), 0px 1px 3px 1px rgba(60, 64, 67, 0.15);\n",
              "      fill: #174EA6;\n",
              "    }\n",
              "\n",
              "    [theme=dark] .colab-df-convert {\n",
              "      background-color: #3B4455;\n",
              "      fill: #D2E3FC;\n",
              "    }\n",
              "\n",
              "    [theme=dark] .colab-df-convert:hover {\n",
              "      background-color: #434B5C;\n",
              "      box-shadow: 0px 1px 3px 1px rgba(0, 0, 0, 0.15);\n",
              "      filter: drop-shadow(0px 1px 2px rgba(0, 0, 0, 0.3));\n",
              "      fill: #FFFFFF;\n",
              "    }\n",
              "  </style>\n",
              "\n",
              "      <script>\n",
              "        const buttonEl =\n",
              "          document.querySelector('#df-058094b1-47fe-497d-ba53-caa8aeb6ee37 button.colab-df-convert');\n",
              "        buttonEl.style.display =\n",
              "          google.colab.kernel.accessAllowed ? 'block' : 'none';\n",
              "\n",
              "        async function convertToInteractive(key) {\n",
              "          const element = document.querySelector('#df-058094b1-47fe-497d-ba53-caa8aeb6ee37');\n",
              "          const dataTable =\n",
              "            await google.colab.kernel.invokeFunction('convertToInteractive',\n",
              "                                                     [key], {});\n",
              "          if (!dataTable) return;\n",
              "\n",
              "          const docLinkHtml = 'Like what you see? Visit the ' +\n",
              "            '<a target=\"_blank\" href=https://colab.research.google.com/notebooks/data_table.ipynb>data table notebook</a>'\n",
              "            + ' to learn more about interactive tables.';\n",
              "          element.innerHTML = '';\n",
              "          dataTable['output_type'] = 'display_data';\n",
              "          await google.colab.output.renderOutput(dataTable, element);\n",
              "          const docLink = document.createElement('div');\n",
              "          docLink.innerHTML = docLinkHtml;\n",
              "          element.appendChild(docLink);\n",
              "        }\n",
              "      </script>\n",
              "    </div>\n",
              "  </div>\n",
              "  "
            ]
          },
          "metadata": {},
          "execution_count": 4
        }
      ]
    },
    {
      "cell_type": "code",
      "metadata": {
        "id": "HYj3zpsvSih4"
      },
      "source": [
        "# create a model\n",
        "model = ConcreteModel()"
      ],
      "execution_count": 5,
      "outputs": []
    },
    {
      "cell_type": "code",
      "source": [
        "row=np.arange(6)"
      ],
      "metadata": {
        "id": "llFdOlm8sMyo"
      },
      "execution_count": 6,
      "outputs": []
    },
    {
      "cell_type": "code",
      "source": [
        "model.constraints = ConstraintList()"
      ],
      "metadata": {
        "id": "idbDnL-izKqv"
      },
      "execution_count": 7,
      "outputs": []
    },
    {
      "cell_type": "code",
      "metadata": {
        "id": "XvRZqCV8d_-e"
      },
      "source": [
        "model.a0 = Var(domain=NonNegativeReals)\n",
        "model.a1 = Var(domain=Reals)\n",
        "model.a2 = Var(domain=Reals)\n",
        "model.b = Var(row, domain=NonNegativeReals)\n",
        "\n",
        "for i in row:\n",
        "  model.constraints.add(expr = (model.b[i] - (dataframe['Ri'][i] - (model.a0 + model.a1*dataframe['Ti'][i] + model.a2*dataframe['Di'][i]))) >= 0)\n",
        "  model.constraints.add(expr = (model.b[i] + (dataframe['Ri'][i] - (model.a0 + model.a1*dataframe['Ti'][i] + model.a2*dataframe['Di'][i]))) >= 0)"
      ],
      "execution_count": 8,
      "outputs": []
    },
    {
      "cell_type": "code",
      "source": [
        "model.objective = Objective(expr=sum(model.b[i] for i in row), sense = minimize)"
      ],
      "metadata": {
        "id": "KnFvqhGPtGXh"
      },
      "execution_count": 9,
      "outputs": []
    },
    {
      "cell_type": "code",
      "metadata": {
        "id": "hLjlmRD8eG_X",
        "colab": {
          "base_uri": "https://localhost:8080/"
        },
        "outputId": "de97cdbc-5c35-490a-9e7e-f8c8abab9556"
      },
      "source": [
        "model.pprint()"
      ],
      "execution_count": 10,
      "outputs": [
        {
          "output_type": "stream",
          "name": "stdout",
          "text": [
            "2 Set Declarations\n",
            "    b_index : Size=1, Index=None, Ordered=False\n",
            "        Key  : Dimen : Domain : Size : Members\n",
            "        None :     1 :    Any :    6 : {0, 1, 2, 3, 4, 5}\n",
            "    constraints_index : Size=1, Index=None, Ordered=Insertion\n",
            "        Key  : Dimen : Domain : Size : Members\n",
            "        None :     1 :    Any :   12 : {1, 2, 3, 4, 5, 6, 7, 8, 9, 10, 11, 12}\n",
            "\n",
            "4 Var Declarations\n",
            "    a0 : Size=1, Index=None\n",
            "        Key  : Lower : Value : Upper : Fixed : Stale : Domain\n",
            "        None :     0 :  None :  None : False :  True : NonNegativeReals\n",
            "    a1 : Size=1, Index=None\n",
            "        Key  : Lower : Value : Upper : Fixed : Stale : Domain\n",
            "        None :  None :  None :  None : False :  True :  Reals\n",
            "    a2 : Size=1, Index=None\n",
            "        Key  : Lower : Value : Upper : Fixed : Stale : Domain\n",
            "        None :  None :  None :  None : False :  True :  Reals\n",
            "    b : Size=6, Index=b_index\n",
            "        Key : Lower : Value : Upper : Fixed : Stale : Domain\n",
            "          0 :     0 :  None :  None : False :  True : NonNegativeReals\n",
            "          1 :     0 :  None :  None : False :  True : NonNegativeReals\n",
            "          2 :     0 :  None :  None : False :  True : NonNegativeReals\n",
            "          3 :     0 :  None :  None : False :  True : NonNegativeReals\n",
            "          4 :     0 :  None :  None : False :  True : NonNegativeReals\n",
            "          5 :     0 :  None :  None : False :  True : NonNegativeReals\n",
            "\n",
            "1 Objective Declarations\n",
            "    objective : Size=1, Index=None, Active=True\n",
            "        Key  : Active : Sense    : Expression\n",
            "        None :   True : minimize : b[0] + b[1] + b[2] + b[3] + b[4] + b[5]\n",
            "\n",
            "1 Constraint Declarations\n",
            "    constraints : Size=12, Index=constraints_index, Active=True\n",
            "        Key : Lower : Body                                                   : Upper : Active\n",
            "          1 :   0.0 :  b[0] - (175 - (a0 + 2.962962963*a1 + 0.024338624*a2)) :  +Inf :   True\n",
            "          2 :   0.0 :    175 - (a0 + 2.962962963*a1 + 0.024338624*a2) + b[0] :  +Inf :   True\n",
            "          3 :   0.0 :       b[1] - (450 - (a0 + 4.6875*a1 + 0.048076923*a2)) :  +Inf :   True\n",
            "          4 :   0.0 :         450 - (a0 + 4.6875*a1 + 0.048076923*a2) + b[1] :  +Inf :   True\n",
            "          5 :   0.0 : b[2] - (1050 - (a0 + 12.40657698*a1 + 0.038863976*a2)) :  +Inf :   True\n",
            "          6 :   0.0 :   1050 - (a0 + 12.40657698*a1 + 0.038863976*a2) + b[2] :  +Inf :   True\n",
            "          7 :   0.0 :             b[3] - (900 - (a0 + 45.5625*a1 + 0.08*a2)) :  +Inf :   True\n",
            "          8 :   0.0 :               900 - (a0 + 45.5625*a1 + 0.08*a2) + b[3] :  +Inf :   True\n",
            "          9 :   0.0 :   b[4] - (19 - (a0 + 0.469230769*a1 + 0.005128205*a2)) :  +Inf :   True\n",
            "         10 :   0.0 :     19 - (a0 + 0.469230769*a1 + 0.005128205*a2) + b[4] :  +Inf :   True\n",
            "         11 :   0.0 :  b[5] - (3550 - (a0 + 7.692307692*a1 + 0.02997003*a2)) :  +Inf :   True\n",
            "         12 :   0.0 :    3550 - (a0 + 7.692307692*a1 + 0.02997003*a2) + b[5] :  +Inf :   True\n",
            "\n",
            "8 Declarations: constraints_index constraints a0 a1 a2 b_index b objective\n"
          ]
        }
      ]
    },
    {
      "cell_type": "code",
      "source": [
        "!apt-get install -y -qq coinor-cbc"
      ],
      "metadata": {
        "id": "_-AM908qtNzq"
      },
      "execution_count": 11,
      "outputs": []
    },
    {
      "cell_type": "code",
      "source": [
        "opt_cbc = SolverFactory('cbc')"
      ],
      "metadata": {
        "id": "boqCs7sptQGP"
      },
      "execution_count": 12,
      "outputs": []
    },
    {
      "cell_type": "code",
      "source": [
        "result = opt_cbc.solve(model)\n",
        "print(result)"
      ],
      "metadata": {
        "id": "_NomOFDItSF6",
        "colab": {
          "base_uri": "https://localhost:8080/"
        },
        "outputId": "2d49ecdc-cbfe-4fb5-8869-f5582b4aaed1"
      },
      "execution_count": 13,
      "outputs": [
        {
          "output_type": "stream",
          "name": "stdout",
          "text": [
            "\n",
            "Problem: \n",
            "- Name: unknown\n",
            "  Lower bound: 3986.158702\n",
            "  Upper bound: 3986.158702\n",
            "  Number of objectives: 1\n",
            "  Number of constraints: 13\n",
            "  Number of variables: 10\n",
            "  Number of nonzeros: 6\n",
            "  Sense: minimize\n",
            "Solver: \n",
            "- Status: ok\n",
            "  User time: -1.0\n",
            "  System time: 0.0\n",
            "  Wallclock time: 0.0\n",
            "  Termination condition: optimal\n",
            "  Termination message: Model was solved to optimality (subject to tolerances), and an optimal solution is available.\n",
            "  Statistics: \n",
            "    Branch and bound: \n",
            "      Number of bounded subproblems: None\n",
            "      Number of created subproblems: None\n",
            "    Black box: \n",
            "      Number of iterations: 7\n",
            "  Error rc: 0\n",
            "  Time: 0.03130984306335449\n",
            "Solution: \n",
            "- number of solutions: 0\n",
            "  number of solutions displayed: 0\n",
            "\n"
          ]
        }
      ]
    },
    {
      "cell_type": "code",
      "source": [
        "#display solution\n",
        "print('\\np=1')\n",
        "print('\\nObjective function value = ', model.objective())\n",
        "\n",
        "print('\\nDecision Variables')\n",
        "print('a0 = ', model.a0())\n",
        "print('a1 = ', model.a1())\n",
        "print('a2 = ', model.a2())\n",
        "\n",
        "print('\\nConstraints')\n",
        "model.constraints.display()"
      ],
      "metadata": {
        "id": "xfOhOxzttR5n",
        "colab": {
          "base_uri": "https://localhost:8080/"
        },
        "outputId": "53ab11a4-f77b-4dc3-cd65-d47bd22f77ba"
      },
      "execution_count": 14,
      "outputs": [
        {
          "output_type": "stream",
          "name": "stdout",
          "text": [
            "\n",
            "p=1\n",
            "\n",
            "Objective function value =  3986.158753\n",
            "\n",
            "Decision Variables\n",
            "a0 =  0.0\n",
            "a1 =  4.0039722\n",
            "a2 =  8969.6127\n",
            "\n",
            "Constraints\n",
            "constraints : Size=12\n",
            "    Key : Lower : Body                    : Upper\n",
            "      1 :   0.0 :      110.34330526440641 :  None\n",
            "      2 :   0.0 :   7.355935807140668e-07 :  None\n",
            "      3 :   0.0 : -1.1947778943977028e-06 :  None\n",
            "      4 :   0.0 :  1.1947778943977028e-06 :  None\n",
            "      5 :   0.0 :   2.027175128205272e-06 :  None\n",
            "      6 :   0.0 :      1303.4591979728248 :  None\n",
            "      7 :   0.0 :  -6.374999657055014e-07 :  None\n",
            "      8 :   0.0 :   6.374999657055014e-07 :  None\n",
            "      9 :   0.0 :       57.75359965066413 :  None\n",
            "     10 :   0.0 :  3.4933587400587385e-07 :  None\n",
            "     11 :   0.0 :   4.785999544765218e-05 :  None\n",
            "     12 :   0.0 :       6500.761352140005 :  None\n"
          ]
        }
      ]
    },
    {
      "cell_type": "code",
      "source": [
        "for i in row:\n",
        "  dataframe.loc[i, 'R1']=model.a0.value+model.a1.value*dataframe['Ti'][i]+model.a2.value*dataframe['Di'][i]"
      ],
      "metadata": {
        "id": "NZ42mcEbtWTK"
      },
      "execution_count": 15,
      "outputs": []
    },
    {
      "cell_type": "code",
      "source": [
        "model1 = ConcreteModel()"
      ],
      "metadata": {
        "id": "mL-9oN4alQTC"
      },
      "execution_count": 16,
      "outputs": []
    },
    {
      "cell_type": "code",
      "source": [
        "model1.a0 = Var(domain=NonNegativeReals, initialize=0)\n",
        "model1.a1 = Var(domain=Reals, initialize=4)\n",
        "model1.a2 =Var(domain=Reals, initialize=8969)\n",
        "model1.b = Var(row, domain=NonNegativeReals)"
      ],
      "metadata": {
        "id": "74pPPSDEqmUN"
      },
      "execution_count": 17,
      "outputs": []
    },
    {
      "cell_type": "code",
      "source": [
        "def funct(model1):\n",
        "  sum=0\n",
        "  for i in row:\n",
        "    sum=sum+((abs(dataframe['Ri'][i]-(model1.a0+model1.a1*dataframe['Ti'][i]+model1.a2*dataframe['Di'][i])))**1.5)\n",
        "  return sum"
      ],
      "metadata": {
        "id": "uSnuyg4g1ZLo"
      },
      "execution_count": 18,
      "outputs": []
    },
    {
      "cell_type": "code",
      "source": [
        "model1.objective = Objective(rule=funct, sense = minimize)"
      ],
      "metadata": {
        "id": "v_JvUVvT1bey"
      },
      "execution_count": 19,
      "outputs": []
    },
    {
      "cell_type": "code",
      "source": [
        "model1.pprint()"
      ],
      "metadata": {
        "colab": {
          "base_uri": "https://localhost:8080/"
        },
        "id": "GCmCAKgu1cNI",
        "outputId": "49429621-ec18-438f-cefd-03b790c563de"
      },
      "execution_count": 20,
      "outputs": [
        {
          "output_type": "stream",
          "name": "stdout",
          "text": [
            "1 Set Declarations\n",
            "    b_index : Size=1, Index=None, Ordered=False\n",
            "        Key  : Dimen : Domain : Size : Members\n",
            "        None :     1 :    Any :    6 : {0, 1, 2, 3, 4, 5}\n",
            "\n",
            "4 Var Declarations\n",
            "    a0 : Size=1, Index=None\n",
            "        Key  : Lower : Value : Upper : Fixed : Stale : Domain\n",
            "        None :     0 :     0 :  None : False : False : NonNegativeReals\n",
            "    a1 : Size=1, Index=None\n",
            "        Key  : Lower : Value : Upper : Fixed : Stale : Domain\n",
            "        None :  None :     4 :  None : False : False :  Reals\n",
            "    a2 : Size=1, Index=None\n",
            "        Key  : Lower : Value : Upper : Fixed : Stale : Domain\n",
            "        None :  None :  8969 :  None : False : False :  Reals\n",
            "    b : Size=6, Index=b_index\n",
            "        Key : Lower : Value : Upper : Fixed : Stale : Domain\n",
            "          0 :     0 :  None :  None : False :  True : NonNegativeReals\n",
            "          1 :     0 :  None :  None : False :  True : NonNegativeReals\n",
            "          2 :     0 :  None :  None : False :  True : NonNegativeReals\n",
            "          3 :     0 :  None :  None : False :  True : NonNegativeReals\n",
            "          4 :     0 :  None :  None : False :  True : NonNegativeReals\n",
            "          5 :     0 :  None :  None : False :  True : NonNegativeReals\n",
            "\n",
            "1 Objective Declarations\n",
            "    objective : Size=1, Index=None, Active=True\n",
            "        Key  : Active : Sense    : Expression\n",
            "        None :   True : minimize : abs(175 - (a0 + 2.962962963*a1 + 0.024338624*a2))**1.5 + abs(450 - (a0 + 4.6875*a1 + 0.048076923*a2))**1.5 + abs(1050 - (a0 + 12.40657698*a1 + 0.038863976*a2))**1.5 + abs(900 - (a0 + 45.5625*a1 + 0.08*a2))**1.5 + abs(19 - (a0 + 0.469230769*a1 + 0.005128205*a2))**1.5 + abs(3550 - (a0 + 7.692307692*a1 + 0.02997003*a2))**1.5\n",
            "\n",
            "6 Declarations: a0 a1 a2 b_index b objective\n"
          ]
        }
      ]
    },
    {
      "cell_type": "code",
      "source": [
        "#We will use ipopt solver for solving the optimization problem\n",
        "\n",
        "!wget -N -q \"https://ampl.com/dl/open/ipopt/ipopt-linux64.zip\"\n",
        "!unzip -o -q ipopt-linux64"
      ],
      "metadata": {
        "id": "39LzajNuVUEh"
      },
      "execution_count": 21,
      "outputs": []
    },
    {
      "cell_type": "code",
      "source": [
        "solver = SolverFactory('ipopt', executable='/content/ipopt')"
      ],
      "metadata": {
        "id": "aVuYHMW2UFP-"
      },
      "execution_count": 22,
      "outputs": []
    },
    {
      "cell_type": "code",
      "source": [
        "results = solver.solve(model1)"
      ],
      "metadata": {
        "id": "jA-nJRTCX78J"
      },
      "execution_count": 23,
      "outputs": []
    },
    {
      "cell_type": "code",
      "source": [
        "#display the statistics \n",
        "print(results)"
      ],
      "metadata": {
        "colab": {
          "base_uri": "https://localhost:8080/"
        },
        "id": "7EsKAZXlXtpc",
        "outputId": "245c7e5b-f2f0-44d7-970b-571100128d0c"
      },
      "execution_count": 24,
      "outputs": [
        {
          "output_type": "stream",
          "name": "stdout",
          "text": [
            "\n",
            "Problem: \n",
            "- Lower bound: -inf\n",
            "  Upper bound: inf\n",
            "  Number of objectives: 1\n",
            "  Number of constraints: 0\n",
            "  Number of variables: 3\n",
            "  Sense: unknown\n",
            "Solver: \n",
            "- Status: ok\n",
            "  Message: Ipopt 3.12.13\\x3a Optimal Solution Found\n",
            "  Termination condition: optimal\n",
            "  Id: 0\n",
            "  Error rc: 0\n",
            "  Time: 0.0326688289642334\n",
            "Solution: \n",
            "- number of solutions: 0\n",
            "  number of solutions displayed: 0\n",
            "\n"
          ]
        }
      ]
    },
    {
      "cell_type": "code",
      "metadata": {
        "id": "WQZHDR3afKj5",
        "colab": {
          "base_uri": "https://localhost:8080/"
        },
        "outputId": "a4a28915-4030-4710-822f-4440d4d17ed6"
      },
      "source": [
        "# display solution\n",
        "print('\\np=1.5')\n",
        "print('\\nObjective function value = ', model1.objective())\n",
        "\n",
        "print('\\nValues of Decision Variables')\n",
        "print('a0 = ', model1.a0())\n",
        "print('a1 = ', model1.a1())\n",
        "print('a2 = ', model1.a2())"
      ],
      "execution_count": 25,
      "outputs": [
        {
          "output_type": "stream",
          "name": "stdout",
          "text": [
            "\n",
            "p=1.5\n",
            "\n",
            "Objective function value =  188066.92403421347\n",
            "\n",
            "Values of Decision Variables\n",
            "a0 =  503.74058049330125\n",
            "a1 =  2.7235987065639238\n",
            "a2 =  4802.720279147065\n"
          ]
        }
      ]
    },
    {
      "cell_type": "code",
      "metadata": {
        "id": "pyXaxU0aGBjj"
      },
      "source": [
        "for i in row:\n",
        "  dataframe.loc[i, 'R2']=model1.a0.value+model1.a1.value*dataframe['Ti'][i]+model1.a2.value*dataframe['Di'][i]"
      ],
      "execution_count": 26,
      "outputs": []
    },
    {
      "cell_type": "code",
      "source": [
        "def function(model1):\n",
        "  sum=0\n",
        "  for i in row:\n",
        "    sum=sum+((abs(dataframe['Ri'][i]-(model1.a0+model1.a1*dataframe['Ti'][i]+model1.a2*dataframe['Di'][i])))**2)\n",
        "  return sum"
      ],
      "metadata": {
        "id": "-F_FxguS1rKM"
      },
      "execution_count": 27,
      "outputs": []
    },
    {
      "cell_type": "code",
      "source": [
        "model1.objective.deactivate()\n",
        "model1.objective1=Objective(rule=function, sense=minimize)"
      ],
      "metadata": {
        "id": "iTY1d5zH1s6t"
      },
      "execution_count": 28,
      "outputs": []
    },
    {
      "cell_type": "code",
      "source": [
        "model1.pprint()"
      ],
      "metadata": {
        "colab": {
          "base_uri": "https://localhost:8080/"
        },
        "id": "kGWXxjQ61uks",
        "outputId": "dccb3e4d-2a1d-46e7-a192-80d5aa118318"
      },
      "execution_count": 29,
      "outputs": [
        {
          "output_type": "stream",
          "name": "stdout",
          "text": [
            "1 Set Declarations\n",
            "    b_index : Size=1, Index=None, Ordered=False\n",
            "        Key  : Dimen : Domain : Size : Members\n",
            "        None :     1 :    Any :    6 : {0, 1, 2, 3, 4, 5}\n",
            "\n",
            "4 Var Declarations\n",
            "    a0 : Size=1, Index=None\n",
            "        Key  : Lower : Value              : Upper : Fixed : Stale : Domain\n",
            "        None :     0 : 503.74058049330125 :  None : False : False : NonNegativeReals\n",
            "    a1 : Size=1, Index=None\n",
            "        Key  : Lower : Value              : Upper : Fixed : Stale : Domain\n",
            "        None :  None : 2.7235987065639238 :  None : False : False :  Reals\n",
            "    a2 : Size=1, Index=None\n",
            "        Key  : Lower : Value             : Upper : Fixed : Stale : Domain\n",
            "        None :  None : 4802.720279147065 :  None : False : False :  Reals\n",
            "    b : Size=6, Index=b_index\n",
            "        Key : Lower : Value : Upper : Fixed : Stale : Domain\n",
            "          0 :     0 :  None :  None : False :  True : NonNegativeReals\n",
            "          1 :     0 :  None :  None : False :  True : NonNegativeReals\n",
            "          2 :     0 :  None :  None : False :  True : NonNegativeReals\n",
            "          3 :     0 :  None :  None : False :  True : NonNegativeReals\n",
            "          4 :     0 :  None :  None : False :  True : NonNegativeReals\n",
            "          5 :     0 :  None :  None : False :  True : NonNegativeReals\n",
            "\n",
            "2 Objective Declarations\n",
            "    objective : Size=1, Index=None, Active=False\n",
            "        Key  : Active : Sense    : Expression\n",
            "        None :  False : minimize : abs(175 - (a0 + 2.962962963*a1 + 0.024338624*a2))**1.5 + abs(450 - (a0 + 4.6875*a1 + 0.048076923*a2))**1.5 + abs(1050 - (a0 + 12.40657698*a1 + 0.038863976*a2))**1.5 + abs(900 - (a0 + 45.5625*a1 + 0.08*a2))**1.5 + abs(19 - (a0 + 0.469230769*a1 + 0.005128205*a2))**1.5 + abs(3550 - (a0 + 7.692307692*a1 + 0.02997003*a2))**1.5\n",
            "    objective1 : Size=1, Index=None, Active=True\n",
            "        Key  : Active : Sense    : Expression\n",
            "        None :   True : minimize : abs(175 - (a0 + 2.962962963*a1 + 0.024338624*a2))**2 + abs(450 - (a0 + 4.6875*a1 + 0.048076923*a2))**2 + abs(1050 - (a0 + 12.40657698*a1 + 0.038863976*a2))**2 + abs(900 - (a0 + 45.5625*a1 + 0.08*a2))**2 + abs(19 - (a0 + 0.469230769*a1 + 0.005128205*a2))**2 + abs(3550 - (a0 + 7.692307692*a1 + 0.02997003*a2))**2\n",
            "\n",
            "7 Declarations: a0 a1 a2 b_index b objective objective1\n"
          ]
        }
      ]
    },
    {
      "cell_type": "code",
      "source": [
        "results =solver.solve(model1)\n",
        "print(results)"
      ],
      "metadata": {
        "colab": {
          "base_uri": "https://localhost:8080/"
        },
        "id": "yKvsD_LT1wdi",
        "outputId": "697d7206-ed84-41f4-b663-abb687c143a3"
      },
      "execution_count": 30,
      "outputs": [
        {
          "output_type": "stream",
          "name": "stdout",
          "text": [
            "\n",
            "Problem: \n",
            "- Lower bound: -inf\n",
            "  Upper bound: inf\n",
            "  Number of objectives: 1\n",
            "  Number of constraints: 0\n",
            "  Number of variables: 3\n",
            "  Sense: unknown\n",
            "Solver: \n",
            "- Status: ok\n",
            "  Message: Ipopt 3.12.13\\x3a Optimal Solution Found\n",
            "  Termination condition: optimal\n",
            "  Id: 0\n",
            "  Error rc: 0\n",
            "  Time: 0.04255509376525879\n",
            "Solution: \n",
            "- number of solutions: 0\n",
            "  number of solutions displayed: 0\n",
            "\n"
          ]
        }
      ]
    },
    {
      "cell_type": "code",
      "source": [
        "#display solution\n",
        "print('\\np=2')\n",
        "print('\\nObjective function value = ', model1.objective1())\n",
        "\n",
        "print('\\nValues of Decision Variables')\n",
        "print('a0 = ', model1.a0())\n",
        "print('a1 = ', model1.a1())\n",
        "print('a2 = ', model1.a2())"
      ],
      "metadata": {
        "colab": {
          "base_uri": "https://localhost:8080/"
        },
        "id": "aFYy6lq61y8Z",
        "outputId": "7f62cfe8-467c-414c-9dec-48ace81b90a3"
      },
      "execution_count": 31,
      "outputs": [
        {
          "output_type": "stream",
          "name": "stdout",
          "text": [
            "\n",
            "p=2\n",
            "\n",
            "Objective function value =  8399946.9340104\n",
            "\n",
            "Values of Decision Variables\n",
            "a0 =  884.3228326047198\n",
            "a1 =  1.8562362168006301\n",
            "a2 =  3097.070581130496\n"
          ]
        }
      ]
    },
    {
      "cell_type": "code",
      "source": [
        "for i in row:\n",
        "  dataframe.loc[i, 'R3']=model1.a0.value+model1.a1.value*dataframe['Ti'][i]+model1.a2.value*dataframe['Di'][i]"
      ],
      "metadata": {
        "id": "zD06X-r411HO"
      },
      "execution_count": 32,
      "outputs": []
    },
    {
      "cell_type": "code",
      "source": [
        "dataframe"
      ],
      "metadata": {
        "colab": {
          "base_uri": "https://localhost:8080/",
          "height": 237
        },
        "id": "YIZxDVkx13Gk",
        "outputId": "c5da74de-85e4-40e4-df12-69f7eadacc0e"
      },
      "execution_count": 33,
      "outputs": [
        {
          "output_type": "execute_result",
          "data": {
            "text/plain": [
              "   i    Ri    Vi     Bi   Ai         Ti        Di          R1           R2  \\\n",
              "0  1   175   945   2800   23   2.962963  0.024339  230.171652   628.702106   \n",
              "1  2   450   832   3900   40   4.687500  0.048077  449.999999   747.407462   \n",
              "2  3  1050  2007  24900   78  12.406577  0.038864  398.270402   724.183923   \n",
              "3  4   900   800  36450   64  45.562500  0.080000  899.999999  1012.052169   \n",
              "4  5    19   780    366    4   0.469231  0.005128   47.876800   529.647911   \n",
              "5  6  3550  5005  38500  150   7.692308  0.029970  299.619348   668.629011   \n",
              "\n",
              "            R3  \n",
              "0   965.201228  \n",
              "1  1041.921564  \n",
              "2  1027.716847  \n",
              "3  1216.663242  \n",
              "4   901.076249  \n",
              "5   991.420871  "
            ],
            "text/html": [
              "\n",
              "  <div id=\"df-460473fb-1707-4bc6-99e5-2e12e90db920\">\n",
              "    <div class=\"colab-df-container\">\n",
              "      <div>\n",
              "<style scoped>\n",
              "    .dataframe tbody tr th:only-of-type {\n",
              "        vertical-align: middle;\n",
              "    }\n",
              "\n",
              "    .dataframe tbody tr th {\n",
              "        vertical-align: top;\n",
              "    }\n",
              "\n",
              "    .dataframe thead th {\n",
              "        text-align: right;\n",
              "    }\n",
              "</style>\n",
              "<table border=\"1\" class=\"dataframe\">\n",
              "  <thead>\n",
              "    <tr style=\"text-align: right;\">\n",
              "      <th></th>\n",
              "      <th>i</th>\n",
              "      <th>Ri</th>\n",
              "      <th>Vi</th>\n",
              "      <th>Bi</th>\n",
              "      <th>Ai</th>\n",
              "      <th>Ti</th>\n",
              "      <th>Di</th>\n",
              "      <th>R1</th>\n",
              "      <th>R2</th>\n",
              "      <th>R3</th>\n",
              "    </tr>\n",
              "  </thead>\n",
              "  <tbody>\n",
              "    <tr>\n",
              "      <th>0</th>\n",
              "      <td>1</td>\n",
              "      <td>175</td>\n",
              "      <td>945</td>\n",
              "      <td>2800</td>\n",
              "      <td>23</td>\n",
              "      <td>2.962963</td>\n",
              "      <td>0.024339</td>\n",
              "      <td>230.171652</td>\n",
              "      <td>628.702106</td>\n",
              "      <td>965.201228</td>\n",
              "    </tr>\n",
              "    <tr>\n",
              "      <th>1</th>\n",
              "      <td>2</td>\n",
              "      <td>450</td>\n",
              "      <td>832</td>\n",
              "      <td>3900</td>\n",
              "      <td>40</td>\n",
              "      <td>4.687500</td>\n",
              "      <td>0.048077</td>\n",
              "      <td>449.999999</td>\n",
              "      <td>747.407462</td>\n",
              "      <td>1041.921564</td>\n",
              "    </tr>\n",
              "    <tr>\n",
              "      <th>2</th>\n",
              "      <td>3</td>\n",
              "      <td>1050</td>\n",
              "      <td>2007</td>\n",
              "      <td>24900</td>\n",
              "      <td>78</td>\n",
              "      <td>12.406577</td>\n",
              "      <td>0.038864</td>\n",
              "      <td>398.270402</td>\n",
              "      <td>724.183923</td>\n",
              "      <td>1027.716847</td>\n",
              "    </tr>\n",
              "    <tr>\n",
              "      <th>3</th>\n",
              "      <td>4</td>\n",
              "      <td>900</td>\n",
              "      <td>800</td>\n",
              "      <td>36450</td>\n",
              "      <td>64</td>\n",
              "      <td>45.562500</td>\n",
              "      <td>0.080000</td>\n",
              "      <td>899.999999</td>\n",
              "      <td>1012.052169</td>\n",
              "      <td>1216.663242</td>\n",
              "    </tr>\n",
              "    <tr>\n",
              "      <th>4</th>\n",
              "      <td>5</td>\n",
              "      <td>19</td>\n",
              "      <td>780</td>\n",
              "      <td>366</td>\n",
              "      <td>4</td>\n",
              "      <td>0.469231</td>\n",
              "      <td>0.005128</td>\n",
              "      <td>47.876800</td>\n",
              "      <td>529.647911</td>\n",
              "      <td>901.076249</td>\n",
              "    </tr>\n",
              "    <tr>\n",
              "      <th>5</th>\n",
              "      <td>6</td>\n",
              "      <td>3550</td>\n",
              "      <td>5005</td>\n",
              "      <td>38500</td>\n",
              "      <td>150</td>\n",
              "      <td>7.692308</td>\n",
              "      <td>0.029970</td>\n",
              "      <td>299.619348</td>\n",
              "      <td>668.629011</td>\n",
              "      <td>991.420871</td>\n",
              "    </tr>\n",
              "  </tbody>\n",
              "</table>\n",
              "</div>\n",
              "      <button class=\"colab-df-convert\" onclick=\"convertToInteractive('df-460473fb-1707-4bc6-99e5-2e12e90db920')\"\n",
              "              title=\"Convert this dataframe to an interactive table.\"\n",
              "              style=\"display:none;\">\n",
              "        \n",
              "  <svg xmlns=\"http://www.w3.org/2000/svg\" height=\"24px\"viewBox=\"0 0 24 24\"\n",
              "       width=\"24px\">\n",
              "    <path d=\"M0 0h24v24H0V0z\" fill=\"none\"/>\n",
              "    <path d=\"M18.56 5.44l.94 2.06.94-2.06 2.06-.94-2.06-.94-.94-2.06-.94 2.06-2.06.94zm-11 1L8.5 8.5l.94-2.06 2.06-.94-2.06-.94L8.5 2.5l-.94 2.06-2.06.94zm10 10l.94 2.06.94-2.06 2.06-.94-2.06-.94-.94-2.06-.94 2.06-2.06.94z\"/><path d=\"M17.41 7.96l-1.37-1.37c-.4-.4-.92-.59-1.43-.59-.52 0-1.04.2-1.43.59L10.3 9.45l-7.72 7.72c-.78.78-.78 2.05 0 2.83L4 21.41c.39.39.9.59 1.41.59.51 0 1.02-.2 1.41-.59l7.78-7.78 2.81-2.81c.8-.78.8-2.07 0-2.86zM5.41 20L4 18.59l7.72-7.72 1.47 1.35L5.41 20z\"/>\n",
              "  </svg>\n",
              "      </button>\n",
              "      \n",
              "  <style>\n",
              "    .colab-df-container {\n",
              "      display:flex;\n",
              "      flex-wrap:wrap;\n",
              "      gap: 12px;\n",
              "    }\n",
              "\n",
              "    .colab-df-convert {\n",
              "      background-color: #E8F0FE;\n",
              "      border: none;\n",
              "      border-radius: 50%;\n",
              "      cursor: pointer;\n",
              "      display: none;\n",
              "      fill: #1967D2;\n",
              "      height: 32px;\n",
              "      padding: 0 0 0 0;\n",
              "      width: 32px;\n",
              "    }\n",
              "\n",
              "    .colab-df-convert:hover {\n",
              "      background-color: #E2EBFA;\n",
              "      box-shadow: 0px 1px 2px rgba(60, 64, 67, 0.3), 0px 1px 3px 1px rgba(60, 64, 67, 0.15);\n",
              "      fill: #174EA6;\n",
              "    }\n",
              "\n",
              "    [theme=dark] .colab-df-convert {\n",
              "      background-color: #3B4455;\n",
              "      fill: #D2E3FC;\n",
              "    }\n",
              "\n",
              "    [theme=dark] .colab-df-convert:hover {\n",
              "      background-color: #434B5C;\n",
              "      box-shadow: 0px 1px 3px 1px rgba(0, 0, 0, 0.15);\n",
              "      filter: drop-shadow(0px 1px 2px rgba(0, 0, 0, 0.3));\n",
              "      fill: #FFFFFF;\n",
              "    }\n",
              "  </style>\n",
              "\n",
              "      <script>\n",
              "        const buttonEl =\n",
              "          document.querySelector('#df-460473fb-1707-4bc6-99e5-2e12e90db920 button.colab-df-convert');\n",
              "        buttonEl.style.display =\n",
              "          google.colab.kernel.accessAllowed ? 'block' : 'none';\n",
              "\n",
              "        async function convertToInteractive(key) {\n",
              "          const element = document.querySelector('#df-460473fb-1707-4bc6-99e5-2e12e90db920');\n",
              "          const dataTable =\n",
              "            await google.colab.kernel.invokeFunction('convertToInteractive',\n",
              "                                                     [key], {});\n",
              "          if (!dataTable) return;\n",
              "\n",
              "          const docLinkHtml = 'Like what you see? Visit the ' +\n",
              "            '<a target=\"_blank\" href=https://colab.research.google.com/notebooks/data_table.ipynb>data table notebook</a>'\n",
              "            + ' to learn more about interactive tables.';\n",
              "          element.innerHTML = '';\n",
              "          dataTable['output_type'] = 'display_data';\n",
              "          await google.colab.output.renderOutput(dataTable, element);\n",
              "          const docLink = document.createElement('div');\n",
              "          docLink.innerHTML = docLinkHtml;\n",
              "          element.appendChild(docLink);\n",
              "        }\n",
              "      </script>\n",
              "    </div>\n",
              "  </div>\n",
              "  "
            ]
          },
          "metadata": {},
          "execution_count": 33
        }
      ]
    },
    {
      "cell_type": "code",
      "source": [
        "plt.figure()\n",
        "plt.plot(dataframe['i'], dataframe['R1'], label = 'Forecast Value for p = 1')\n",
        "plt.plot(dataframe['i'], dataframe['Ri'], label = 'Actual Revenue')\n",
        "plt.legend()\n",
        "plt.show()"
      ],
      "metadata": {
        "colab": {
          "base_uri": "https://localhost:8080/",
          "height": 265
        },
        "id": "hFL5OCXpvK3O",
        "outputId": "cc06a0e6-074f-407d-9a09-ffa3198aa0e3"
      },
      "execution_count": 34,
      "outputs": [
        {
          "output_type": "display_data",
          "data": {
            "text/plain": [
              "<Figure size 432x288 with 1 Axes>"
            ],
            "image/png": "[encoded data removed]"
          },
          "metadata": {
            "needs_background": "light"
          }
        }
      ]
    },
    {
      "cell_type": "code",
      "source": [
        "plt.figure()\n",
        "plt.plot(dataframe['i'], dataframe['R2'], label = 'Forecast value for p = 1.5')\n",
        "plt.plot(dataframe['i'], dataframe['Ri'], label = 'Actual Revenue')\n",
        "plt.legend()\n",
        "plt.show()"
      ],
      "metadata": {
        "colab": {
          "base_uri": "https://localhost:8080/",
          "height": 265
        },
        "id": "87DNvnlQCmKG",
        "outputId": "754bc40c-6dcc-4d90-e211-4a255dc0650b"
      },
      "execution_count": 35,
      "outputs": [
        {
          "output_type": "display_data",
          "data": {
            "text/plain": [
              "<Figure size 432x288 with 1 Axes>"
            ],
            "image/png": "[encoded data removed]"
          },
          "metadata": {
            "needs_background": "light"
          }
        }
      ]
    },
    {
      "cell_type": "code",
      "source": [
        "plt.figure()\n",
        "plt.plot(dataframe['i'], dataframe['R3'], label = 'Forecast value for p = 2')\n",
        "plt.plot(dataframe['i'], dataframe['Ri'], label = 'Actual Revenue')\n",
        "plt.legend()\n",
        "plt.show()"
      ],
      "metadata": {
        "colab": {
          "base_uri": "https://localhost:8080/",
          "height": 265
        },
        "id": "2EFnaXSoCnIm",
        "outputId": "c9af2360-ef52-4973-cc78-c21c5d16cefc"
      },
      "execution_count": 36,
      "outputs": [
        {
          "output_type": "display_data",
          "data": {
            "text/plain": [
              "<Figure size 432x288 with 1 Axes>"
            ],
            "image/png": "[encoded data removed]"
          },
          "metadata": {
            "needs_background": "light"
          }
        }
      ]
    },
    {
      "cell_type": "markdown",
      "source": [
        "Answer 1) For p = 1, the optimization program is linear and can be formulated as\n",
        "\n",
        "min $\\sum_{i=1}^{6} Q_{i}$\n",
        "\n",
        "where $Q_{i} = |R_{i} - \\tilde{R_{i}}|$\n",
        "\n",
        "The model can be assumed to be of the form $R=a_0 + a_1 T + a_2 D$ \n",
        "\n",
        "where R denotes the daily revenue, T denotes the daily average view-time per view, D denotes the daily average number of unskipped ads per view. Here a1 and a2 would indicate how the revenue varies with average view-time and average number\n",
        "of unskipped ads, respectively, while a0 would reflect a base revenue for your videos.\n",
        "\n",
        "$\\tilde{R_{i}}$ denotes the forecasted daily revenue where $T_{i}$ denotes the daily average view-time per view for $i^{th}$ video and $D_{i}$ denotes the daily average number of unskipped ads per view for $i^{th}$ video\n",
        "\n",
        "$\\tilde{R_{i}}= a_0 + a_1 T_{i} + a_2 D_{i}\\ \\forall i=1\\ to\\ 6$\n",
        "\n",
        "Bound/domain constraints:\n",
        "\n",
        "$a_0 \\geq 0$\n",
        "\n",
        "$a_1, a_2 \\in \\mathbb{R}$\n",
        "\n",
        "Other constraints:\n",
        "\n",
        "$Q_{i} \\geq R_{i} - \\tilde{R_{i}}$\n",
        "\n",
        "$Q_{i} \\geq -(R_{i} - \\tilde{R_{i}})$"
      ],
      "metadata": {
        "id": "QQZngXKU4FG1"
      }
    },
    {
      "cell_type": "markdown",
      "source": [
        "Answer 4)\n",
        "\n",
        "p=1\n",
        "\n",
        "Status: ok\n",
        "\n",
        "Termination condition: optimal\n",
        "\n",
        "Objective function value =  3986.158753\n",
        "\n",
        "Decision Variables\n",
        "\n",
        "$a_0$ =  0.0\n",
        "\n",
        "$a_1$ =  4.0039722\n",
        "\n",
        "$a_2$ =  8969.6127\n",
        "\n",
        "Observation: The value of $a_0$ is 0 so the objective function does not depend at all on the base revenue of the videos. Value of $a_2$ is very high so high revenue is generated from average number of unskipped ads."
      ],
      "metadata": {
        "id": "yTdSpMLo4Kdt"
      }
    },
    {
      "cell_type": "markdown",
      "source": [
        "Answer 5) For p > 1, the optimization program is non-linear and can be formulated as\n",
        "\n",
        "min $\\sum_{i=1}^{6} (Q_{i})^p$\n",
        "\n",
        "where $Q_{i} = |R_{i} - \\tilde{R_{i}}|$\n",
        "\n",
        "The model can be assumed to be of the form $R=a_0 + a_1 T + a_2 D$ \n",
        "\n",
        "where R denotes the daily revenue, T denotes the daily average view-time per view, D denotes the daily average number of unskipped ads per view. Here a1 and a2 would indicate how the revenue varies with average view-time and average number\n",
        "of unskipped ads, respectively, while a0 would reflect a base revenue for your videos.\n",
        "\n",
        "$\\tilde{R_{i}}$ denotes the forecasted daily revenue where $T_{i}$ denotes the daily average view-time per view for $i^{th}$ video and $D_{i}$ denotes the daily average number of unskipped ads per view for $i^{th}$ video\n",
        "\n",
        "$\\tilde{R_{i}}= a_0 + a_1 T_{i} + a_2 D_{i}\\ \\forall i=1\\ to\\ 6$\n",
        "\n",
        "Bound/domain constraints:\n",
        "\n",
        "$a_0 \\geq 0$\n",
        "\n",
        "$a_1, a_2 \\in \\mathbb{R}$"
      ],
      "metadata": {
        "id": "NqVRUGRS4LzZ"
      }
    },
    {
      "cell_type": "markdown",
      "source": [
        "Answer 7)\n",
        "\n",
        "p = 1.5\n",
        "\n",
        "Status: ok\n",
        "\n",
        "Termination condition: optimal\n",
        "\n",
        "Time: 0.025897741317749023\n",
        "\n",
        "Objective function value =  188066.92403421344\n",
        "\n",
        "Values of Decision Variables\n",
        "\n",
        "$a_0$ =  503.74058049349685\n",
        "\n",
        "$a_1$ =  2.723598706569999\n",
        "\n",
        "$a_2$ =  4802.720279141072\n",
        "\n",
        "Observation: The value of $a_1$ is low so very low revenue is generated from average view time per view. The value of $a_2$ is very high so high revenue is generated from average number of unskipped ads.\n",
        "\n",
        "p = 2\n",
        "\n",
        "Status: ok\n",
        "\n",
        "Termination condition: optimal\n",
        "\n",
        "Objective function value =  8399946.934010398\n",
        "\n",
        "Time: 0.02940201759338379\n",
        "\n",
        "Values of Decision Variables\n",
        "\n",
        "$a_0$ =  884.3228326047202\n",
        "\n",
        "$a_1$ =  1.856236216800654\n",
        "\n",
        "$a_2$ =  3097.070581130479\n",
        "\n",
        "Observation: The value of $a_1$ is low so very low revenue is generated from average view time per view. The value of $a_2$ is very high so high revenue is generated from average number of unskipped ads.\n",
        "\n",
        "Additional observation: The value of the objective function increases with increase in the value of p (Considering cases p=1, 1.5, 2)"
      ],
      "metadata": {
        "id": "ww3N47AV4M7i"
      }
    },
    {
      "cell_type": "markdown",
      "source": [
        "Answer 8) The forecast model is not a good fit for the given data as the objective function is high in all cases. Even in the best case when p=1, variance due to points i=3 and i=6 is too high. When p=1.5 or p=2, the variance is even higher and for no value of i, the values of forecasted revenue is close to the actual revenue (except when i=3 and p=2)."
      ],
      "metadata": {
        "id": "Or_y32DY4OGh"
      }
    },
    {
      "cell_type": "markdown",
      "source": [
        "Answer 9) p=1 value is good for the problem because for four values of i (i=1,2,4,5), the forecasted revenue is almost similar to the actual revenue (So, variance is less as compared to when p=1.5 or 2). We can also observe from the solution that the objective function is least when p=1. "
      ],
      "metadata": {
        "id": "T9KCPjSA4PyV"
      }
    }
  ]
}