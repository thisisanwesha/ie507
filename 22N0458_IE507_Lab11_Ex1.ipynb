{
  "nbformat": 4,
  "nbformat_minor": 0,
  "metadata": {
    "colab": {
      "provenance": [],
      "collapsed_sections": []
    },
    "kernelspec": {
      "name": "python3",
      "display_name": "Python 3"
    },
    "language_info": {
      "name": "python"
    }
  },
  "cells": [
    {
      "cell_type": "markdown",
      "source": [
        "# Simulation using Python, Lab 2, Part A: Monte Carlo Integration"
      ],
      "metadata": {
        "id": "jCYxZA0Ksgwt"
      }
    },
    {
      "cell_type": "code",
      "metadata": {
        "id": "9mEq66v4PziL"
      },
      "source": [
        "import math\n",
        "import numpy as np\n",
        "import random \n",
        "import matplotlib.pyplot as plt\n",
        "from scipy import stats"
      ],
      "execution_count": 1,
      "outputs": []
    },
    {
      "cell_type": "markdown",
      "source": [
        "**Example**\n",
        "Compute $\\int_0^\\pi sin(x) dx$ using MCS"
      ],
      "metadata": {
        "id": "GrYHWMdgstZG"
      }
    },
    {
      "cell_type": "code",
      "metadata": {
        "id": "xuQDD_oiQDC0"
      },
      "source": [
        "#Let's define the integral\n",
        "def integral1(x):\n",
        "  return (math.sin(x))"
      ],
      "execution_count": 2,
      "outputs": []
    },
    {
      "cell_type": "code",
      "source": [
        "N = 10 ## number of random points\n",
        "\n",
        "lb = 0.0  #lower bound\n",
        "ub = math.pi\t#upper bound\n",
        "\n",
        "eval_data = [] \t#Defining eval_data as a list data type\n",
        "\n",
        "for i in range(N):\n",
        "  v = random.uniform(lb, ub)\n",
        "  eval_data.append(integral1(v))\n",
        "\n",
        "val = (ub-lb)*np.mean(eval_data)\n",
        "\n",
        "print('Integral Estimate   : ', val)"
      ],
      "metadata": {
        "colab": {
          "base_uri": "https://localhost:8080/"
        },
        "id": "4mTnEeWGKKy0",
        "outputId": "a411c9bf-aac8-4947-8c6a-671e8c7d142d"
      },
      "execution_count": 3,
      "outputs": [
        {
          "output_type": "stream",
          "name": "stdout",
          "text": [
            "Integral Estimate   :  2.4691448137132848\n"
          ]
        }
      ]
    },
    {
      "cell_type": "code",
      "source": [
        "N = 100 ## number of random points\n",
        "\n",
        "lb = 0.0  #lower bound\n",
        "ub = math.pi\t#upper bound\n",
        "\n",
        "eval_data = [] \t#Defining eval_data as a list data type\n",
        "\n",
        "for i in range(N):\n",
        "  v = random.uniform(lb, ub)\n",
        "  eval_data.append(integral1(v))\n",
        "\n",
        "val = (ub-lb)*np.mean(eval_data)\n",
        "\n",
        "print('Integral Estimate   : ', val)"
      ],
      "metadata": {
        "colab": {
          "base_uri": "https://localhost:8080/"
        },
        "id": "4R1ApbpQKM7I",
        "outputId": "f4e88ac5-8011-4c57-dbbc-77179f9674a0"
      },
      "execution_count": 4,
      "outputs": [
        {
          "output_type": "stream",
          "name": "stdout",
          "text": [
            "Integral Estimate   :  2.2510236576997973\n"
          ]
        }
      ]
    },
    {
      "cell_type": "code",
      "metadata": {
        "id": "bS6qfA6jQLQL",
        "colab": {
          "base_uri": "https://localhost:8080/"
        },
        "outputId": "421ca123-fe15-4708-9c90-1ec30e84fb11"
      },
      "source": [
        "N = 1000 ## number of random points\n",
        "\n",
        "lb = 0.0  #lower bound\n",
        "ub = math.pi\t#upper bound\n",
        "\n",
        "eval_data = [] \t#Defining eval_data as a list data type\n",
        "\n",
        "for i in range(N):\n",
        "  v = random.uniform(lb, ub)\n",
        "  eval_data.append(integral1(v))\n",
        "\n",
        "val = (ub-lb)*np.mean(eval_data)\n",
        "\n",
        "print('Integral Estimate   : ', val)"
      ],
      "execution_count": 5,
      "outputs": [
        {
          "output_type": "stream",
          "name": "stdout",
          "text": [
            "Integral Estimate   :  2.025203227184399\n"
          ]
        }
      ]
    },
    {
      "cell_type": "code",
      "source": [
        "N = 10000 ## number of random points\n",
        "\n",
        "lb = 0.0  #lower bound\n",
        "ub = math.pi\t#upper bound\n",
        "\n",
        "eval_data = [] \t#Defining eval_data as a list data type\n",
        "\n",
        "for i in range(N):\n",
        "  v = random.uniform(lb, ub)\n",
        "  eval_data.append(integral1(v))\n",
        "\n",
        "val = (ub-lb)*np.mean(eval_data)\n",
        "\n",
        "print('Integral Estimate   : ', val)"
      ],
      "metadata": {
        "colab": {
          "base_uri": "https://localhost:8080/"
        },
        "id": "Ljiox_anKOyG",
        "outputId": "87c8e85b-5a85-4fca-ceb4-de56e23c738c"
      },
      "execution_count": 6,
      "outputs": [
        {
          "output_type": "stream",
          "name": "stdout",
          "text": [
            "Integral Estimate   :  2.0052574495155397\n"
          ]
        }
      ]
    },
    {
      "cell_type": "markdown",
      "metadata": {
        "id": "cnTVEuMvRZEf"
      },
      "source": [
        "Solve above example for N = 10, 100, 1000, 10000 and observe the results!"
      ]
    },
    {
      "cell_type": "markdown",
      "source": [
        "### Building Confidence Interval\n",
        "Let's run the model M=10 times, each with N=100 data points. Use the M data points to build the 95% CI of the mean estimate of the integral"
      ],
      "metadata": {
        "id": "lJEkQ7is-E2R"
      }
    },
    {
      "cell_type": "code",
      "metadata": {
        "id": "Rq3-TrrOSxcj",
        "colab": {
          "base_uri": "https://localhost:8080/"
        },
        "outputId": "3a4f9009-66bb-4cbe-83b9-40c3a744cbd6"
      },
      "source": [
        "M = 100 #Number of batches or sample sets.\n",
        "N = 100 ## number of random points per batch\n",
        "\n",
        "lb = 0.0  #lower bound\n",
        "ub = math.pi\t#upper bound\n",
        "\n",
        "val=[]\n",
        "for j in range(M): #Outer-loop for sample sets\n",
        "  eval_data = []\n",
        "\n",
        "  for i in range(N): #Inner-loop for function evaluation\n",
        "    v = random.uniform(lb, ub)\n",
        "    eval_data.append(integral1(v))\n",
        "  \n",
        "  val.append((ub-lb)*np.mean(eval_data))\n",
        "\n",
        "total_mean = np.mean(val)  #mean\n",
        "print(\"Integral Mean =\",total_mean)\n",
        "sd = np.std(val)\t#standard deviation\n",
        "print('Standard deviation = ',sd)\n",
        "\n",
        "alpha=0.05 #since we want to construct 95% CI\n",
        "dof = M -1\t# Degrees of freedom\n",
        "t_value = stats.t.ppf((1-alpha/2),dof)\n",
        "print(\"t-value from student t-dist with dof \", M-1, \" and alpha \", alpha, \" is \", t_value)\n",
        "t_hw = t_value*sd/math.sqrt(M)\t\t#Halfwidth\n",
        "print(\"Halfwidth = \",t_hw)\n",
        "print(\"95% CI of Integral is [\", total_mean - t_hw, \", \", total_mean + t_hw, \"]\" )"
      ],
      "execution_count": 7,
      "outputs": [
        {
          "output_type": "stream",
          "name": "stdout",
          "text": [
            "Integral Mean = 2.001280396984995\n",
            "Standard deviation =  0.09673872857301719\n",
            "t-value from student t-dist with dof  99  and alpha  0.05  is  1.9842169515086827\n",
            "Halfwidth =  0.019195062510197806\n",
            "95% CI of Integral is [ 1.9820853344747973 ,  2.020475459495193 ]\n"
          ]
        }
      ]
    },
    {
      "cell_type": "markdown",
      "source": [
        "#To Do"
      ],
      "metadata": {
        "id": "FI7wctp3CX9U"
      }
    },
    {
      "cell_type": "markdown",
      "source": [
        "1. Estimate $I = \\int_0^{9/10} \\int_0^1 \\int_0^{11/10} (4-x^2-y^2-z^2)dz dy dx$ using MCS.  Bound the expected value with a 95% CI"
      ],
      "metadata": {
        "id": "rCKQ-wVJChkx"
      }
    },
    {
      "cell_type": "code",
      "source": [
        "n=1000\n",
        "eval_data = []\n",
        "for i in range(n):\n",
        "  x = random.uniform(0,0.9)\n",
        "  y = random.uniform(0,1)\n",
        "  z = random.uniform(0,1.1)\n",
        "  \n",
        "  eval_data.append(4-(x**2)-(y**2)-(z**2))\n",
        "print(0.9*1*1.1*np.mean(eval_data))\n",
        "  \n"
      ],
      "metadata": {
        "id": "nJ7oBKk6CZro",
        "colab": {
          "base_uri": "https://localhost:8080/"
        },
        "outputId": "defa2227-75f1-4f27-9a0e-9c1561931ef0"
      },
      "execution_count": 8,
      "outputs": [
        {
          "output_type": "stream",
          "name": "stdout",
          "text": [
            "2.9554703920958567\n"
          ]
        }
      ]
    },
    {
      "cell_type": "code",
      "source": [
        "M = 100 #Number of batches or sample sets.\n",
        "N = 100 ## number of random points per batch\n",
        "\n",
        "val=[]\n",
        "for j in range(M): #Outer-loop for sample sets\n",
        "  eval_data = []\n",
        "\n",
        "  for i in range(N): #Inner-loop for function evaluation\n",
        "    x = random.uniform(0, 0.9)\n",
        "    y = random.uniform(0, 1)\n",
        "    z = random.uniform(0, 1.1)\n",
        "    eval_data.append(4-(x**2)-(y**2)-(z**2))\n",
        "  \n",
        "  val.append(0.9*1*1.1*np.mean(eval_data))\n",
        "\n",
        "total_mean = np.mean(val)  #mean\n",
        "print(\"Integral Mean =\",total_mean)\n",
        "sd = np.std(val)\t#standard deviation\n",
        "print('Standard deviation = ',sd)\n",
        "\n",
        "alpha=0.05 #since we want to construct 95% CI\n",
        "dof = M -1\t# Degrees of freedom\n",
        "t_value = stats.t.ppf((1-alpha/2),dof)\n",
        "print(\"t-value from student t-dist with dof \", M-1, \" and alpha \", alpha, \" is \", t_value)\n",
        "t_hw = t_value*sd/math.sqrt(M)\t\t#Halfwidth\n",
        "print(\"Halfwidth = \",t_hw)\n",
        "print(\"95% CI of Integral is [\", total_mean - t_hw, \", \", total_mean + t_hw, \"]\" )"
      ],
      "metadata": {
        "colab": {
          "base_uri": "https://localhost:8080/"
        },
        "id": "doRLHXEbJgX0",
        "outputId": "a0ddf412-5eab-49e0-d119-e0a6ecdb68e0"
      },
      "execution_count": 9,
      "outputs": [
        {
          "output_type": "stream",
          "name": "stdout",
          "text": [
            "Integral Mean = 2.9615525668011724\n",
            "Standard deviation =  0.049838677311786005\n",
            "t-value from student t-dist with dof  99  and alpha  0.05  is  1.9842169515086827\n",
            "Halfwidth =  0.009889074836281698\n",
            "95% CI of Integral is [ 2.9516634919648905 ,  2.9714416416374543 ]\n"
          ]
        }
      ]
    },
    {
      "cell_type": "markdown",
      "source": [
        "2. Estimate $I = \\int_0^\\inf x^{\\alpha -1} e^{-x} dx$, with $\\alpha$ = 1.9 using MCS.  Option 1: Try with $x$ ~ Expo(1).  Option 2: Try with $x$ ~ Erlang(k=2, $\\beta$=1). Compare the results across options for same value of N=100 and N=1000 "
      ],
      "metadata": {
        "id": "p7SoVrYGC3Xx"
      }
    },
    {
      "cell_type": "code",
      "source": [
        "N = 100\n",
        "eval_data = []\n",
        "for i in range(N):\n",
        "  x = np.random.exponential(1)\n",
        "  eval_data.append(x**0.9)\n",
        "print('Integral Estimate   : ', np.mean(eval_data))"
      ],
      "metadata": {
        "id": "GWHcUpx1DJxF",
        "colab": {
          "base_uri": "https://localhost:8080/"
        },
        "outputId": "dc9169ea-7903-477b-eaba-f0074e5c3eac"
      },
      "execution_count": 10,
      "outputs": [
        {
          "output_type": "stream",
          "name": "stdout",
          "text": [
            "Integral Estimate   :  0.9893908400647343\n"
          ]
        }
      ]
    },
    {
      "cell_type": "code",
      "source": [
        "N = 1000\n",
        "eval_data = []\n",
        "for i in range(N):\n",
        "  x = np.random.exponential(1)\n",
        "  eval_data.append(x**0.9)\n",
        "print('Integral Estimate   : ', np.mean(eval_data))"
      ],
      "metadata": {
        "colab": {
          "base_uri": "https://localhost:8080/"
        },
        "id": "8KJYLZAhMt_q",
        "outputId": "faf59736-363d-4cb7-bb32-ac138f722a8a"
      },
      "execution_count": 11,
      "outputs": [
        {
          "output_type": "stream",
          "name": "stdout",
          "text": [
            "Integral Estimate   :  0.9749794315898125\n"
          ]
        }
      ]
    },
    {
      "cell_type": "code",
      "source": [
        "N = 100\n",
        "eval_data = []\n",
        "for i in range(N):\n",
        "  x = np.random.gamma(2,1)\n",
        "  eval_data.append(x**0.9/x)\n",
        "print('Integral Estimate   : ', np.mean(eval_data))"
      ],
      "metadata": {
        "colab": {
          "base_uri": "https://localhost:8080/"
        },
        "id": "UuXoghELMuws",
        "outputId": "48993390-8cab-4bf0-94ef-3650d1351597"
      },
      "execution_count": 12,
      "outputs": [
        {
          "output_type": "stream",
          "name": "stdout",
          "text": [
            "Integral Estimate   :  0.9631777197004471\n"
          ]
        }
      ]
    },
    {
      "cell_type": "code",
      "source": [
        "N = 1000\n",
        "eval_data = []\n",
        "for i in range(N):\n",
        "  x = np.random.gamma(2,1)\n",
        "  eval_data.append(x**0.9/x)\n",
        "print('Integral Estimate   : ', np.mean(eval_data))"
      ],
      "metadata": {
        "colab": {
          "base_uri": "https://localhost:8080/"
        },
        "id": "fKTGLwIFMvfj",
        "outputId": "8c79299c-caad-44e6-d048-090ae5e3eb56"
      },
      "execution_count": 13,
      "outputs": [
        {
          "output_type": "stream",
          "name": "stdout",
          "text": [
            "Integral Estimate   :  0.9640157034386858\n"
          ]
        }
      ]
    },
    {
      "cell_type": "markdown",
      "source": [
        "Observation: For both the distributions of x, integral estimate when n=100 is higher but less accurate than when n=1000."
      ],
      "metadata": {
        "id": "Jz--7isEgQdN"
      }
    }
  ]
}