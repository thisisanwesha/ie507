{
  "cells": [
    {
      "cell_type": "code",
      "execution_count": 1,
      "metadata": {
        "id": "t_iorC5Izzfm"
      },
      "outputs": [],
      "source": [
        "!pip install -q pyomo"
      ]
    },
    {
      "cell_type": "code",
      "execution_count": 2,
      "metadata": {
        "id": "1r_yYUofSTFB"
      },
      "outputs": [],
      "source": [
        "from pyomo.environ import * "
      ]
    },
    {
      "cell_type": "code",
      "execution_count": 3,
      "metadata": {
        "id": "4xu-ZbGQ61f4"
      },
      "outputs": [],
      "source": [
        "import numpy as np"
      ]
    },
    {
      "cell_type": "code",
      "execution_count": 4,
      "metadata": {
        "id": "Z26rYgB4m25b"
      },
      "outputs": [],
      "source": [
        "data_txtfile1 = np.loadtxt('lab7_ex1_q.txt')\n",
        "data_txtfile2 = np.loadtxt('lab7_ex1_c.txt')"
      ]
    },
    {
      "cell_type": "code",
      "execution_count": 5,
      "metadata": {
        "id": "dqA5a8sTSdGg"
      },
      "outputs": [],
      "source": [
        "#M is the number of factories and N is the number of locations\n",
        "M = range(data_txtfile1.shape[0])\n",
        "N = range(data_txtfile2.shape[0])"
      ]
    },
    {
      "cell_type": "code",
      "execution_count": 6,
      "metadata": {
        "id": "HYj3zpsvSih4"
      },
      "outputs": [],
      "source": [
        "# create a model\n",
        "model_lab7_ex1 = ConcreteModel()"
      ]
    },
    {
      "cell_type": "code",
      "execution_count": 7,
      "metadata": {
        "colab": {
          "base_uri": "https://localhost:8080/"
        },
        "id": "NePoJ4k9Lp3H",
        "outputId": "653a80f0-c2b2-47d9-f1fb-2f8d650975c4"
      },
      "outputs": [
        {
          "output_type": "stream",
          "name": "stdout",
          "text": [
            "range(0, 12)\n",
            "range(0, 12)\n"
          ]
        }
      ],
      "source": [
        "print(M)\n",
        "print(N)"
      ]
    },
    {
      "cell_type": "code",
      "execution_count": 8,
      "metadata": {
        "colab": {
          "base_uri": "https://localhost:8080/"
        },
        "id": "ny1L1i__Ktkm",
        "outputId": "a1f9c179-1aad-46be-ba2c-bd6d114062ea"
      },
      "outputs": [
        {
          "output_type": "stream",
          "name": "stdout",
          "text": [
            "cost[ 0 ][ 0 ]: 0.0\n",
            "cost[ 0 ][ 1 ]: 18.0\n",
            "cost[ 0 ][ 2 ]: 22.0\n",
            "cost[ 0 ][ 3 ]: 19.0\n",
            "cost[ 0 ][ 4 ]: 23.0\n",
            "cost[ 0 ][ 5 ]: 20.0\n",
            "cost[ 0 ][ 6 ]: 18.0\n",
            "cost[ 0 ][ 7 ]: 19.0\n",
            "cost[ 0 ][ 8 ]: 0.0\n",
            "cost[ 0 ][ 9 ]: 20.0\n",
            "cost[ 0 ][ 10 ]: 24.0\n",
            "cost[ 0 ][ 11 ]: 35.0\n",
            "cost[ 1 ][ 0 ]: 21.0\n",
            "cost[ 1 ][ 1 ]: 0.0\n",
            "cost[ 1 ][ 2 ]: 20.0\n",
            "cost[ 1 ][ 3 ]: 0.0\n",
            "cost[ 1 ][ 4 ]: 19.0\n",
            "cost[ 1 ][ 5 ]: 0.0\n",
            "cost[ 1 ][ 6 ]: 22.0\n",
            "cost[ 1 ][ 7 ]: 20.0\n",
            "cost[ 1 ][ 8 ]: 18.0\n",
            "cost[ 1 ][ 9 ]: 19.0\n",
            "cost[ 1 ][ 10 ]: 0.0\n",
            "cost[ 1 ][ 11 ]: 33.0\n",
            "cost[ 2 ][ 0 ]: 22.0\n",
            "cost[ 2 ][ 1 ]: 23.0\n",
            "cost[ 2 ][ 2 ]: 0.0\n",
            "cost[ 2 ][ 3 ]: 0.0\n",
            "cost[ 2 ][ 4 ]: 0.0\n",
            "cost[ 2 ][ 5 ]: 17.0\n",
            "cost[ 2 ][ 6 ]: 16.0\n",
            "cost[ 2 ][ 7 ]: 24.0\n",
            "cost[ 2 ][ 8 ]: 16.0\n",
            "cost[ 2 ][ 9 ]: 18.0\n",
            "cost[ 2 ][ 10 ]: 24.0\n",
            "cost[ 2 ][ 11 ]: 0.0\n",
            "cost[ 3 ][ 0 ]: 17.0\n",
            "cost[ 3 ][ 1 ]: 25.0\n",
            "cost[ 3 ][ 2 ]: 0.0\n",
            "cost[ 3 ][ 3 ]: 0.0\n",
            "cost[ 3 ][ 4 ]: 21.0\n",
            "cost[ 3 ][ 5 ]: 22.0\n",
            "cost[ 3 ][ 6 ]: 20.0\n",
            "cost[ 3 ][ 7 ]: 17.0\n",
            "cost[ 3 ][ 8 ]: 15.0\n",
            "cost[ 3 ][ 9 ]: 16.0\n",
            "cost[ 3 ][ 10 ]: 24.0\n",
            "cost[ 3 ][ 11 ]: 31.0\n",
            "cost[ 4 ][ 0 ]: 12.0\n",
            "cost[ 4 ][ 1 ]: 19.0\n",
            "cost[ 4 ][ 2 ]: 18.0\n",
            "cost[ 4 ][ 3 ]: 19.0\n",
            "cost[ 4 ][ 4 ]: 0.0\n",
            "cost[ 4 ][ 5 ]: 21.0\n",
            "cost[ 4 ][ 6 ]: 21.0\n",
            "cost[ 4 ][ 7 ]: 23.0\n",
            "cost[ 4 ][ 8 ]: 21.0\n",
            "cost[ 4 ][ 9 ]: 0.0\n",
            "cost[ 4 ][ 10 ]: 0.0\n",
            "cost[ 4 ][ 11 ]: 21.0\n",
            "cost[ 5 ][ 0 ]: 20.0\n",
            "cost[ 5 ][ 1 ]: 0.0\n",
            "cost[ 5 ][ 2 ]: 0.0\n",
            "cost[ 5 ][ 3 ]: 17.0\n",
            "cost[ 5 ][ 4 ]: 21.0\n",
            "cost[ 5 ][ 5 ]: 0.0\n",
            "cost[ 5 ][ 6 ]: 20.0\n",
            "cost[ 5 ][ 7 ]: 0.0\n",
            "cost[ 5 ][ 8 ]: 19.0\n",
            "cost[ 5 ][ 9 ]: 17.0\n",
            "cost[ 5 ][ 10 ]: 22.0\n",
            "cost[ 5 ][ 11 ]: 20.0\n",
            "cost[ 6 ][ 0 ]: 22.0\n",
            "cost[ 6 ][ 1 ]: 24.0\n",
            "cost[ 6 ][ 2 ]: 28.0\n",
            "cost[ 6 ][ 3 ]: 16.0\n",
            "cost[ 6 ][ 4 ]: 23.0\n",
            "cost[ 6 ][ 5 ]: 0.0\n",
            "cost[ 6 ][ 6 ]: 0.0\n",
            "cost[ 6 ][ 7 ]: 19.0\n",
            "cost[ 6 ][ 8 ]: 24.0\n",
            "cost[ 6 ][ 9 ]: 25.0\n",
            "cost[ 6 ][ 10 ]: 30.0\n",
            "cost[ 6 ][ 11 ]: 19.0\n",
            "cost[ 7 ][ 0 ]: 23.0\n",
            "cost[ 7 ][ 1 ]: 29.0\n",
            "cost[ 7 ][ 2 ]: 20.0\n",
            "cost[ 7 ][ 3 ]: 17.0\n",
            "cost[ 7 ][ 4 ]: 24.0\n",
            "cost[ 7 ][ 5 ]: 24.0\n",
            "cost[ 7 ][ 6 ]: 23.0\n",
            "cost[ 7 ][ 7 ]: 0.0\n",
            "cost[ 7 ][ 8 ]: 19.0\n",
            "cost[ 7 ][ 9 ]: 22.0\n",
            "cost[ 7 ][ 10 ]: 30.0\n",
            "cost[ 7 ][ 11 ]: 26.0\n",
            "cost[ 8 ][ 0 ]: 0.0\n",
            "cost[ 8 ][ 1 ]: 28.0\n",
            "cost[ 8 ][ 2 ]: 29.0\n",
            "cost[ 8 ][ 3 ]: 21.0\n",
            "cost[ 8 ][ 4 ]: 0.0\n",
            "cost[ 8 ][ 5 ]: 24.0\n",
            "cost[ 8 ][ 6 ]: 18.0\n",
            "cost[ 8 ][ 7 ]: 18.0\n",
            "cost[ 8 ][ 8 ]: 0.0\n",
            "cost[ 8 ][ 9 ]: 0.0\n",
            "cost[ 8 ][ 10 ]: 22.0\n",
            "cost[ 8 ][ 11 ]: 23.0\n",
            "cost[ 9 ][ 0 ]: 31.0\n",
            "cost[ 9 ][ 1 ]: 20.0\n",
            "cost[ 9 ][ 2 ]: 0.0\n",
            "cost[ 9 ][ 3 ]: 19.0\n",
            "cost[ 9 ][ 4 ]: 23.0\n",
            "cost[ 9 ][ 5 ]: 0.0\n",
            "cost[ 9 ][ 6 ]: 20.0\n",
            "cost[ 9 ][ 7 ]: 24.0\n",
            "cost[ 9 ][ 8 ]: 19.0\n",
            "cost[ 9 ][ 9 ]: 0.0\n",
            "cost[ 9 ][ 10 ]: 20.0\n",
            "cost[ 9 ][ 11 ]: 0.0\n",
            "cost[ 10 ][ 0 ]: 17.0\n",
            "cost[ 10 ][ 1 ]: 0.0\n",
            "cost[ 10 ][ 2 ]: 25.0\n",
            "cost[ 10 ][ 3 ]: 23.0\n",
            "cost[ 10 ][ 4 ]: 20.0\n",
            "cost[ 10 ][ 5 ]: 18.0\n",
            "cost[ 10 ][ 6 ]: 16.0\n",
            "cost[ 10 ][ 7 ]: 19.0\n",
            "cost[ 10 ][ 8 ]: 0.0\n",
            "cost[ 10 ][ 9 ]: 39.0\n",
            "cost[ 10 ][ 10 ]: 0.0\n",
            "cost[ 10 ][ 11 ]: 34.0\n",
            "cost[ 11 ][ 0 ]: 0.0\n",
            "cost[ 11 ][ 1 ]: 32.0\n",
            "cost[ 11 ][ 2 ]: 24.0\n",
            "cost[ 11 ][ 3 ]: 26.0\n",
            "cost[ 11 ][ 4 ]: 0.0\n",
            "cost[ 11 ][ 5 ]: 19.0\n",
            "cost[ 11 ][ 6 ]: 0.0\n",
            "cost[ 11 ][ 7 ]: 18.0\n",
            "cost[ 11 ][ 8 ]: 37.0\n",
            "cost[ 11 ][ 9 ]: 21.0\n",
            "cost[ 11 ][ 10 ]: 20.0\n",
            "cost[ 11 ][ 11 ]: 0.0\n"
          ]
        }
      ],
      "source": [
        "#quantities transported between factories\n",
        "for row in M:\n",
        "  for col in M:\n",
        "    print('cost[',row,'][',col,']:',data_txtfile1[row, col])"
      ]
    },
    {
      "cell_type": "code",
      "execution_count": 9,
      "metadata": {
        "colab": {
          "base_uri": "https://localhost:8080/"
        },
        "id": "q7gk9LW7h7zl",
        "outputId": "7ff3617c-ae01-4d51-91a3-b8b4421af0fc"
      },
      "outputs": [
        {
          "output_type": "stream",
          "name": "stdout",
          "text": [
            "cost[ 0 ][ 0 ]: 0.0\n",
            "cost[ 0 ][ 1 ]: 11.0\n",
            "cost[ 0 ][ 2 ]: 13.0\n",
            "cost[ 0 ][ 3 ]: 9.0\n",
            "cost[ 0 ][ 4 ]: 19.0\n",
            "cost[ 0 ][ 5 ]: 20.0\n",
            "cost[ 0 ][ 6 ]: 27.0\n",
            "cost[ 0 ][ 7 ]: 13.0\n",
            "cost[ 0 ][ 8 ]: 19.0\n",
            "cost[ 0 ][ 9 ]: 11.0\n",
            "cost[ 0 ][ 10 ]: 19.0\n",
            "cost[ 0 ][ 11 ]: 10.0\n",
            "cost[ 1 ][ 0 ]: 11.0\n",
            "cost[ 1 ][ 1 ]: 0.0\n",
            "cost[ 1 ][ 2 ]: 8.0\n",
            "cost[ 1 ][ 3 ]: 9.0\n",
            "cost[ 1 ][ 4 ]: 11.0\n",
            "cost[ 1 ][ 5 ]: 19.0\n",
            "cost[ 1 ][ 6 ]: 10.0\n",
            "cost[ 1 ][ 7 ]: 15.0\n",
            "cost[ 1 ][ 8 ]: 12.0\n",
            "cost[ 1 ][ 9 ]: 23.0\n",
            "cost[ 1 ][ 10 ]: 24.0\n",
            "cost[ 1 ][ 11 ]: 11.0\n",
            "cost[ 2 ][ 0 ]: 13.0\n",
            "cost[ 2 ][ 1 ]: 8.0\n",
            "cost[ 2 ][ 2 ]: 0.0\n",
            "cost[ 2 ][ 3 ]: 18.0\n",
            "cost[ 2 ][ 4 ]: 19.0\n",
            "cost[ 2 ][ 5 ]: 19.0\n",
            "cost[ 2 ][ 6 ]: 27.0\n",
            "cost[ 2 ][ 7 ]: 27.0\n",
            "cost[ 2 ][ 8 ]: 19.0\n",
            "cost[ 2 ][ 9 ]: 24.0\n",
            "cost[ 2 ][ 10 ]: 12.0\n",
            "cost[ 2 ][ 11 ]: 17.0\n",
            "cost[ 3 ][ 0 ]: 9.0\n",
            "cost[ 3 ][ 1 ]: 9.0\n",
            "cost[ 3 ][ 2 ]: 18.0\n",
            "cost[ 3 ][ 3 ]: 0.0\n",
            "cost[ 3 ][ 4 ]: 19.0\n",
            "cost[ 3 ][ 5 ]: 20.0\n",
            "cost[ 3 ][ 6 ]: 10.0\n",
            "cost[ 3 ][ 7 ]: 20.0\n",
            "cost[ 3 ][ 8 ]: 21.0\n",
            "cost[ 3 ][ 9 ]: 20.0\n",
            "cost[ 3 ][ 10 ]: 27.0\n",
            "cost[ 3 ][ 11 ]: 10.0\n",
            "cost[ 4 ][ 0 ]: 19.0\n",
            "cost[ 4 ][ 1 ]: 11.0\n",
            "cost[ 4 ][ 2 ]: 25.0\n",
            "cost[ 4 ][ 3 ]: 19.0\n",
            "cost[ 4 ][ 4 ]: 0.0\n",
            "cost[ 4 ][ 5 ]: 21.0\n",
            "cost[ 4 ][ 6 ]: 17.0\n",
            "cost[ 4 ][ 7 ]: 26.0\n",
            "cost[ 4 ][ 8 ]: 20.0\n",
            "cost[ 4 ][ 9 ]: 14.0\n",
            "cost[ 4 ][ 10 ]: 24.0\n",
            "cost[ 4 ][ 11 ]: 17.0\n",
            "cost[ 5 ][ 0 ]: 20.0\n",
            "cost[ 5 ][ 1 ]: 13.0\n",
            "cost[ 5 ][ 2 ]: 20.0\n",
            "cost[ 5 ][ 3 ]: 20.0\n",
            "cost[ 5 ][ 4 ]: 21.0\n",
            "cost[ 5 ][ 5 ]: 0.0\n",
            "cost[ 5 ][ 6 ]: 28.0\n",
            "cost[ 5 ][ 7 ]: 14.0\n",
            "cost[ 5 ][ 8 ]: 22.0\n",
            "cost[ 5 ][ 9 ]: 17.0\n",
            "cost[ 5 ][ 10 ]: 22.0\n",
            "cost[ 5 ][ 11 ]: 23.0\n",
            "cost[ 6 ][ 0 ]: 27.0\n",
            "cost[ 6 ][ 1 ]: 10.0\n",
            "cost[ 6 ][ 2 ]: 17.0\n",
            "cost[ 6 ][ 3 ]: 10.0\n",
            "cost[ 6 ][ 4 ]: 17.0\n",
            "cost[ 6 ][ 5 ]: 28.0\n",
            "cost[ 6 ][ 6 ]: 0.0\n",
            "cost[ 6 ][ 7 ]: 12.0\n",
            "cost[ 6 ][ 8 ]: 18.0\n",
            "cost[ 6 ][ 9 ]: 26.0\n",
            "cost[ 6 ][ 10 ]: 10.0\n",
            "cost[ 6 ][ 11 ]: 12.0\n",
            "cost[ 7 ][ 0 ]: 13.0\n",
            "cost[ 7 ][ 1 ]: 15.0\n",
            "cost[ 7 ][ 2 ]: 27.0\n",
            "cost[ 7 ][ 3 ]: 20.0\n",
            "cost[ 7 ][ 4 ]: 19.0\n",
            "cost[ 7 ][ 5 ]: 14.0\n",
            "cost[ 7 ][ 6 ]: 12.0\n",
            "cost[ 7 ][ 7 ]: 0.0\n",
            "cost[ 7 ][ 8 ]: 27.0\n",
            "cost[ 7 ][ 9 ]: 10.0\n",
            "cost[ 7 ][ 10 ]: 19.0\n",
            "cost[ 7 ][ 11 ]: 17.0\n",
            "cost[ 8 ][ 0 ]: 29.0\n",
            "cost[ 8 ][ 1 ]: 12.0\n",
            "cost[ 8 ][ 2 ]: 19.0\n",
            "cost[ 8 ][ 3 ]: 21.0\n",
            "cost[ 8 ][ 4 ]: 20.0\n",
            "cost[ 8 ][ 5 ]: 22.0\n",
            "cost[ 8 ][ 6 ]: 18.0\n",
            "cost[ 8 ][ 7 ]: 27.0\n",
            "cost[ 8 ][ 8 ]: 0.0\n",
            "cost[ 8 ][ 9 ]: 20.0\n",
            "cost[ 8 ][ 10 ]: 22.0\n",
            "cost[ 8 ][ 11 ]: 16.0\n",
            "cost[ 9 ][ 0 ]: 11.0\n",
            "cost[ 9 ][ 1 ]: 20.0\n",
            "cost[ 9 ][ 2 ]: 24.0\n",
            "cost[ 9 ][ 3 ]: 10.0\n",
            "cost[ 9 ][ 4 ]: 14.0\n",
            "cost[ 9 ][ 5 ]: 17.0\n",
            "cost[ 9 ][ 6 ]: 26.0\n",
            "cost[ 9 ][ 7 ]: 10.0\n",
            "cost[ 9 ][ 8 ]: 10.0\n",
            "cost[ 9 ][ 9 ]: 0.0\n",
            "cost[ 9 ][ 10 ]: 25.0\n",
            "cost[ 9 ][ 11 ]: 21.0\n",
            "cost[ 10 ][ 0 ]: 18.0\n",
            "cost[ 10 ][ 1 ]: 19.0\n",
            "cost[ 10 ][ 2 ]: 12.0\n",
            "cost[ 10 ][ 3 ]: 14.0\n",
            "cost[ 10 ][ 4 ]: 14.0\n",
            "cost[ 10 ][ 5 ]: 22.0\n",
            "cost[ 10 ][ 6 ]: 10.0\n",
            "cost[ 10 ][ 7 ]: 19.0\n",
            "cost[ 10 ][ 8 ]: 12.0\n",
            "cost[ 10 ][ 9 ]: 25.0\n",
            "cost[ 10 ][ 10 ]: 0.0\n",
            "cost[ 10 ][ 11 ]: 21.0\n",
            "cost[ 11 ][ 0 ]: 20.0\n",
            "cost[ 11 ][ 1 ]: 21.0\n",
            "cost[ 11 ][ 2 ]: 17.0\n",
            "cost[ 11 ][ 3 ]: 10.0\n",
            "cost[ 11 ][ 4 ]: 17.0\n",
            "cost[ 11 ][ 5 ]: 20.0\n",
            "cost[ 11 ][ 6 ]: 22.0\n",
            "cost[ 11 ][ 7 ]: 17.0\n",
            "cost[ 11 ][ 8 ]: 16.0\n",
            "cost[ 11 ][ 9 ]: 21.0\n",
            "cost[ 11 ][ 10 ]: 21.0\n",
            "cost[ 11 ][ 11 ]: 0.0\n"
          ]
        }
      ],
      "source": [
        "#costs of transporation between locations\n",
        "for row in N:\n",
        "  for col in N:\n",
        "    print('cost[',row,'][',col,']:',data_txtfile2[row, col])"
      ]
    },
    {
      "cell_type": "code",
      "execution_count": 10,
      "metadata": {
        "id": "GWlyoZdzpoNT"
      },
      "outputs": [],
      "source": [
        "#declare the decision variables in the model\n",
        "model_lab7_ex1.x = Var(M, N, domain= NonNegativeIntegers)"
      ]
    },
    {
      "cell_type": "code",
      "execution_count": 11,
      "metadata": {
        "id": "hbgiiyFUnIgj"
      },
      "outputs": [],
      "source": [
        "#declare the decision variables in the model\n",
        "model_lab7_ex1.y = Var(M, N, M, N, domain= NonNegativeIntegers)"
      ]
    },
    {
      "cell_type": "code",
      "execution_count": 12,
      "metadata": {
        "id": "Hb5YvkU8wRcy"
      },
      "outputs": [],
      "source": [
        "for i in M:\n",
        "  for j in N:\n",
        "    model_lab7_ex1.x[i,j].setlb(0)\n",
        "    model_lab7_ex1.x[i,j].setub(1)"
      ]
    },
    {
      "cell_type": "code",
      "execution_count": 13,
      "metadata": {
        "id": "6AUcuaeEqDUm"
      },
      "outputs": [],
      "source": [
        "model_lab7_ex1.objective = Objective(expr=sum(data_txtfile1[i,k]*data_txtfile2[j,l]*model_lab7_ex1.y[i,j,k,l] for i in M for k in M for j in N for l in N),sense=minimize)"
      ]
    },
    {
      "cell_type": "code",
      "execution_count": 14,
      "metadata": {
        "id": "Mcu6irk6tQHz"
      },
      "outputs": [],
      "source": [
        "model_lab7_ex1.constraints = ConstraintList()"
      ]
    },
    {
      "cell_type": "code",
      "execution_count": 15,
      "metadata": {
        "id": "8V05vmFPtWYZ"
      },
      "outputs": [],
      "source": [
        "#adding constraints of locating one factory at each location and assigning one location for each factory\n",
        "for i in M:\n",
        "  model_lab7_ex1.constraints.add(expr=sum(model_lab7_ex1.x[i,j] for j in N) == 1)\n",
        "\n",
        "for j in N:\n",
        "  model_lab7_ex1.constraints.add(expr=sum(model_lab7_ex1.x[i,j] for i in M) == 1)"
      ]
    },
    {
      "cell_type": "code",
      "execution_count": 16,
      "metadata": {
        "colab": {
          "base_uri": "https://localhost:8080/"
        },
        "id": "ILnt7YdLspKg",
        "outputId": "8d1da202-a14f-4bd4-effa-f22764cd3a83"
      },
      "outputs": [
        {
          "output_type": "stream",
          "name": "stdout",
          "text": [
            "range(0, 12)\n",
            "range(0, 12)\n"
          ]
        }
      ],
      "source": [
        "print(M)\n",
        "print(N)"
      ]
    },
    {
      "cell_type": "code",
      "execution_count": 17,
      "metadata": {
        "id": "uMmnlUVVzhlJ"
      },
      "outputs": [],
      "source": [
        "#adding constraints to linearize the quadratic assignment problem \n",
        "for j in N:\n",
        "  for k in M:\n",
        "    for l in N:\n",
        "      model_lab7_ex1.constraints.add(expr=sum(model_lab7_ex1.y[i,j,k,l] for i in M) == model_lab7_ex1.x[k,l])\n",
        "\n",
        "\n",
        "for i in M:\n",
        "  for k in M:\n",
        "    for l in N:\n",
        "      model_lab7_ex1.constraints.add(expr=sum(model_lab7_ex1.y[i,j,k,l] for j in N) == model_lab7_ex1.x[k,l])"
      ]
    },
    {
      "cell_type": "code",
      "execution_count": 18,
      "metadata": {
        "id": "AzxonZqWsYRR"
      },
      "outputs": [],
      "source": [
        "for i in M:\n",
        "  for j in N:\n",
        "    for k in M:\n",
        "      for l in N:\n",
        "        model_lab7_ex1.constraints.add(expr=(model_lab7_ex1.y[i,j,k,l] >=0))"
      ]
    },
    {
      "cell_type": "code",
      "execution_count": 19,
      "metadata": {
        "id": "IaYlSgT8obN3"
      },
      "outputs": [],
      "source": [
        "for i in M:\n",
        "  for j in N:\n",
        "    for k in M:\n",
        "      for l in N:\n",
        "        model_lab7_ex1.constraints.add(expr=(model_lab7_ex1.y[i,j,k,l] - model_lab7_ex1.y[k,l,i,j]==0))"
      ]
    },
    {
      "cell_type": "code",
      "execution_count": 20,
      "metadata": {
        "id": "hLjlmRD8eG_X"
      },
      "outputs": [],
      "source": [
        "#model_lab7_ex1.pprint()"
      ]
    },
    {
      "cell_type": "code",
      "execution_count": 21,
      "metadata": {
        "colab": {
          "base_uri": "https://localhost:8080/"
        },
        "id": "rhSG6IRMfclR",
        "outputId": "5b7cd0c9-9b7a-4b68-c039-00c793eee63a"
      },
      "outputs": [
        {
          "output_type": "stream",
          "name": "stdout",
          "text": [
            "Selecting previously unselected package coinor-libcoinutils3v5.\n",
            "(Reading database ... 159447 files and directories currently installed.)\n",
            "Preparing to unpack .../0-coinor-libcoinutils3v5_2.10.14+repack1-1_amd64.deb ...\n",
            "Unpacking coinor-libcoinutils3v5 (2.10.14+repack1-1) ...\n",
            "Selecting previously unselected package coinor-libosi1v5.\n",
            "Preparing to unpack .../1-coinor-libosi1v5_0.107.9+repack1-1_amd64.deb ...\n",
            "Unpacking coinor-libosi1v5 (0.107.9+repack1-1) ...\n",
            "Selecting previously unselected package coinor-libclp1.\n",
            "Preparing to unpack .../2-coinor-libclp1_1.16.11+repack1-1_amd64.deb ...\n",
            "Unpacking coinor-libclp1 (1.16.11+repack1-1) ...\n",
            "Selecting previously unselected package coinor-libcgl1.\n",
            "Preparing to unpack .../3-coinor-libcgl1_0.59.10+repack1-1_amd64.deb ...\n",
            "Unpacking coinor-libcgl1 (0.59.10+repack1-1) ...\n",
            "Selecting previously unselected package coinor-libcbc3.\n",
            "Preparing to unpack .../4-coinor-libcbc3_2.9.9+repack1-1_amd64.deb ...\n",
            "Unpacking coinor-libcbc3 (2.9.9+repack1-1) ...\n",
            "Selecting previously unselected package coinor-cbc.\n",
            "Preparing to unpack .../5-coinor-cbc_2.9.9+repack1-1_amd64.deb ...\n",
            "Unpacking coinor-cbc (2.9.9+repack1-1) ...\n",
            "Setting up coinor-libcoinutils3v5 (2.10.14+repack1-1) ...\n",
            "Setting up coinor-libosi1v5 (0.107.9+repack1-1) ...\n",
            "Setting up coinor-libclp1 (1.16.11+repack1-1) ...\n",
            "Setting up coinor-libcgl1 (0.59.10+repack1-1) ...\n",
            "Setting up coinor-libcbc3 (2.9.9+repack1-1) ...\n",
            "Setting up coinor-cbc (2.9.9+repack1-1) ...\n",
            "Processing triggers for man-db (2.8.3-2ubuntu0.1) ...\n",
            "Processing triggers for libc-bin (2.27-3ubuntu1.5) ...\n"
          ]
        }
      ],
      "source": [
        "!apt-get install -y -qq coinor-cbc"
      ]
    },
    {
      "cell_type": "code",
      "execution_count": 22,
      "metadata": {
        "id": "Sq3CpPcCeIBC"
      },
      "outputs": [],
      "source": [
        "opt_cbc = SolverFactory('cbc')"
      ]
    },
    {
      "cell_type": "code",
      "execution_count": 24,
      "metadata": {
        "colab": {
          "base_uri": "https://localhost:8080/"
        },
        "id": "ANOu9qtsMgJQ",
        "outputId": "7ed587ff-84a5-4756-9d28-b2e6359e78f9"
      },
      "outputs": [
        {
          "output_type": "stream",
          "name": "stdout",
          "text": [
            "Solver status: ok\n",
            "Solver termination condition: optimal\n"
          ]
        }
      ],
      "source": [
        "result = opt_cbc.solve(model_lab7_ex1)\n",
        "print('Solver status:', result.solver.status)\n",
        "print('Solver termination condition:',result.solver.termination_condition)"
      ]
    },
    {
      "cell_type": "code",
      "execution_count": 29,
      "metadata": {
        "id": "WQZHDR3afKj5",
        "colab": {
          "base_uri": "https://localhost:8080/"
        },
        "outputId": "117398b9-ae0a-4fb3-c14e-a8cd5573ba0b"
      },
      "outputs": [
        {
          "output_type": "stream",
          "name": "stdout",
          "text": [
            "\n",
            "Objective =  38135.0\n",
            "Factory 1 is to be located at Location 10\n",
            "Factory 2 is to be located at Location 3\n",
            "Factory 3 is to be located at Location 9\n",
            "Factory 4 is to be located at Location 1\n",
            "Factory 5 is to be located at Location 6\n",
            "Factory 6 is to be located at Location 8\n",
            "Factory 7 is to be located at Location 11\n",
            "Factory 8 is to be located at Location 2\n",
            "Factory 9 is to be located at Location 7\n",
            "Factory 10 is to be located at Location 5\n",
            "Factory 11 is to be located at Location 12\n",
            "Factory 12 is to be located at Location 4\n"
          ]
        }
      ],
      "source": [
        "# display solution\n",
        "print('\\nObjective = ', model_lab7_ex1.objective())\n",
        "\n",
        "for i in M:\n",
        "  for j in N:\n",
        "    if model_lab7_ex1.x[i,j].value==1:\n",
        "      print('Factory', i+1,'is to be located at Location', j+1)\n",
        "\n",
        "#print('\\nConstraints')\n",
        "#model_lab7_ex1.constraints.display()"
      ]
    },
    {
      "cell_type": "code",
      "execution_count": 26,
      "metadata": {
        "id": "MeDDXlHaQt2j"
      },
      "outputs": [],
      "source": [
        "#changing domain of variables to continuous values\n",
        "for i in M:\n",
        "  for j in N:\n",
        "    model_lab7_ex1.x[i,j].domain=NonNegativeReals"
      ]
    },
    {
      "cell_type": "code",
      "execution_count": 27,
      "metadata": {
        "id": "dsNEqC3wRRIL",
        "colab": {
          "base_uri": "https://localhost:8080/"
        },
        "outputId": "76e0493a-c93a-4025-c565-5a67d60f9311"
      },
      "outputs": [
        {
          "output_type": "stream",
          "name": "stdout",
          "text": [
            "Solver status: ok\n",
            "Solver termination condition: optimal\n"
          ]
        }
      ],
      "source": [
        "result = opt_cbc.solve(model_lab7_ex1)\n",
        "print('Solver status:', result.solver.status)\n",
        "print('Solver termination condition:',result.solver.termination_condition)"
      ]
    },
    {
      "cell_type": "code",
      "execution_count": 30,
      "metadata": {
        "id": "sPLifkVSRTXb",
        "colab": {
          "base_uri": "https://localhost:8080/"
        },
        "outputId": "605ecf8c-af5d-4a7f-87d8-053eb6156b3f"
      },
      "outputs": [
        {
          "output_type": "stream",
          "name": "stdout",
          "text": [
            "\n",
            "Objective =  38135.0\n",
            "Factory 1 is to be located at Location 10\n",
            "Factory 2 is to be located at Location 3\n",
            "Factory 3 is to be located at Location 9\n",
            "Factory 4 is to be located at Location 1\n",
            "Factory 5 is to be located at Location 6\n",
            "Factory 6 is to be located at Location 8\n",
            "Factory 7 is to be located at Location 11\n",
            "Factory 8 is to be located at Location 2\n",
            "Factory 9 is to be located at Location 7\n",
            "Factory 10 is to be located at Location 5\n",
            "Factory 11 is to be located at Location 12\n",
            "Factory 12 is to be located at Location 4\n"
          ]
        }
      ],
      "source": [
        "# display solution\n",
        "print('\\nObjective = ', model_lab7_ex1.objective())\n",
        "\n",
        "for i in M:\n",
        "  for j in N:\n",
        "    if model_lab7_ex1.x[i,j].value==1:\n",
        "      print('Factory', i+1,'is to be located at Location', j+1)\n",
        "\n",
        "#print('\\nConstraints')\n",
        "#model_lab7_ex1.constraints.display()"
      ]
    },
    {
      "cell_type": "markdown",
      "metadata": {
        "id": "EQTlRWaSec1h"
      },
      "source": [
        "Answer 1)\n",
        "\n",
        "Let $x_{i,j}$ be the decision variable denoting ith factory be located at jth location\\\n",
        "Let $y_{i,j,k,l}$ be the product of $x_{i,j}*x_{k,l}$\\\n",
        "Objective function:\\\n",
        "$min ∑_{i,j,k,l=1}^{12} a_{ik}b_{jl}x_{ij}x_{kl}$\\\n",
        "i.e. $min ∑_{i,j,k,l=1}^{12} a_{ik}b_{jl}y_{ijkl}$\\\n",
        "s.t.$∑_{i=1}^{12}x_{i,j}=1\\ \\forall j=1,2,.....,n$\\\n",
        "$∑_{j=1}^{12}x_{i,j}=1\\ \\forall i=1,2,.....,n$\\\n",
        "$∑_{i=1}^{12}y_{i,j,k,l}=x_{k,l}\\ ∀j,k,l=1,2,.....,n$\\\n",
        "$∑_{j=1}^{12}y_{i,j,k,l}=x_{k,l}\\ ∀i,k,l=1,2,.....,n$\\\n",
        "$y_{i,j,k,l} \\geq 0$\\\n",
        "$x_{i,j}\\ \\in\\{0,1\\},\\ y_{i,j,k,l}\\ \\in\\{0,1\\}$"
      ]
    },
    {
      "cell_type": "markdown",
      "metadata": {
        "id": "C0Xq5rmceeaW"
      },
      "source": [
        "Answer 2) If there are n factories and n locations then we require $n^4$ y variables, $n^2$ x variables and $n^4+2n^3+2n$ constraints in addition to the bound constraints. "
      ]
    },
    {
      "cell_type": "markdown",
      "metadata": {
        "id": "8xkE7Nl9efpP"
      },
      "source": [
        "Answer 9)\n",
        "Objective =  38135.0\n",
        "\n",
        "Factory 1 is to be located at Location 10\n",
        "\n",
        "Factory 2 is to be located at Location 3\n",
        "\n",
        "Factory 3 is to be located at Location 9\n",
        "\n",
        "Factory 4 is to be located at Location 1\n",
        "\n",
        "Factory 5 is to be located at Location 6\n",
        "\n",
        "Factory 6 is to be located at Location 8\n",
        "\n",
        "Factory 7 is to be located at Location 11\n",
        "\n",
        "Factory 8 is to be located at Location 2\n",
        "\n",
        "Factory 9 is to be located at Location 7\n",
        "\n",
        "Factory 10 is to be located at Location 5\n",
        "\n",
        "Factory 11 is to be located at Location 12\n",
        "\n",
        "Factory 12 is to be located at Location 4"
      ]
    },
    {
      "cell_type": "markdown",
      "metadata": {
        "id": "WcuH5l4qeguA"
      },
      "source": [
        "Answer 10) Objective =  38135.0\n",
        "\n",
        "Factory 1 is to be located at Location 10\n",
        "\n",
        "Factory 2 is to be located at Location 3\n",
        "\n",
        "Factory 3 is to be located at Location 9\n",
        "\n",
        "Factory 4 is to be located at Location 1\n",
        "\n",
        "Factory 5 is to be located at Location 6\n",
        "\n",
        "Factory 6 is to be located at Location 8\n",
        "\n",
        "Factory 7 is to be located at Location 11\n",
        "\n",
        "Factory 8 is to be located at Location 2\n",
        "\n",
        "Factory 9 is to be located at Location 7\n",
        "\n",
        "Factory 10 is to be located at Location 5\n",
        "\n",
        "Factory 11 is to be located at Location 12\n",
        "\n",
        "Factory 12 is to be located at Location 4"
      ]
    },
    {
      "cell_type": "markdown",
      "metadata": {
        "id": "jYTFHGGJeiAC"
      },
      "source": [
        "Answer 11) \n",
        "Yes, the optimal costs for both the problems are same and they are still integer valued. If $x_{ij}$'s took fractional values (which add upto 1 in each row and column of ($x_{ij}$) matrix) then the solution would not have been optimal as the total cost ($∑_{i,j,k,l=1}^{12} a_{ik}b_{jl}x_{ij}x_{kl}$ ) would have been greater than when compared to taking only one $x_{ij}$ value as 1 in each row and column."
      ]
    }
  ],
  "metadata": {
    "colab": {
      "collapsed_sections": [],
      "provenance": []
    },
    "kernelspec": {
      "display_name": "Python 3",
      "name": "python3"
    }
  },
  "nbformat": 4,
  "nbformat_minor": 0
}