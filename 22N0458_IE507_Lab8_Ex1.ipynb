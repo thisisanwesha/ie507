{
  "nbformat": 4,
  "nbformat_minor": 0,
  "metadata": {
    "colab": {
      "provenance": [],
      "collapsed_sections": []
    },
    "kernelspec": {
      "name": "python3",
      "display_name": "Python 3"
    }
  },
  "cells": [
    {
      "cell_type": "code",
      "metadata": {
        "id": "1r_yYUofSTFB"
      },
      "source": [
        "!pip install -q pyomo"
      ],
      "execution_count": null,
      "outputs": []
    },
    {
      "cell_type": "code",
      "metadata": {
        "id": "j4opCPZrSak0"
      },
      "source": [
        "from pyomo.environ import *"
      ],
      "execution_count": null,
      "outputs": []
    },
    {
      "cell_type": "code",
      "metadata": {
        "id": "HYj3zpsvSih4"
      },
      "source": [
        "# create a model\n",
        "model = ConcreteModel()"
      ],
      "execution_count": null,
      "outputs": []
    },
    {
      "cell_type": "code",
      "metadata": {
        "id": "XvRZqCV8d_-e"
      },
      "source": [
        "# declare decision variables with initialization\n",
        "model.x1 = Var(initialize=2)\n",
        "model.x2 = Var(initialize=2)\n",
        "model.x3 = Var(initialize=2)\n",
        "model.x4 = Var(initialize=2)\n",
        "model.x5 = Var(initialize=2)"
      ],
      "execution_count": null,
      "outputs": []
    },
    {
      "cell_type": "code",
      "source": [
        "model.constr1 = Constraint(expr=model.x1 + model.x2**2 + model.x3**3 - 2 - 3*((2)**(1/2))== 0)\n",
        "model.constr2 = Constraint(expr=model.x2 - model.x3**2 + model.x4 + 2 - 2*((2)**(1/2))== 0)\n",
        "model.constr3 = Constraint(expr=model.x1*model.x5 - 2 == 0)\n",
        "model.constr4 = Constraint(expr=model.x1 >= -5)\n",
        "model.constr5 = Constraint(expr=model.x1 <= 5)\n",
        "model.constr6 = Constraint(expr=model.x3 >= 0)\n",
        "model.constr7 = Constraint(expr=model.x3 <= 3)"
      ],
      "metadata": {
        "id": "fbvRgK89htiS"
      },
      "execution_count": null,
      "outputs": []
    },
    {
      "cell_type": "code",
      "source": [
        "def funct(model):\n",
        "  return (model.x1-1.0)**2 + (model.x1 - model.x2)**2 + (model.x2 - model.x3)**2 + (model.x3 - model.x4)**4 + (model.x4 - model.x5)**4"
      ],
      "metadata": {
        "id": "WX3W1J-EThso"
      },
      "execution_count": null,
      "outputs": []
    },
    {
      "cell_type": "code",
      "metadata": {
        "id": "sN7eq44-eCfY"
      },
      "source": [
        "# declare objective\n",
        "model.cost = Objective(rule = funct, sense=minimize)"
      ],
      "execution_count": null,
      "outputs": []
    },
    {
      "cell_type": "code",
      "metadata": {
        "id": "hLjlmRD8eG_X",
        "colab": {
          "base_uri": "https://localhost:8080/"
        },
        "outputId": "ce1c8db9-244a-4873-d97a-278cdd2697cd"
      },
      "source": [
        "model.pprint()"
      ],
      "execution_count": null,
      "outputs": [
        {
          "output_type": "stream",
          "name": "stdout",
          "text": [
            "5 Var Declarations\n",
            "    x1 : Size=1, Index=None\n",
            "        Key  : Lower : Value : Upper : Fixed : Stale : Domain\n",
            "        None :  None :     2 :  None : False : False :  Reals\n",
            "    x2 : Size=1, Index=None\n",
            "        Key  : Lower : Value : Upper : Fixed : Stale : Domain\n",
            "        None :  None :     2 :  None : False : False :  Reals\n",
            "    x3 : Size=1, Index=None\n",
            "        Key  : Lower : Value : Upper : Fixed : Stale : Domain\n",
            "        None :  None :     2 :  None : False : False :  Reals\n",
            "    x4 : Size=1, Index=None\n",
            "        Key  : Lower : Value : Upper : Fixed : Stale : Domain\n",
            "        None :  None :     2 :  None : False : False :  Reals\n",
            "    x5 : Size=1, Index=None\n",
            "        Key  : Lower : Value : Upper : Fixed : Stale : Domain\n",
            "        None :  None :     2 :  None : False : False :  Reals\n",
            "\n",
            "1 Objective Declarations\n",
            "    cost : Size=1, Index=None, Active=True\n",
            "        Key  : Active : Sense    : Expression\n",
            "        None :   True : minimize : (x1 - 1.0)**2 + (x1 - x2)**2 + (x2 - x3)**2 + (x3 - x4)**4 + (x4 - x5)**4\n",
            "\n",
            "7 Constraint Declarations\n",
            "    constr1 : Size=1, Index=None, Active=True\n",
            "        Key  : Lower : Body                                       : Upper : Active\n",
            "        None :   0.0 : x1 + x2**2 + x3**3 - 2 - 4.242640687119286 :   0.0 :   True\n",
            "    constr2 : Size=1, Index=None, Active=True\n",
            "        Key  : Lower : Body                                     : Upper : Active\n",
            "        None :   0.0 : x2 - x3**2 + x4 + 2 - 2.8284271247461903 :   0.0 :   True\n",
            "    constr3 : Size=1, Index=None, Active=True\n",
            "        Key  : Lower : Body      : Upper : Active\n",
            "        None :   0.0 : x1*x5 - 2 :   0.0 :   True\n",
            "    constr4 : Size=1, Index=None, Active=True\n",
            "        Key  : Lower : Body : Upper : Active\n",
            "        None :  -5.0 :   x1 :  +Inf :   True\n",
            "    constr5 : Size=1, Index=None, Active=True\n",
            "        Key  : Lower : Body : Upper : Active\n",
            "        None :  -Inf :   x1 :   5.0 :   True\n",
            "    constr6 : Size=1, Index=None, Active=True\n",
            "        Key  : Lower : Body : Upper : Active\n",
            "        None :   0.0 :   x3 :  +Inf :   True\n",
            "    constr7 : Size=1, Index=None, Active=True\n",
            "        Key  : Lower : Body : Upper : Active\n",
            "        None :  -Inf :   x3 :   3.0 :   True\n",
            "\n",
            "13 Declarations: x1 x2 x3 x4 x5 constr1 constr2 constr3 constr4 constr5 constr6 constr7 cost\n"
          ]
        }
      ]
    },
    {
      "cell_type": "code",
      "source": [
        "#We will use ipopt solver for solving the optimization problem\n",
        "\n",
        "!wget -N -q \"https://ampl.com/dl/open/ipopt/ipopt-linux64.zip\"\n",
        "!unzip -o -q ipopt-linux64"
      ],
      "metadata": {
        "id": "39LzajNuVUEh"
      },
      "execution_count": null,
      "outputs": []
    },
    {
      "cell_type": "code",
      "source": [
        "solver = SolverFactory('ipopt', executable='/content/ipopt')"
      ],
      "metadata": {
        "id": "aVuYHMW2UFP-"
      },
      "execution_count": null,
      "outputs": []
    },
    {
      "cell_type": "code",
      "source": [
        "results = solver.solve(model)"
      ],
      "metadata": {
        "id": "jA-nJRTCX78J"
      },
      "execution_count": null,
      "outputs": []
    },
    {
      "cell_type": "code",
      "source": [
        "#display the statistics \n",
        "print(results)"
      ],
      "metadata": {
        "colab": {
          "base_uri": "https://localhost:8080/"
        },
        "id": "7EsKAZXlXtpc",
        "outputId": "b4fdc0cc-d616-4f1a-c351-395f93c1aecb"
      },
      "execution_count": null,
      "outputs": [
        {
          "output_type": "stream",
          "name": "stdout",
          "text": [
            "\n",
            "Problem: \n",
            "- Lower bound: -inf\n",
            "  Upper bound: inf\n",
            "  Number of objectives: 1\n",
            "  Number of constraints: 7\n",
            "  Number of variables: 5\n",
            "  Sense: unknown\n",
            "Solver: \n",
            "- Status: ok\n",
            "  Message: Ipopt 3.12.13\\x3a Optimal Solution Found\n",
            "  Termination condition: optimal\n",
            "  Id: 0\n",
            "  Error rc: 0\n",
            "  Time: 0.028654098510742188\n",
            "Solution: \n",
            "- number of solutions: 0\n",
            "  number of solutions displayed: 0\n",
            "\n"
          ]
        }
      ]
    },
    {
      "cell_type": "code",
      "metadata": {
        "id": "WQZHDR3afKj5",
        "colab": {
          "base_uri": "https://localhost:8080/"
        },
        "outputId": "41ca07af-0423-4cc6-e29b-3a2e931efff3"
      },
      "source": [
        "# display solution\n",
        "print('\\nCost = ', model.cost())\n",
        "\n",
        "print('\\nOptimal solution of the function:')\n",
        "print('x1 = ', model.x1())\n",
        "print('x2 = ', model.x2())\n",
        "print('x3 = ', model.x3())\n",
        "print('x4 = ', model.x4())\n",
        "print('x5 = ', model.x5())\n",
        "\n",
        "print(\"Constraints:\")\n",
        "print(\"Constraint 1 is active because LHS evaluates to\",model.constr1(),\"= RHS = 0\")\n",
        "print(\"Constraint 2 is active because LHS evaluates to\",model.constr2(),\"= RHS = 0\")\n",
        "print(\"Constraint 3 is active because LHS evaluates to\",model.constr3(),\"= RHS = 0\")\n",
        "print(\"Constraint 4 is inactive because LHS evaluates to\",model.constr4(),\"> RHS = -5\")\n",
        "print(\"Constraint 5 is inactive because LHS evaluates to\",model.constr5(),\"< RHS = 5\")\n",
        "print(\"Constraint 6 is inactive because LHS evaluates to\",model.constr6(),\"> RHS = 0\")\n",
        "print(\"Constraint 7 is inactive because LHS evaluates to\",model.constr7(),\"< RHS = 3\")"
      ],
      "execution_count": null,
      "outputs": [
        {
          "output_type": "stream",
          "name": "stdout",
          "text": [
            "\n",
            "Cost =  0.07877682087105699\n",
            "\n",
            "Optimal solution of the function:\n",
            "x1 =  1.1911274562403504\n",
            "x2 =  1.3626031649434767\n",
            "x3 =  1.4728179315306016\n",
            "x4 =  1.6350166192407933\n",
            "x5 =  1.6790814362660684\n",
            "Constraints:\n",
            "Constraint 1 is active because LHS evaluates to 1.7763568394002505e-15 = RHS = 0\n",
            "Constraint 2 is active because LHS evaluates to -4.440892098500626e-16 = RHS = 0\n",
            "Constraint 3 is active because LHS evaluates to -3.774758283725532e-15 = RHS = 0\n",
            "Constraint 4 is inactive because LHS evaluates to 1.1911274562403504 > RHS = -5\n",
            "Constraint 5 is inactive because LHS evaluates to 1.1911274562403504 < RHS = 5\n",
            "Constraint 6 is inactive because LHS evaluates to 1.4728179315306016 > RHS = 0\n",
            "Constraint 7 is inactive because LHS evaluates to 1.4728179315306016 < RHS = 3\n"
          ]
        }
      ]
    },
    {
      "cell_type": "code",
      "metadata": {
        "id": "pyXaxU0aGBjj"
      },
      "source": [],
      "execution_count": null,
      "outputs": []
    },
    {
      "cell_type": "code",
      "source": [
        "# declare decision variables with initialization\n",
        "model.x1 = Var(initialize=2**2)\n",
        "model.x2 = Var(initialize=2**2)\n",
        "model.x3 = Var(initialize=2**2)\n",
        "model.x4 = Var(initialize=2**2)\n",
        "model.x5 = Var(initialize=2**2)\n",
        "\n",
        "model.constr1 = Constraint(expr=model.x1 + model.x2**2 + model.x3**3 - 2 - 3*((2)**(1/2))== 0)\n",
        "model.constr2 = Constraint(expr=model.x2 - model.x3**2 + model.x4 + 2 - 2*((2)**(1/2))== 0)\n",
        "model.constr3 = Constraint(expr=model.x1*model.x5 - 2 == 0)\n",
        "model.constr4 = Constraint(expr=model.x1 >= -5)\n",
        "model.constr5 = Constraint(expr=model.x1 <= 5)\n",
        "model.constr6 = Constraint(expr=model.x3 >= 0)\n",
        "model.constr7 = Constraint(expr=model.x3 <= 3)\n",
        "\n",
        "# declare objective\n",
        "model.cost = Objective(rule = funct, sense=minimize)"
      ],
      "metadata": {
        "colab": {
          "base_uri": "https://localhost:8080/"
        },
        "id": "nLZh7VhRrBLg",
        "outputId": "7aa850fe-ca63-4e9a-cf23-09a631fb0f4c"
      },
      "execution_count": null,
      "outputs": [
        {
          "output_type": "stream",
          "name": "stderr",
          "text": [
            "WARNING:pyomo.core:Implicitly replacing the Component attribute x1 (type=<class 'pyomo.core.base.var.ScalarVar'>) on block unknown with a new Component (type=<class 'pyomo.core.base.var.AbstractScalarVar'>).\n",
            "This is usually indicative of a modelling error.\n",
            "To avoid this warning, use block.del_component() and block.add_component().\n",
            "WARNING:pyomo.core:Implicitly replacing the Component attribute x2 (type=<class 'pyomo.core.base.var.ScalarVar'>) on block unknown with a new Component (type=<class 'pyomo.core.base.var.AbstractScalarVar'>).\n",
            "This is usually indicative of a modelling error.\n",
            "To avoid this warning, use block.del_component() and block.add_component().\n",
            "WARNING:pyomo.core:Implicitly replacing the Component attribute x3 (type=<class 'pyomo.core.base.var.ScalarVar'>) on block unknown with a new Component (type=<class 'pyomo.core.base.var.AbstractScalarVar'>).\n",
            "This is usually indicative of a modelling error.\n",
            "To avoid this warning, use block.del_component() and block.add_component().\n",
            "WARNING:pyomo.core:Implicitly replacing the Component attribute x4 (type=<class 'pyomo.core.base.var.ScalarVar'>) on block unknown with a new Component (type=<class 'pyomo.core.base.var.AbstractScalarVar'>).\n",
            "This is usually indicative of a modelling error.\n",
            "To avoid this warning, use block.del_component() and block.add_component().\n",
            "WARNING:pyomo.core:Implicitly replacing the Component attribute x5 (type=<class 'pyomo.core.base.var.ScalarVar'>) on block unknown with a new Component (type=<class 'pyomo.core.base.var.AbstractScalarVar'>).\n",
            "This is usually indicative of a modelling error.\n",
            "To avoid this warning, use block.del_component() and block.add_component().\n",
            "WARNING:pyomo.core:Implicitly replacing the Component attribute constr1 (type=<class 'pyomo.core.base.constraint.ScalarConstraint'>) on block unknown with a new Component (type=<class 'pyomo.core.base.constraint.AbstractScalarConstraint'>).\n",
            "This is usually indicative of a modelling error.\n",
            "To avoid this warning, use block.del_component() and block.add_component().\n",
            "WARNING:pyomo.core:Implicitly replacing the Component attribute constr2 (type=<class 'pyomo.core.base.constraint.ScalarConstraint'>) on block unknown with a new Component (type=<class 'pyomo.core.base.constraint.AbstractScalarConstraint'>).\n",
            "This is usually indicative of a modelling error.\n",
            "To avoid this warning, use block.del_component() and block.add_component().\n",
            "WARNING:pyomo.core:Implicitly replacing the Component attribute constr3 (type=<class 'pyomo.core.base.constraint.ScalarConstraint'>) on block unknown with a new Component (type=<class 'pyomo.core.base.constraint.AbstractScalarConstraint'>).\n",
            "This is usually indicative of a modelling error.\n",
            "To avoid this warning, use block.del_component() and block.add_component().\n",
            "WARNING:pyomo.core:Implicitly replacing the Component attribute constr4 (type=<class 'pyomo.core.base.constraint.ScalarConstraint'>) on block unknown with a new Component (type=<class 'pyomo.core.base.constraint.AbstractScalarConstraint'>).\n",
            "This is usually indicative of a modelling error.\n",
            "To avoid this warning, use block.del_component() and block.add_component().\n",
            "WARNING:pyomo.core:Implicitly replacing the Component attribute constr5 (type=<class 'pyomo.core.base.constraint.ScalarConstraint'>) on block unknown with a new Component (type=<class 'pyomo.core.base.constraint.AbstractScalarConstraint'>).\n",
            "This is usually indicative of a modelling error.\n",
            "To avoid this warning, use block.del_component() and block.add_component().\n",
            "WARNING:pyomo.core:Implicitly replacing the Component attribute constr6 (type=<class 'pyomo.core.base.constraint.ScalarConstraint'>) on block unknown with a new Component (type=<class 'pyomo.core.base.constraint.AbstractScalarConstraint'>).\n",
            "This is usually indicative of a modelling error.\n",
            "To avoid this warning, use block.del_component() and block.add_component().\n",
            "WARNING:pyomo.core:Implicitly replacing the Component attribute constr7 (type=<class 'pyomo.core.base.constraint.ScalarConstraint'>) on block unknown with a new Component (type=<class 'pyomo.core.base.constraint.AbstractScalarConstraint'>).\n",
            "This is usually indicative of a modelling error.\n",
            "To avoid this warning, use block.del_component() and block.add_component().\n",
            "WARNING:pyomo.core:Implicitly replacing the Component attribute cost (type=<class 'pyomo.core.base.objective.ScalarObjective'>) on block unknown with a new Component (type=<class 'pyomo.core.base.objective.ScalarObjective'>).\n",
            "This is usually indicative of a modelling error.\n",
            "To avoid this warning, use block.del_component() and block.add_component().\n"
          ]
        }
      ]
    },
    {
      "cell_type": "code",
      "source": [
        "model.pprint()"
      ],
      "metadata": {
        "colab": {
          "base_uri": "https://localhost:8080/"
        },
        "id": "hjIf5bwRr9lU",
        "outputId": "9750bfbc-2ed6-471c-d3f0-e1cb0437a0d5"
      },
      "execution_count": null,
      "outputs": [
        {
          "output_type": "stream",
          "name": "stdout",
          "text": [
            "5 Var Declarations\n",
            "    x1 : Size=1, Index=None\n",
            "        Key  : Lower : Value : Upper : Fixed : Stale : Domain\n",
            "        None :  None :     4 :  None : False : False :  Reals\n",
            "    x2 : Size=1, Index=None\n",
            "        Key  : Lower : Value : Upper : Fixed : Stale : Domain\n",
            "        None :  None :     4 :  None : False : False :  Reals\n",
            "    x3 : Size=1, Index=None\n",
            "        Key  : Lower : Value : Upper : Fixed : Stale : Domain\n",
            "        None :  None :     4 :  None : False : False :  Reals\n",
            "    x4 : Size=1, Index=None\n",
            "        Key  : Lower : Value : Upper : Fixed : Stale : Domain\n",
            "        None :  None :     4 :  None : False : False :  Reals\n",
            "    x5 : Size=1, Index=None\n",
            "        Key  : Lower : Value : Upper : Fixed : Stale : Domain\n",
            "        None :  None :     4 :  None : False : False :  Reals\n",
            "\n",
            "1 Objective Declarations\n",
            "    cost : Size=1, Index=None, Active=True\n",
            "        Key  : Active : Sense    : Expression\n",
            "        None :   True : minimize : (x1 - 1.0)**2 + (x1 - x2)**2 + (x2 - x3)**2 + (x3 - x4)**4 + (x4 - x5)**4\n",
            "\n",
            "7 Constraint Declarations\n",
            "    constr1 : Size=1, Index=None, Active=True\n",
            "        Key  : Lower : Body                                       : Upper : Active\n",
            "        None :   0.0 : x1 + x2**2 + x3**3 - 2 - 4.242640687119286 :   0.0 :   True\n",
            "    constr2 : Size=1, Index=None, Active=True\n",
            "        Key  : Lower : Body                                     : Upper : Active\n",
            "        None :   0.0 : x2 - x3**2 + x4 + 2 - 2.8284271247461903 :   0.0 :   True\n",
            "    constr3 : Size=1, Index=None, Active=True\n",
            "        Key  : Lower : Body      : Upper : Active\n",
            "        None :   0.0 : x1*x5 - 2 :   0.0 :   True\n",
            "    constr4 : Size=1, Index=None, Active=True\n",
            "        Key  : Lower : Body : Upper : Active\n",
            "        None :  -5.0 :   x1 :  +Inf :   True\n",
            "    constr5 : Size=1, Index=None, Active=True\n",
            "        Key  : Lower : Body : Upper : Active\n",
            "        None :  -Inf :   x1 :   5.0 :   True\n",
            "    constr6 : Size=1, Index=None, Active=True\n",
            "        Key  : Lower : Body : Upper : Active\n",
            "        None :   0.0 :   x3 :  +Inf :   True\n",
            "    constr7 : Size=1, Index=None, Active=True\n",
            "        Key  : Lower : Body : Upper : Active\n",
            "        None :  -Inf :   x3 :   3.0 :   True\n",
            "\n",
            "13 Declarations: x1 x2 x3 x4 x5 constr1 constr2 constr3 constr4 constr5 constr6 constr7 cost\n"
          ]
        }
      ]
    },
    {
      "cell_type": "code",
      "source": [
        "results = solver.solve(model)"
      ],
      "metadata": {
        "id": "2uOmeDsKrM5S"
      },
      "execution_count": null,
      "outputs": []
    },
    {
      "cell_type": "code",
      "source": [
        "#display the statistics \n",
        "print(results)"
      ],
      "metadata": {
        "colab": {
          "base_uri": "https://localhost:8080/"
        },
        "id": "5hwBOBBnV6rH",
        "outputId": "60907804-077a-4924-b47c-adc1d1d4ea2a"
      },
      "execution_count": null,
      "outputs": [
        {
          "output_type": "stream",
          "name": "stdout",
          "text": [
            "\n",
            "Problem: \n",
            "- Lower bound: -inf\n",
            "  Upper bound: inf\n",
            "  Number of objectives: 1\n",
            "  Number of constraints: 7\n",
            "  Number of variables: 5\n",
            "  Sense: unknown\n",
            "Solver: \n",
            "- Status: ok\n",
            "  Message: Ipopt 3.12.13\\x3a Optimal Solution Found\n",
            "  Termination condition: optimal\n",
            "  Id: 0\n",
            "  Error rc: 0\n",
            "  Time: 0.03763914108276367\n",
            "Solution: \n",
            "- number of solutions: 0\n",
            "  number of solutions displayed: 0\n",
            "\n"
          ]
        }
      ]
    },
    {
      "cell_type": "code",
      "source": [
        "# display solution\n",
        "print('\\nCost = ', model.cost())\n",
        "\n",
        "print('\\nOptimal solution of the function:')\n",
        "print('x1 = ', model.x1())\n",
        "print('x2 = ', model.x2())\n",
        "print('x3 = ', model.x3())\n",
        "print('x4 = ', model.x4())\n",
        "print('x5 = ', model.x5())"
      ],
      "metadata": {
        "colab": {
          "base_uri": "https://localhost:8080/"
        },
        "id": "Sc7g13b8rPhJ",
        "outputId": "6a415150-e4f4-4f66-f832-9a73747f7c81"
      },
      "execution_count": null,
      "outputs": [
        {
          "output_type": "stream",
          "name": "stdout",
          "text": [
            "\n",
            "Cost =  0.07877682087105696\n",
            "\n",
            "Optimal solution of the function:\n",
            "x1 =  1.1911274562403504\n",
            "x2 =  1.3626031649434764\n",
            "x3 =  1.4728179315306016\n",
            "x4 =  1.6350166192407931\n",
            "x5 =  1.6790814362660684\n"
          ]
        }
      ]
    },
    {
      "cell_type": "code",
      "source": [],
      "metadata": {
        "id": "AIvcMAw3sN9h"
      },
      "execution_count": null,
      "outputs": []
    },
    {
      "cell_type": "code",
      "source": [
        "# declare decision variables with initialization\n",
        "model.x1 = Var(initialize=2**4)\n",
        "model.x2 = Var(initialize=2**4)\n",
        "model.x3 = Var(initialize=2**4)\n",
        "model.x4 = Var(initialize=2**4)\n",
        "model.x5 = Var(initialize=2**4)\n",
        "\n",
        "model.constr1 = Constraint(expr=model.x1 + model.x2**2 + model.x3**3 - 2 - 3*((2)**(1/2))== 0)\n",
        "model.constr2 = Constraint(expr=model.x2 - model.x3**2 + model.x4 + 2 - 2*((2)**(1/2))== 0)\n",
        "model.constr3 = Constraint(expr=model.x1*model.x5 - 2 == 0)\n",
        "model.constr4 = Constraint(expr=model.x1 >= -5)\n",
        "model.constr5 = Constraint(expr=model.x1 <= 5)\n",
        "model.constr6 = Constraint(expr=model.x3 >= 0)\n",
        "model.constr7 = Constraint(expr=model.x3 <= 3)\n",
        "\n",
        "# declare objective\n",
        "model.cost = Objective(rule = funct, sense=minimize)"
      ],
      "metadata": {
        "colab": {
          "base_uri": "https://localhost:8080/"
        },
        "id": "WsAsnnO_sOT8",
        "outputId": "83622132-7851-49e6-8d21-6b493cbf7239"
      },
      "execution_count": null,
      "outputs": [
        {
          "output_type": "stream",
          "name": "stderr",
          "text": [
            "WARNING:pyomo.core:Implicitly replacing the Component attribute x1 (type=<class 'pyomo.core.base.var.ScalarVar'>) on block unknown with a new Component (type=<class 'pyomo.core.base.var.AbstractScalarVar'>).\n",
            "This is usually indicative of a modelling error.\n",
            "To avoid this warning, use block.del_component() and block.add_component().\n",
            "WARNING:pyomo.core:Implicitly replacing the Component attribute x2 (type=<class 'pyomo.core.base.var.ScalarVar'>) on block unknown with a new Component (type=<class 'pyomo.core.base.var.AbstractScalarVar'>).\n",
            "This is usually indicative of a modelling error.\n",
            "To avoid this warning, use block.del_component() and block.add_component().\n",
            "WARNING:pyomo.core:Implicitly replacing the Component attribute x3 (type=<class 'pyomo.core.base.var.ScalarVar'>) on block unknown with a new Component (type=<class 'pyomo.core.base.var.AbstractScalarVar'>).\n",
            "This is usually indicative of a modelling error.\n",
            "To avoid this warning, use block.del_component() and block.add_component().\n",
            "WARNING:pyomo.core:Implicitly replacing the Component attribute x4 (type=<class 'pyomo.core.base.var.ScalarVar'>) on block unknown with a new Component (type=<class 'pyomo.core.base.var.AbstractScalarVar'>).\n",
            "This is usually indicative of a modelling error.\n",
            "To avoid this warning, use block.del_component() and block.add_component().\n",
            "WARNING:pyomo.core:Implicitly replacing the Component attribute x5 (type=<class 'pyomo.core.base.var.ScalarVar'>) on block unknown with a new Component (type=<class 'pyomo.core.base.var.AbstractScalarVar'>).\n",
            "This is usually indicative of a modelling error.\n",
            "To avoid this warning, use block.del_component() and block.add_component().\n",
            "WARNING:pyomo.core:Implicitly replacing the Component attribute constr1 (type=<class 'pyomo.core.base.constraint.ScalarConstraint'>) on block unknown with a new Component (type=<class 'pyomo.core.base.constraint.AbstractScalarConstraint'>).\n",
            "This is usually indicative of a modelling error.\n",
            "To avoid this warning, use block.del_component() and block.add_component().\n",
            "WARNING:pyomo.core:Implicitly replacing the Component attribute constr2 (type=<class 'pyomo.core.base.constraint.ScalarConstraint'>) on block unknown with a new Component (type=<class 'pyomo.core.base.constraint.AbstractScalarConstraint'>).\n",
            "This is usually indicative of a modelling error.\n",
            "To avoid this warning, use block.del_component() and block.add_component().\n",
            "WARNING:pyomo.core:Implicitly replacing the Component attribute constr3 (type=<class 'pyomo.core.base.constraint.ScalarConstraint'>) on block unknown with a new Component (type=<class 'pyomo.core.base.constraint.AbstractScalarConstraint'>).\n",
            "This is usually indicative of a modelling error.\n",
            "To avoid this warning, use block.del_component() and block.add_component().\n",
            "WARNING:pyomo.core:Implicitly replacing the Component attribute constr4 (type=<class 'pyomo.core.base.constraint.ScalarConstraint'>) on block unknown with a new Component (type=<class 'pyomo.core.base.constraint.AbstractScalarConstraint'>).\n",
            "This is usually indicative of a modelling error.\n",
            "To avoid this warning, use block.del_component() and block.add_component().\n",
            "WARNING:pyomo.core:Implicitly replacing the Component attribute constr5 (type=<class 'pyomo.core.base.constraint.ScalarConstraint'>) on block unknown with a new Component (type=<class 'pyomo.core.base.constraint.AbstractScalarConstraint'>).\n",
            "This is usually indicative of a modelling error.\n",
            "To avoid this warning, use block.del_component() and block.add_component().\n",
            "WARNING:pyomo.core:Implicitly replacing the Component attribute constr6 (type=<class 'pyomo.core.base.constraint.ScalarConstraint'>) on block unknown with a new Component (type=<class 'pyomo.core.base.constraint.AbstractScalarConstraint'>).\n",
            "This is usually indicative of a modelling error.\n",
            "To avoid this warning, use block.del_component() and block.add_component().\n",
            "WARNING:pyomo.core:Implicitly replacing the Component attribute constr7 (type=<class 'pyomo.core.base.constraint.ScalarConstraint'>) on block unknown with a new Component (type=<class 'pyomo.core.base.constraint.AbstractScalarConstraint'>).\n",
            "This is usually indicative of a modelling error.\n",
            "To avoid this warning, use block.del_component() and block.add_component().\n",
            "WARNING:pyomo.core:Implicitly replacing the Component attribute cost (type=<class 'pyomo.core.base.objective.ScalarObjective'>) on block unknown with a new Component (type=<class 'pyomo.core.base.objective.ScalarObjective'>).\n",
            "This is usually indicative of a modelling error.\n",
            "To avoid this warning, use block.del_component() and block.add_component().\n"
          ]
        }
      ]
    },
    {
      "cell_type": "code",
      "source": [
        "model.pprint()"
      ],
      "metadata": {
        "colab": {
          "base_uri": "https://localhost:8080/"
        },
        "id": "xbJI6NDis0D9",
        "outputId": "24ef60e2-0324-42e2-b8a2-76744c561d76"
      },
      "execution_count": null,
      "outputs": [
        {
          "output_type": "stream",
          "name": "stdout",
          "text": [
            "5 Var Declarations\n",
            "    x1 : Size=1, Index=None\n",
            "        Key  : Lower : Value : Upper : Fixed : Stale : Domain\n",
            "        None :  None :    16 :  None : False : False :  Reals\n",
            "    x2 : Size=1, Index=None\n",
            "        Key  : Lower : Value : Upper : Fixed : Stale : Domain\n",
            "        None :  None :    16 :  None : False : False :  Reals\n",
            "    x3 : Size=1, Index=None\n",
            "        Key  : Lower : Value : Upper : Fixed : Stale : Domain\n",
            "        None :  None :    16 :  None : False : False :  Reals\n",
            "    x4 : Size=1, Index=None\n",
            "        Key  : Lower : Value : Upper : Fixed : Stale : Domain\n",
            "        None :  None :    16 :  None : False : False :  Reals\n",
            "    x5 : Size=1, Index=None\n",
            "        Key  : Lower : Value : Upper : Fixed : Stale : Domain\n",
            "        None :  None :    16 :  None : False : False :  Reals\n",
            "\n",
            "1 Objective Declarations\n",
            "    cost : Size=1, Index=None, Active=True\n",
            "        Key  : Active : Sense    : Expression\n",
            "        None :   True : minimize : (x1 - 1.0)**2 + (x1 - x2)**2 + (x2 - x3)**2 + (x3 - x4)**4 + (x4 - x5)**4\n",
            "\n",
            "7 Constraint Declarations\n",
            "    constr1 : Size=1, Index=None, Active=True\n",
            "        Key  : Lower : Body                                       : Upper : Active\n",
            "        None :   0.0 : x1 + x2**2 + x3**3 - 2 - 4.242640687119286 :   0.0 :   True\n",
            "    constr2 : Size=1, Index=None, Active=True\n",
            "        Key  : Lower : Body                                     : Upper : Active\n",
            "        None :   0.0 : x2 - x3**2 + x4 + 2 - 2.8284271247461903 :   0.0 :   True\n",
            "    constr3 : Size=1, Index=None, Active=True\n",
            "        Key  : Lower : Body      : Upper : Active\n",
            "        None :   0.0 : x1*x5 - 2 :   0.0 :   True\n",
            "    constr4 : Size=1, Index=None, Active=True\n",
            "        Key  : Lower : Body : Upper : Active\n",
            "        None :  -5.0 :   x1 :  +Inf :   True\n",
            "    constr5 : Size=1, Index=None, Active=True\n",
            "        Key  : Lower : Body : Upper : Active\n",
            "        None :  -Inf :   x1 :   5.0 :   True\n",
            "    constr6 : Size=1, Index=None, Active=True\n",
            "        Key  : Lower : Body : Upper : Active\n",
            "        None :   0.0 :   x3 :  +Inf :   True\n",
            "    constr7 : Size=1, Index=None, Active=True\n",
            "        Key  : Lower : Body : Upper : Active\n",
            "        None :  -Inf :   x3 :   3.0 :   True\n",
            "\n",
            "13 Declarations: x1 x2 x3 x4 x5 constr1 constr2 constr3 constr4 constr5 constr6 constr7 cost\n"
          ]
        }
      ]
    },
    {
      "cell_type": "code",
      "source": [
        "results = solver.solve(model)"
      ],
      "metadata": {
        "id": "LCSOJH6bs6Vf"
      },
      "execution_count": null,
      "outputs": []
    },
    {
      "cell_type": "code",
      "source": [
        "#display the statistics \n",
        "print(results)"
      ],
      "metadata": {
        "colab": {
          "base_uri": "https://localhost:8080/"
        },
        "id": "0IInhEgAV8pr",
        "outputId": "ed009b28-4c69-4186-9024-40ed8e863127"
      },
      "execution_count": null,
      "outputs": [
        {
          "output_type": "stream",
          "name": "stdout",
          "text": [
            "\n",
            "Problem: \n",
            "- Lower bound: -inf\n",
            "  Upper bound: inf\n",
            "  Number of objectives: 1\n",
            "  Number of constraints: 7\n",
            "  Number of variables: 5\n",
            "  Sense: unknown\n",
            "Solver: \n",
            "- Status: ok\n",
            "  Message: Ipopt 3.12.13\\x3a Optimal Solution Found\n",
            "  Termination condition: optimal\n",
            "  Id: 0\n",
            "  Error rc: 0\n",
            "  Time: 0.08252239227294922\n",
            "Solution: \n",
            "- number of solutions: 0\n",
            "  number of solutions displayed: 0\n",
            "\n"
          ]
        }
      ]
    },
    {
      "cell_type": "code",
      "source": [
        "# display solution\n",
        "print('\\nCost = ', model.cost())\n",
        "\n",
        "print('\\nOptimal solution of the function:')\n",
        "print('x1 = ', model.x1())\n",
        "print('x2 = ', model.x2())\n",
        "print('x3 = ', model.x3())\n",
        "print('x4 = ', model.x4())\n",
        "print('x5 = ', model.x5())"
      ],
      "metadata": {
        "colab": {
          "base_uri": "https://localhost:8080/"
        },
        "id": "_xsYdRMQs_5U",
        "outputId": "b74b5f0b-6065-4e7b-8a3f-df612abc2875"
      },
      "execution_count": null,
      "outputs": [
        {
          "output_type": "stream",
          "name": "stdout",
          "text": [
            "\n",
            "Cost =  0.07877682087105699\n",
            "\n",
            "Optimal solution of the function:\n",
            "x1 =  1.1911274562403504\n",
            "x2 =  1.3626031649434767\n",
            "x3 =  1.4728179315306016\n",
            "x4 =  1.6350166192407933\n",
            "x5 =  1.6790814362660684\n"
          ]
        }
      ]
    },
    {
      "cell_type": "code",
      "source": [],
      "metadata": {
        "id": "HSJuuS9_tAie"
      },
      "execution_count": null,
      "outputs": []
    },
    {
      "cell_type": "code",
      "source": [
        "# declare decision variables with initialization\n",
        "model.x1 = Var(initialize=2**8)\n",
        "model.x2 = Var(initialize=2**8)\n",
        "model.x3 = Var(initialize=2**8)\n",
        "model.x4 = Var(initialize=2**8)\n",
        "model.x5 = Var(initialize=2**8)\n",
        "\n",
        "model.constr1 = Constraint(expr=model.x1 + model.x2**2 + model.x3**3 - 2 - 3*((2)**(1/2))== 0)\n",
        "model.constr2 = Constraint(expr=model.x2 - model.x3**2 + model.x4 + 2 - 2*((2)**(1/2))== 0)\n",
        "model.constr3 = Constraint(expr=model.x1*model.x5 - 2 == 0)\n",
        "model.constr4 = Constraint(expr=model.x1 >= -5)\n",
        "model.constr5 = Constraint(expr=model.x1 <= 5)\n",
        "model.constr6 = Constraint(expr=model.x3 >= 0)\n",
        "model.constr7 = Constraint(expr=model.x3 <= 3)\n",
        "\n",
        "# declare objective\n",
        "model.cost = Objective(rule = funct, sense=minimize)"
      ],
      "metadata": {
        "colab": {
          "base_uri": "https://localhost:8080/"
        },
        "id": "DbD3A2mYsj8H",
        "outputId": "213dbb50-bcab-4557-9682-e7e1912faee2"
      },
      "execution_count": null,
      "outputs": [
        {
          "output_type": "stream",
          "name": "stderr",
          "text": [
            "WARNING:pyomo.core:Implicitly replacing the Component attribute x1 (type=<class 'pyomo.core.base.var.ScalarVar'>) on block unknown with a new Component (type=<class 'pyomo.core.base.var.AbstractScalarVar'>).\n",
            "This is usually indicative of a modelling error.\n",
            "To avoid this warning, use block.del_component() and block.add_component().\n",
            "WARNING:pyomo.core:Implicitly replacing the Component attribute x2 (type=<class 'pyomo.core.base.var.ScalarVar'>) on block unknown with a new Component (type=<class 'pyomo.core.base.var.AbstractScalarVar'>).\n",
            "This is usually indicative of a modelling error.\n",
            "To avoid this warning, use block.del_component() and block.add_component().\n",
            "WARNING:pyomo.core:Implicitly replacing the Component attribute x3 (type=<class 'pyomo.core.base.var.ScalarVar'>) on block unknown with a new Component (type=<class 'pyomo.core.base.var.AbstractScalarVar'>).\n",
            "This is usually indicative of a modelling error.\n",
            "To avoid this warning, use block.del_component() and block.add_component().\n",
            "WARNING:pyomo.core:Implicitly replacing the Component attribute x4 (type=<class 'pyomo.core.base.var.ScalarVar'>) on block unknown with a new Component (type=<class 'pyomo.core.base.var.AbstractScalarVar'>).\n",
            "This is usually indicative of a modelling error.\n",
            "To avoid this warning, use block.del_component() and block.add_component().\n",
            "WARNING:pyomo.core:Implicitly replacing the Component attribute x5 (type=<class 'pyomo.core.base.var.ScalarVar'>) on block unknown with a new Component (type=<class 'pyomo.core.base.var.AbstractScalarVar'>).\n",
            "This is usually indicative of a modelling error.\n",
            "To avoid this warning, use block.del_component() and block.add_component().\n",
            "WARNING:pyomo.core:Implicitly replacing the Component attribute constr1 (type=<class 'pyomo.core.base.constraint.ScalarConstraint'>) on block unknown with a new Component (type=<class 'pyomo.core.base.constraint.AbstractScalarConstraint'>).\n",
            "This is usually indicative of a modelling error.\n",
            "To avoid this warning, use block.del_component() and block.add_component().\n",
            "WARNING:pyomo.core:Implicitly replacing the Component attribute constr2 (type=<class 'pyomo.core.base.constraint.ScalarConstraint'>) on block unknown with a new Component (type=<class 'pyomo.core.base.constraint.AbstractScalarConstraint'>).\n",
            "This is usually indicative of a modelling error.\n",
            "To avoid this warning, use block.del_component() and block.add_component().\n",
            "WARNING:pyomo.core:Implicitly replacing the Component attribute constr3 (type=<class 'pyomo.core.base.constraint.ScalarConstraint'>) on block unknown with a new Component (type=<class 'pyomo.core.base.constraint.AbstractScalarConstraint'>).\n",
            "This is usually indicative of a modelling error.\n",
            "To avoid this warning, use block.del_component() and block.add_component().\n",
            "WARNING:pyomo.core:Implicitly replacing the Component attribute constr4 (type=<class 'pyomo.core.base.constraint.ScalarConstraint'>) on block unknown with a new Component (type=<class 'pyomo.core.base.constraint.AbstractScalarConstraint'>).\n",
            "This is usually indicative of a modelling error.\n",
            "To avoid this warning, use block.del_component() and block.add_component().\n",
            "WARNING:pyomo.core:Implicitly replacing the Component attribute constr5 (type=<class 'pyomo.core.base.constraint.ScalarConstraint'>) on block unknown with a new Component (type=<class 'pyomo.core.base.constraint.AbstractScalarConstraint'>).\n",
            "This is usually indicative of a modelling error.\n",
            "To avoid this warning, use block.del_component() and block.add_component().\n",
            "WARNING:pyomo.core:Implicitly replacing the Component attribute constr6 (type=<class 'pyomo.core.base.constraint.ScalarConstraint'>) on block unknown with a new Component (type=<class 'pyomo.core.base.constraint.AbstractScalarConstraint'>).\n",
            "This is usually indicative of a modelling error.\n",
            "To avoid this warning, use block.del_component() and block.add_component().\n",
            "WARNING:pyomo.core:Implicitly replacing the Component attribute constr7 (type=<class 'pyomo.core.base.constraint.ScalarConstraint'>) on block unknown with a new Component (type=<class 'pyomo.core.base.constraint.AbstractScalarConstraint'>).\n",
            "This is usually indicative of a modelling error.\n",
            "To avoid this warning, use block.del_component() and block.add_component().\n",
            "WARNING:pyomo.core:Implicitly replacing the Component attribute cost (type=<class 'pyomo.core.base.objective.ScalarObjective'>) on block unknown with a new Component (type=<class 'pyomo.core.base.objective.ScalarObjective'>).\n",
            "This is usually indicative of a modelling error.\n",
            "To avoid this warning, use block.del_component() and block.add_component().\n"
          ]
        }
      ]
    },
    {
      "cell_type": "code",
      "source": [
        "model.pprint()"
      ],
      "metadata": {
        "colab": {
          "base_uri": "https://localhost:8080/"
        },
        "id": "2u25p1o0s02s",
        "outputId": "d334f385-a535-4e48-fe2b-2b8797f46a6a"
      },
      "execution_count": null,
      "outputs": [
        {
          "output_type": "stream",
          "name": "stdout",
          "text": [
            "5 Var Declarations\n",
            "    x1 : Size=1, Index=None\n",
            "        Key  : Lower : Value : Upper : Fixed : Stale : Domain\n",
            "        None :  None :   256 :  None : False : False :  Reals\n",
            "    x2 : Size=1, Index=None\n",
            "        Key  : Lower : Value : Upper : Fixed : Stale : Domain\n",
            "        None :  None :   256 :  None : False : False :  Reals\n",
            "    x3 : Size=1, Index=None\n",
            "        Key  : Lower : Value : Upper : Fixed : Stale : Domain\n",
            "        None :  None :   256 :  None : False : False :  Reals\n",
            "    x4 : Size=1, Index=None\n",
            "        Key  : Lower : Value : Upper : Fixed : Stale : Domain\n",
            "        None :  None :   256 :  None : False : False :  Reals\n",
            "    x5 : Size=1, Index=None\n",
            "        Key  : Lower : Value : Upper : Fixed : Stale : Domain\n",
            "        None :  None :   256 :  None : False : False :  Reals\n",
            "\n",
            "1 Objective Declarations\n",
            "    cost : Size=1, Index=None, Active=True\n",
            "        Key  : Active : Sense    : Expression\n",
            "        None :   True : minimize : (x1 - 1.0)**2 + (x1 - x2)**2 + (x2 - x3)**2 + (x3 - x4)**4 + (x4 - x5)**4\n",
            "\n",
            "7 Constraint Declarations\n",
            "    constr1 : Size=1, Index=None, Active=True\n",
            "        Key  : Lower : Body                                       : Upper : Active\n",
            "        None :   0.0 : x1 + x2**2 + x3**3 - 2 - 4.242640687119286 :   0.0 :   True\n",
            "    constr2 : Size=1, Index=None, Active=True\n",
            "        Key  : Lower : Body                                     : Upper : Active\n",
            "        None :   0.0 : x2 - x3**2 + x4 + 2 - 2.8284271247461903 :   0.0 :   True\n",
            "    constr3 : Size=1, Index=None, Active=True\n",
            "        Key  : Lower : Body      : Upper : Active\n",
            "        None :   0.0 : x1*x5 - 2 :   0.0 :   True\n",
            "    constr4 : Size=1, Index=None, Active=True\n",
            "        Key  : Lower : Body : Upper : Active\n",
            "        None :  -5.0 :   x1 :  +Inf :   True\n",
            "    constr5 : Size=1, Index=None, Active=True\n",
            "        Key  : Lower : Body : Upper : Active\n",
            "        None :  -Inf :   x1 :   5.0 :   True\n",
            "    constr6 : Size=1, Index=None, Active=True\n",
            "        Key  : Lower : Body : Upper : Active\n",
            "        None :   0.0 :   x3 :  +Inf :   True\n",
            "    constr7 : Size=1, Index=None, Active=True\n",
            "        Key  : Lower : Body : Upper : Active\n",
            "        None :  -Inf :   x3 :   3.0 :   True\n",
            "\n",
            "13 Declarations: x1 x2 x3 x4 x5 constr1 constr2 constr3 constr4 constr5 constr6 constr7 cost\n"
          ]
        }
      ]
    },
    {
      "cell_type": "code",
      "source": [
        "results = solver.solve(model)"
      ],
      "metadata": {
        "id": "CvzdTPOZs7Vj"
      },
      "execution_count": null,
      "outputs": []
    },
    {
      "cell_type": "code",
      "source": [
        "#display the statistics \n",
        "print(results)"
      ],
      "metadata": {
        "colab": {
          "base_uri": "https://localhost:8080/"
        },
        "id": "JEgmciZpV-j0",
        "outputId": "563757a1-9bd6-4fff-d939-a074de880f6e"
      },
      "execution_count": null,
      "outputs": [
        {
          "output_type": "stream",
          "name": "stdout",
          "text": [
            "\n",
            "Problem: \n",
            "- Lower bound: -inf\n",
            "  Upper bound: inf\n",
            "  Number of objectives: 1\n",
            "  Number of constraints: 7\n",
            "  Number of variables: 5\n",
            "  Sense: unknown\n",
            "Solver: \n",
            "- Status: ok\n",
            "  Message: Ipopt 3.12.13\\x3a Optimal Solution Found\n",
            "  Termination condition: optimal\n",
            "  Id: 0\n",
            "  Error rc: 0\n",
            "  Time: 0.08246326446533203\n",
            "Solution: \n",
            "- number of solutions: 0\n",
            "  number of solutions displayed: 0\n",
            "\n"
          ]
        }
      ]
    },
    {
      "cell_type": "code",
      "source": [
        "# display solution\n",
        "print('\\nCost = ', model.cost())\n",
        "\n",
        "print('\\nOptimal solution of the function:')\n",
        "print('x1 = ', model.x1())\n",
        "print('x2 = ', model.x2())\n",
        "print('x3 = ', model.x3())\n",
        "print('x4 = ', model.x4())\n",
        "print('x5 = ', model.x5())"
      ],
      "metadata": {
        "colab": {
          "base_uri": "https://localhost:8080/"
        },
        "id": "V6MbVbS8tBU_",
        "outputId": "d5e6effd-528c-4fbf-8085-ebe8f22d6b72"
      },
      "execution_count": null,
      "outputs": [
        {
          "output_type": "stream",
          "name": "stdout",
          "text": [
            "\n",
            "Cost =  0.07877682087275217\n",
            "\n",
            "Optimal solution of the function:\n",
            "x1 =  1.1911274559325666\n",
            "x2 =  1.3626031648437267\n",
            "x3 =  1.472817931626912\n",
            "x4 =  1.6350166196164382\n",
            "x5 =  1.6790814366888756\n"
          ]
        }
      ]
    },
    {
      "cell_type": "code",
      "source": [],
      "metadata": {
        "id": "XCmZi_LttB6v"
      },
      "execution_count": null,
      "outputs": []
    },
    {
      "cell_type": "code",
      "source": [
        "# declare decision variables with initialization\n",
        "model.x1 = Var(initialize=2**10)\n",
        "model.x2 = Var(initialize=2**10)\n",
        "model.x3 = Var(initialize=2**10)\n",
        "model.x4 = Var(initialize=2**10)\n",
        "model.x5 = Var(initialize=2**10)\n",
        "\n",
        "model.constr1 = Constraint(expr=model.x1 + model.x2**2 + model.x3**3 - 2 - 3*((2)**(1/2))== 0)\n",
        "model.constr2 = Constraint(expr=model.x2 - model.x3**2 + model.x4 + 2 - 2*((2)**(1/2))== 0)\n",
        "model.constr3 = Constraint(expr=model.x1*model.x5 - 2 == 0)\n",
        "model.constr4 = Constraint(expr=model.x1 >= -5)\n",
        "model.constr5 = Constraint(expr=model.x1 <= 5)\n",
        "model.constr6 = Constraint(expr=model.x3 >= 0)\n",
        "model.constr7 = Constraint(expr=model.x3 <= 3)\n",
        "\n",
        "# declare objective\n",
        "model.cost = Objective(rule = funct, sense=minimize)"
      ],
      "metadata": {
        "colab": {
          "base_uri": "https://localhost:8080/"
        },
        "id": "anMxzJzwsn3b",
        "outputId": "135751b1-5de7-485f-ea67-ab6f331d804a"
      },
      "execution_count": null,
      "outputs": [
        {
          "output_type": "stream",
          "name": "stderr",
          "text": [
            "WARNING:pyomo.core:Implicitly replacing the Component attribute x1 (type=<class 'pyomo.core.base.var.ScalarVar'>) on block unknown with a new Component (type=<class 'pyomo.core.base.var.AbstractScalarVar'>).\n",
            "This is usually indicative of a modelling error.\n",
            "To avoid this warning, use block.del_component() and block.add_component().\n",
            "WARNING:pyomo.core:Implicitly replacing the Component attribute x2 (type=<class 'pyomo.core.base.var.ScalarVar'>) on block unknown with a new Component (type=<class 'pyomo.core.base.var.AbstractScalarVar'>).\n",
            "This is usually indicative of a modelling error.\n",
            "To avoid this warning, use block.del_component() and block.add_component().\n",
            "WARNING:pyomo.core:Implicitly replacing the Component attribute x3 (type=<class 'pyomo.core.base.var.ScalarVar'>) on block unknown with a new Component (type=<class 'pyomo.core.base.var.AbstractScalarVar'>).\n",
            "This is usually indicative of a modelling error.\n",
            "To avoid this warning, use block.del_component() and block.add_component().\n",
            "WARNING:pyomo.core:Implicitly replacing the Component attribute x4 (type=<class 'pyomo.core.base.var.ScalarVar'>) on block unknown with a new Component (type=<class 'pyomo.core.base.var.AbstractScalarVar'>).\n",
            "This is usually indicative of a modelling error.\n",
            "To avoid this warning, use block.del_component() and block.add_component().\n",
            "WARNING:pyomo.core:Implicitly replacing the Component attribute x5 (type=<class 'pyomo.core.base.var.ScalarVar'>) on block unknown with a new Component (type=<class 'pyomo.core.base.var.AbstractScalarVar'>).\n",
            "This is usually indicative of a modelling error.\n",
            "To avoid this warning, use block.del_component() and block.add_component().\n",
            "WARNING:pyomo.core:Implicitly replacing the Component attribute constr1 (type=<class 'pyomo.core.base.constraint.ScalarConstraint'>) on block unknown with a new Component (type=<class 'pyomo.core.base.constraint.AbstractScalarConstraint'>).\n",
            "This is usually indicative of a modelling error.\n",
            "To avoid this warning, use block.del_component() and block.add_component().\n",
            "WARNING:pyomo.core:Implicitly replacing the Component attribute constr2 (type=<class 'pyomo.core.base.constraint.ScalarConstraint'>) on block unknown with a new Component (type=<class 'pyomo.core.base.constraint.AbstractScalarConstraint'>).\n",
            "This is usually indicative of a modelling error.\n",
            "To avoid this warning, use block.del_component() and block.add_component().\n",
            "WARNING:pyomo.core:Implicitly replacing the Component attribute constr3 (type=<class 'pyomo.core.base.constraint.ScalarConstraint'>) on block unknown with a new Component (type=<class 'pyomo.core.base.constraint.AbstractScalarConstraint'>).\n",
            "This is usually indicative of a modelling error.\n",
            "To avoid this warning, use block.del_component() and block.add_component().\n",
            "WARNING:pyomo.core:Implicitly replacing the Component attribute constr4 (type=<class 'pyomo.core.base.constraint.ScalarConstraint'>) on block unknown with a new Component (type=<class 'pyomo.core.base.constraint.AbstractScalarConstraint'>).\n",
            "This is usually indicative of a modelling error.\n",
            "To avoid this warning, use block.del_component() and block.add_component().\n",
            "WARNING:pyomo.core:Implicitly replacing the Component attribute constr5 (type=<class 'pyomo.core.base.constraint.ScalarConstraint'>) on block unknown with a new Component (type=<class 'pyomo.core.base.constraint.AbstractScalarConstraint'>).\n",
            "This is usually indicative of a modelling error.\n",
            "To avoid this warning, use block.del_component() and block.add_component().\n",
            "WARNING:pyomo.core:Implicitly replacing the Component attribute constr6 (type=<class 'pyomo.core.base.constraint.ScalarConstraint'>) on block unknown with a new Component (type=<class 'pyomo.core.base.constraint.AbstractScalarConstraint'>).\n",
            "This is usually indicative of a modelling error.\n",
            "To avoid this warning, use block.del_component() and block.add_component().\n",
            "WARNING:pyomo.core:Implicitly replacing the Component attribute constr7 (type=<class 'pyomo.core.base.constraint.ScalarConstraint'>) on block unknown with a new Component (type=<class 'pyomo.core.base.constraint.AbstractScalarConstraint'>).\n",
            "This is usually indicative of a modelling error.\n",
            "To avoid this warning, use block.del_component() and block.add_component().\n",
            "WARNING:pyomo.core:Implicitly replacing the Component attribute cost (type=<class 'pyomo.core.base.objective.ScalarObjective'>) on block unknown with a new Component (type=<class 'pyomo.core.base.objective.ScalarObjective'>).\n",
            "This is usually indicative of a modelling error.\n",
            "To avoid this warning, use block.del_component() and block.add_component().\n"
          ]
        }
      ]
    },
    {
      "cell_type": "code",
      "source": [
        "model.pprint()"
      ],
      "metadata": {
        "colab": {
          "base_uri": "https://localhost:8080/"
        },
        "id": "WB_u1WeNs1qi",
        "outputId": "fc7752db-bc5a-44be-836f-4d2483d80b95"
      },
      "execution_count": null,
      "outputs": [
        {
          "output_type": "stream",
          "name": "stdout",
          "text": [
            "5 Var Declarations\n",
            "    x1 : Size=1, Index=None\n",
            "        Key  : Lower : Value : Upper : Fixed : Stale : Domain\n",
            "        None :  None :  1024 :  None : False : False :  Reals\n",
            "    x2 : Size=1, Index=None\n",
            "        Key  : Lower : Value : Upper : Fixed : Stale : Domain\n",
            "        None :  None :  1024 :  None : False : False :  Reals\n",
            "    x3 : Size=1, Index=None\n",
            "        Key  : Lower : Value : Upper : Fixed : Stale : Domain\n",
            "        None :  None :  1024 :  None : False : False :  Reals\n",
            "    x4 : Size=1, Index=None\n",
            "        Key  : Lower : Value : Upper : Fixed : Stale : Domain\n",
            "        None :  None :  1024 :  None : False : False :  Reals\n",
            "    x5 : Size=1, Index=None\n",
            "        Key  : Lower : Value : Upper : Fixed : Stale : Domain\n",
            "        None :  None :  1024 :  None : False : False :  Reals\n",
            "\n",
            "1 Objective Declarations\n",
            "    cost : Size=1, Index=None, Active=True\n",
            "        Key  : Active : Sense    : Expression\n",
            "        None :   True : minimize : (x1 - 1.0)**2 + (x1 - x2)**2 + (x2 - x3)**2 + (x3 - x4)**4 + (x4 - x5)**4\n",
            "\n",
            "7 Constraint Declarations\n",
            "    constr1 : Size=1, Index=None, Active=True\n",
            "        Key  : Lower : Body                                       : Upper : Active\n",
            "        None :   0.0 : x1 + x2**2 + x3**3 - 2 - 4.242640687119286 :   0.0 :   True\n",
            "    constr2 : Size=1, Index=None, Active=True\n",
            "        Key  : Lower : Body                                     : Upper : Active\n",
            "        None :   0.0 : x2 - x3**2 + x4 + 2 - 2.8284271247461903 :   0.0 :   True\n",
            "    constr3 : Size=1, Index=None, Active=True\n",
            "        Key  : Lower : Body      : Upper : Active\n",
            "        None :   0.0 : x1*x5 - 2 :   0.0 :   True\n",
            "    constr4 : Size=1, Index=None, Active=True\n",
            "        Key  : Lower : Body : Upper : Active\n",
            "        None :  -5.0 :   x1 :  +Inf :   True\n",
            "    constr5 : Size=1, Index=None, Active=True\n",
            "        Key  : Lower : Body : Upper : Active\n",
            "        None :  -Inf :   x1 :   5.0 :   True\n",
            "    constr6 : Size=1, Index=None, Active=True\n",
            "        Key  : Lower : Body : Upper : Active\n",
            "        None :   0.0 :   x3 :  +Inf :   True\n",
            "    constr7 : Size=1, Index=None, Active=True\n",
            "        Key  : Lower : Body : Upper : Active\n",
            "        None :  -Inf :   x3 :   3.0 :   True\n",
            "\n",
            "13 Declarations: x1 x2 x3 x4 x5 constr1 constr2 constr3 constr4 constr5 constr6 constr7 cost\n"
          ]
        }
      ]
    },
    {
      "cell_type": "code",
      "source": [
        "results = solver.solve(model)"
      ],
      "metadata": {
        "id": "93ffFHJ4s8V-"
      },
      "execution_count": null,
      "outputs": []
    },
    {
      "cell_type": "code",
      "source": [
        "#display the statistics \n",
        "print(results)"
      ],
      "metadata": {
        "colab": {
          "base_uri": "https://localhost:8080/"
        },
        "id": "wkObdUejWAUG",
        "outputId": "2fc04537-bf97-4898-d8e2-2e9687b346ea"
      },
      "execution_count": null,
      "outputs": [
        {
          "output_type": "stream",
          "name": "stdout",
          "text": [
            "\n",
            "Problem: \n",
            "- Lower bound: -inf\n",
            "  Upper bound: inf\n",
            "  Number of objectives: 1\n",
            "  Number of constraints: 7\n",
            "  Number of variables: 5\n",
            "  Sense: unknown\n",
            "Solver: \n",
            "- Status: ok\n",
            "  Message: Ipopt 3.12.13\\x3a Optimal Solution Found\n",
            "  Termination condition: optimal\n",
            "  Id: 0\n",
            "  Error rc: 0\n",
            "  Time: 0.0760340690612793\n",
            "Solution: \n",
            "- number of solutions: 0\n",
            "  number of solutions displayed: 0\n",
            "\n"
          ]
        }
      ]
    },
    {
      "cell_type": "code",
      "source": [
        "# display solution\n",
        "print('\\nCost = ', model.cost())\n",
        "\n",
        "print('\\nOptimal solution of the function:')\n",
        "print('x1 = ', model.x1())\n",
        "print('x2 = ', model.x2())\n",
        "print('x3 = ', model.x3())\n",
        "print('x4 = ', model.x4())\n",
        "print('x5 = ', model.x5())"
      ],
      "metadata": {
        "colab": {
          "base_uri": "https://localhost:8080/"
        },
        "id": "oP2RL9FKtCp5",
        "outputId": "a203ce83-bad6-46a5-d000-721482f9a876"
      },
      "execution_count": null,
      "outputs": [
        {
          "output_type": "stream",
          "name": "stdout",
          "text": [
            "\n",
            "Cost =  0.07877682087107182\n",
            "\n",
            "Optimal solution of the function:\n",
            "x1 =  1.191127454862753\n",
            "x2 =  1.3626031645868748\n",
            "x3 =  1.4728179318916943\n",
            "x4 =  1.6350166206609638\n",
            "x5 =  1.6790814382066548\n"
          ]
        }
      ]
    },
    {
      "cell_type": "code",
      "source": [],
      "metadata": {
        "id": "gJdkSEsetDYh"
      },
      "execution_count": null,
      "outputs": []
    },
    {
      "cell_type": "code",
      "source": [
        "# declare decision variables with initialization\n",
        "model.x1 = Var(initialize=2**12)\n",
        "model.x2 = Var(initialize=2**12)\n",
        "model.x3 = Var(initialize=2**12)\n",
        "model.x4 = Var(initialize=2**12)\n",
        "model.x5 = Var(initialize=2**12)\n",
        "\n",
        "model.constr1 = Constraint(expr=model.x1 + model.x2**2 + model.x3**3 - 2 - 3*((2)**(1/2))== 0)\n",
        "model.constr2 = Constraint(expr=model.x2 - model.x3**2 + model.x4 + 2 - 2*((2)**(1/2))== 0)\n",
        "model.constr3 = Constraint(expr=model.x1*model.x5 - 2 == 0)\n",
        "model.constr4 = Constraint(expr=model.x1 >= -5)\n",
        "model.constr5 = Constraint(expr=model.x1 <= 5)\n",
        "model.constr6 = Constraint(expr=model.x3 >= 0)\n",
        "model.constr7 = Constraint(expr=model.x3 <= 3)\n",
        "\n",
        "# declare objective\n",
        "model.cost = Objective(rule = funct, sense=minimize)"
      ],
      "metadata": {
        "colab": {
          "base_uri": "https://localhost:8080/"
        },
        "id": "iYnRBaKPsstl",
        "outputId": "534b4197-487a-4952-e2cd-1ce9a5cbbb3d"
      },
      "execution_count": null,
      "outputs": [
        {
          "output_type": "stream",
          "name": "stderr",
          "text": [
            "WARNING:pyomo.core:Implicitly replacing the Component attribute x1 (type=<class 'pyomo.core.base.var.ScalarVar'>) on block unknown with a new Component (type=<class 'pyomo.core.base.var.AbstractScalarVar'>).\n",
            "This is usually indicative of a modelling error.\n",
            "To avoid this warning, use block.del_component() and block.add_component().\n",
            "WARNING:pyomo.core:Implicitly replacing the Component attribute x2 (type=<class 'pyomo.core.base.var.ScalarVar'>) on block unknown with a new Component (type=<class 'pyomo.core.base.var.AbstractScalarVar'>).\n",
            "This is usually indicative of a modelling error.\n",
            "To avoid this warning, use block.del_component() and block.add_component().\n",
            "WARNING:pyomo.core:Implicitly replacing the Component attribute x3 (type=<class 'pyomo.core.base.var.ScalarVar'>) on block unknown with a new Component (type=<class 'pyomo.core.base.var.AbstractScalarVar'>).\n",
            "This is usually indicative of a modelling error.\n",
            "To avoid this warning, use block.del_component() and block.add_component().\n",
            "WARNING:pyomo.core:Implicitly replacing the Component attribute x4 (type=<class 'pyomo.core.base.var.ScalarVar'>) on block unknown with a new Component (type=<class 'pyomo.core.base.var.AbstractScalarVar'>).\n",
            "This is usually indicative of a modelling error.\n",
            "To avoid this warning, use block.del_component() and block.add_component().\n",
            "WARNING:pyomo.core:Implicitly replacing the Component attribute x5 (type=<class 'pyomo.core.base.var.ScalarVar'>) on block unknown with a new Component (type=<class 'pyomo.core.base.var.AbstractScalarVar'>).\n",
            "This is usually indicative of a modelling error.\n",
            "To avoid this warning, use block.del_component() and block.add_component().\n",
            "WARNING:pyomo.core:Implicitly replacing the Component attribute constr1 (type=<class 'pyomo.core.base.constraint.ScalarConstraint'>) on block unknown with a new Component (type=<class 'pyomo.core.base.constraint.AbstractScalarConstraint'>).\n",
            "This is usually indicative of a modelling error.\n",
            "To avoid this warning, use block.del_component() and block.add_component().\n",
            "WARNING:pyomo.core:Implicitly replacing the Component attribute constr2 (type=<class 'pyomo.core.base.constraint.ScalarConstraint'>) on block unknown with a new Component (type=<class 'pyomo.core.base.constraint.AbstractScalarConstraint'>).\n",
            "This is usually indicative of a modelling error.\n",
            "To avoid this warning, use block.del_component() and block.add_component().\n",
            "WARNING:pyomo.core:Implicitly replacing the Component attribute constr3 (type=<class 'pyomo.core.base.constraint.ScalarConstraint'>) on block unknown with a new Component (type=<class 'pyomo.core.base.constraint.AbstractScalarConstraint'>).\n",
            "This is usually indicative of a modelling error.\n",
            "To avoid this warning, use block.del_component() and block.add_component().\n",
            "WARNING:pyomo.core:Implicitly replacing the Component attribute constr4 (type=<class 'pyomo.core.base.constraint.ScalarConstraint'>) on block unknown with a new Component (type=<class 'pyomo.core.base.constraint.AbstractScalarConstraint'>).\n",
            "This is usually indicative of a modelling error.\n",
            "To avoid this warning, use block.del_component() and block.add_component().\n",
            "WARNING:pyomo.core:Implicitly replacing the Component attribute constr5 (type=<class 'pyomo.core.base.constraint.ScalarConstraint'>) on block unknown with a new Component (type=<class 'pyomo.core.base.constraint.AbstractScalarConstraint'>).\n",
            "This is usually indicative of a modelling error.\n",
            "To avoid this warning, use block.del_component() and block.add_component().\n",
            "WARNING:pyomo.core:Implicitly replacing the Component attribute constr6 (type=<class 'pyomo.core.base.constraint.ScalarConstraint'>) on block unknown with a new Component (type=<class 'pyomo.core.base.constraint.AbstractScalarConstraint'>).\n",
            "This is usually indicative of a modelling error.\n",
            "To avoid this warning, use block.del_component() and block.add_component().\n",
            "WARNING:pyomo.core:Implicitly replacing the Component attribute constr7 (type=<class 'pyomo.core.base.constraint.ScalarConstraint'>) on block unknown with a new Component (type=<class 'pyomo.core.base.constraint.AbstractScalarConstraint'>).\n",
            "This is usually indicative of a modelling error.\n",
            "To avoid this warning, use block.del_component() and block.add_component().\n",
            "WARNING:pyomo.core:Implicitly replacing the Component attribute cost (type=<class 'pyomo.core.base.objective.ScalarObjective'>) on block unknown with a new Component (type=<class 'pyomo.core.base.objective.ScalarObjective'>).\n",
            "This is usually indicative of a modelling error.\n",
            "To avoid this warning, use block.del_component() and block.add_component().\n"
          ]
        }
      ]
    },
    {
      "cell_type": "code",
      "source": [
        "model.pprint()"
      ],
      "metadata": {
        "colab": {
          "base_uri": "https://localhost:8080/"
        },
        "id": "hZOcxpnjs2he",
        "outputId": "4b1493ef-202b-4d0c-dade-0156bd0b3f63"
      },
      "execution_count": null,
      "outputs": [
        {
          "output_type": "stream",
          "name": "stdout",
          "text": [
            "5 Var Declarations\n",
            "    x1 : Size=1, Index=None\n",
            "        Key  : Lower : Value : Upper : Fixed : Stale : Domain\n",
            "        None :  None :  4096 :  None : False : False :  Reals\n",
            "    x2 : Size=1, Index=None\n",
            "        Key  : Lower : Value : Upper : Fixed : Stale : Domain\n",
            "        None :  None :  4096 :  None : False : False :  Reals\n",
            "    x3 : Size=1, Index=None\n",
            "        Key  : Lower : Value : Upper : Fixed : Stale : Domain\n",
            "        None :  None :  4096 :  None : False : False :  Reals\n",
            "    x4 : Size=1, Index=None\n",
            "        Key  : Lower : Value : Upper : Fixed : Stale : Domain\n",
            "        None :  None :  4096 :  None : False : False :  Reals\n",
            "    x5 : Size=1, Index=None\n",
            "        Key  : Lower : Value : Upper : Fixed : Stale : Domain\n",
            "        None :  None :  4096 :  None : False : False :  Reals\n",
            "\n",
            "1 Objective Declarations\n",
            "    cost : Size=1, Index=None, Active=True\n",
            "        Key  : Active : Sense    : Expression\n",
            "        None :   True : minimize : (x1 - 1.0)**2 + (x1 - x2)**2 + (x2 - x3)**2 + (x3 - x4)**4 + (x4 - x5)**4\n",
            "\n",
            "7 Constraint Declarations\n",
            "    constr1 : Size=1, Index=None, Active=True\n",
            "        Key  : Lower : Body                                       : Upper : Active\n",
            "        None :   0.0 : x1 + x2**2 + x3**3 - 2 - 4.242640687119286 :   0.0 :   True\n",
            "    constr2 : Size=1, Index=None, Active=True\n",
            "        Key  : Lower : Body                                     : Upper : Active\n",
            "        None :   0.0 : x2 - x3**2 + x4 + 2 - 2.8284271247461903 :   0.0 :   True\n",
            "    constr3 : Size=1, Index=None, Active=True\n",
            "        Key  : Lower : Body      : Upper : Active\n",
            "        None :   0.0 : x1*x5 - 2 :   0.0 :   True\n",
            "    constr4 : Size=1, Index=None, Active=True\n",
            "        Key  : Lower : Body : Upper : Active\n",
            "        None :  -5.0 :   x1 :  +Inf :   True\n",
            "    constr5 : Size=1, Index=None, Active=True\n",
            "        Key  : Lower : Body : Upper : Active\n",
            "        None :  -Inf :   x1 :   5.0 :   True\n",
            "    constr6 : Size=1, Index=None, Active=True\n",
            "        Key  : Lower : Body : Upper : Active\n",
            "        None :   0.0 :   x3 :  +Inf :   True\n",
            "    constr7 : Size=1, Index=None, Active=True\n",
            "        Key  : Lower : Body : Upper : Active\n",
            "        None :  -Inf :   x3 :   3.0 :   True\n",
            "\n",
            "13 Declarations: x1 x2 x3 x4 x5 constr1 constr2 constr3 constr4 constr5 constr6 constr7 cost\n"
          ]
        }
      ]
    },
    {
      "cell_type": "code",
      "source": [
        "results = solver.solve(model)"
      ],
      "metadata": {
        "id": "bK75Umkts9Gr"
      },
      "execution_count": null,
      "outputs": []
    },
    {
      "cell_type": "code",
      "source": [
        "#display the statistics \n",
        "print(results)"
      ],
      "metadata": {
        "colab": {
          "base_uri": "https://localhost:8080/"
        },
        "id": "zH1gn9QbWCT9",
        "outputId": "eae6934b-8a27-4d11-d0ad-56bb147dc8ec"
      },
      "execution_count": null,
      "outputs": [
        {
          "output_type": "stream",
          "name": "stdout",
          "text": [
            "\n",
            "Problem: \n",
            "- Lower bound: -inf\n",
            "  Upper bound: inf\n",
            "  Number of objectives: 1\n",
            "  Number of constraints: 7\n",
            "  Number of variables: 5\n",
            "  Sense: unknown\n",
            "Solver: \n",
            "- Status: ok\n",
            "  Message: Ipopt 3.12.13\\x3a Optimal Solution Found\n",
            "  Termination condition: optimal\n",
            "  Id: 0\n",
            "  Error rc: 0\n",
            "  Time: 0.13318204879760742\n",
            "Solution: \n",
            "- number of solutions: 0\n",
            "  number of solutions displayed: 0\n",
            "\n"
          ]
        }
      ]
    },
    {
      "cell_type": "code",
      "source": [
        "# display solution\n",
        "print('\\nCost = ', model.cost())\n",
        "\n",
        "print('\\nOptimal solution of the function:')\n",
        "print('x1 = ', model.x1())\n",
        "print('x2 = ', model.x2())\n",
        "print('x3 = ', model.x3())\n",
        "print('x4 = ', model.x4())\n",
        "print('x5 = ', model.x5())"
      ],
      "metadata": {
        "colab": {
          "base_uri": "https://localhost:8080/"
        },
        "id": "MBFEMrgttEDe",
        "outputId": "ef440ed6-a353-43ba-ec5c-86717f0be297"
      },
      "execution_count": null,
      "outputs": [
        {
          "output_type": "stream",
          "name": "stdout",
          "text": [
            "\n",
            "Cost =  0.078776821476022\n",
            "\n",
            "Optimal solution of the function:\n",
            "x1 =  1.1911275027451427\n",
            "x2 =  1.3626031771640859\n",
            "x3 =  1.4728179218935038\n",
            "x4 =  1.6350165752432628\n",
            "x5 =  1.6790813649752658\n"
          ]
        }
      ]
    },
    {
      "cell_type": "code",
      "source": [],
      "metadata": {
        "id": "ZTHoFiwJtEz6"
      },
      "execution_count": null,
      "outputs": []
    },
    {
      "cell_type": "markdown",
      "source": [
        "Answer 3)\n",
        "\n",
        "Status: ok\n",
        "\n",
        "Termination condition: optimal\n",
        "\n",
        "Time: 0.03863859176635742"
      ],
      "metadata": {
        "id": "Z9umMi_4SOf6"
      }
    },
    {
      "cell_type": "markdown",
      "source": [
        "Answer 4)\n",
        "\n",
        "Cost =  0.07877682087105699\n",
        "\n",
        "Optimal solution of the function:\n",
        "\n",
        "x1 =  1.1911274562403504\n",
        "\n",
        "x2 =  1.3626031649434767\n",
        "\n",
        "x3 =  1.4728179315306016\n",
        "\n",
        "x4 =  1.6350166192407933\n",
        "\n",
        "x5 =  1.6790814362660684\n",
        "\n"
      ],
      "metadata": {
        "id": "Mko5JdMrQm2A"
      }
    },
    {
      "cell_type": "markdown",
      "source": [
        "Answer 5)\n",
        "\n",
        "Constraint 1 is active because LHS evaluates to 1.7763568394002505e-15 = RHS = 0\n",
        "\n",
        "Constraint 2 is active because LHS evaluates to -4.440892098500626e-16 = RHS = 0\n",
        "\n",
        "Constraint 3 is active because LHS evaluates to -3.774758283725532e-15 = RHS = 0\n",
        "\n",
        "Constraint 4 is inactive because LHS evaluates to 1.1911274562403504 > RHS = -5\n",
        "\n",
        "Constraint 5 is inactive because LHS evaluates to 1.1911274562403504 < RHS = 5\n",
        "\n",
        "Constraint 6 is inactive because LHS evaluates to 1.4728179315306016 > RHS = 0\n",
        "\n",
        "Constraint 7 is inactive because LHS evaluates to 1.4728179315306016 < RHS = 3"
      ],
      "metadata": {
        "id": "-lybpLOuSux0"
      }
    },
    {
      "cell_type": "markdown",
      "source": [
        "Answer 6)\n",
        "\n",
        "i=2\n",
        "\n",
        "Cost =  0.07877682087105696\n",
        "\n",
        "Optimal solution of the function:\n",
        "\n",
        "x1 =  1.1911274562403504\n",
        "\n",
        "x2 =  1.3626031649434764\n",
        "\n",
        "x3 =  1.4728179315306016\n",
        "\n",
        "x4 =  1.6350166192407931\n",
        "\n",
        "x5 =  1.6790814362660684\n",
        "\n",
        "Time: 0.03763914108276367\n",
        "\n",
        "i=4\n",
        "\n",
        "Cost =  0.07877682087105699\n",
        "\n",
        "Optimal solution of the function:\n",
        "\n",
        "x1 =  1.1911274562403504\n",
        "\n",
        "x2 =  1.3626031649434767\n",
        "\n",
        "x3 =  1.4728179315306016\n",
        "\n",
        "x4 =  1.6350166192407933\n",
        "\n",
        "x5 =  1.6790814362660684\n",
        "\n",
        "Time: 0.08252239227294922\n",
        "\n",
        "i=8\n",
        "\n",
        "Cost =  0.07877682087275217\n",
        "\n",
        "Optimal solution of the function:\n",
        "\n",
        "x1 =  1.1911274559325666\n",
        "\n",
        "x2 =  1.3626031648437267\n",
        "\n",
        "x3 =  1.472817931626912\n",
        "\n",
        "x4 =  1.6350166196164382\n",
        "\n",
        "x5 =  1.6790814366888756\n",
        "\n",
        "Time: 0.08246326446533203\n",
        "\n",
        "\n",
        "i=10\n",
        "\n",
        "\n",
        "Cost =  0.07877682087107182\n",
        "\n",
        "Optimal solution of the function:\n",
        "\n",
        "x1 =  1.191127454862753\n",
        "\n",
        "x2 =  1.3626031645868748\n",
        "\n",
        "x3 =  1.4728179318916943\n",
        "\n",
        "x4 =  1.6350166206609638\n",
        "\n",
        "x5 =  1.6790814382066548\n",
        "\n",
        "Time: 0.0760340690612793\n",
        "\n",
        "i=12\n",
        "\n",
        "Cost =  0.078776821476022\n",
        "\n",
        "Optimal solution of the function:\n",
        "\n",
        "x1 =  1.1911275027451427\n",
        "\n",
        "x2 =  1.3626031771640859\n",
        "\n",
        "x3 =  1.4728179218935038\n",
        "\n",
        "x4 =  1.6350165752432628\n",
        "\n",
        "x5 =  1.6790813649752658\n",
        "\n",
        "Time: 0.13318204879760742\n",
        "\n",
        "Observation: Time taken is more when distance between optimal point and initial point is more (exception is last case when i=12).\n"
      ],
      "metadata": {
        "id": "Z2HEHEdiTX7z"
      }
    }
  ]
}