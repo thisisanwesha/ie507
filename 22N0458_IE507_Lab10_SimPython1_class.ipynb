{
  "nbformat": 4,
  "nbformat_minor": 0,
  "metadata": {
    "colab": {
      "provenance": [],
      "collapsed_sections": []
    },
    "kernelspec": {
      "name": "python3",
      "display_name": "Python 3"
    }
  },
  "cells": [
    {
      "cell_type": "markdown",
      "metadata": {
        "id": "uT_cmDH4VNUW"
      },
      "source": [
        "# Simulation using Python 1\n",
        "### Using Numpy's random package\n",
        "\n",
        "[Numpy Random website](https://docs.scipy.org/doc/numpy-1.14.1/reference/routines.random.html)"
      ]
    },
    {
      "cell_type": "markdown",
      "metadata": {
        "id": "L7CjxntgVigf"
      },
      "source": [
        "**import packages**"
      ]
    },
    {
      "cell_type": "code",
      "metadata": {
        "id": "xZ6aaRKXV4PY"
      },
      "source": [
        "#run this code first\n",
        "import numpy.random as rnd\n",
        "import numpy as np"
      ],
      "execution_count": 2,
      "outputs": []
    },
    {
      "cell_type": "markdown",
      "metadata": {
        "id": "YNR-O4lWhEyf"
      },
      "source": [
        "**Example 1a: Roll a die 10 times and observe output**\n",
        "\n",
        "We will use randint() function for this"
      ]
    },
    {
      "cell_type": "code",
      "metadata": {
        "id": "6_A7ygliYCBZ",
        "outputId": "c631e3d0-bc13-4108-a8b8-be3398671061",
        "colab": {
          "base_uri": "https://localhost:8080/"
        }
      },
      "source": [
        "#run this code.  Click play multiple times to simulate multiple dice throws\n",
        "rnd.randint(1,6+1)"
      ],
      "execution_count": null,
      "outputs": [
        {
          "output_type": "execute_result",
          "data": {
            "text/plain": [
              "2"
            ]
          },
          "metadata": {},
          "execution_count": 2
        }
      ]
    },
    {
      "cell_type": "code",
      "metadata": {
        "id": "zsKvSPgnYEm6",
        "outputId": "f2d8eebc-c951-4f61-d7a7-b3ee6fafe8a9",
        "colab": {
          "base_uri": "https://localhost:8080/"
        }
      },
      "source": [
        "#insert code here to simulate 10 rolls of a die, and print the output. \n",
        "for i in range(10):\n",
        "  print(rnd.randint(1,6+1),end=', ')"
      ],
      "execution_count": null,
      "outputs": [
        {
          "output_type": "stream",
          "name": "stdout",
          "text": [
            "5, 3, 5, 4, 3, 3, 2, 3, 4, 2, "
          ]
        }
      ]
    },
    {
      "cell_type": "markdown",
      "metadata": {
        "id": "kMa9iXXOhYMz"
      },
      "source": [
        "**Example 1b: Roll a pair of dice N times, and plot histogram**\n",
        "\n",
        "We will use randint() function for this; use matplotlib.pyplot for plotting"
      ]
    },
    {
      "cell_type": "code",
      "metadata": {
        "id": "4uVftSjiYj5C",
        "outputId": "1e6ca712-f785-41b6-fe96-5e750323a433",
        "colab": {
          "base_uri": "https://localhost:8080/"
        }
      },
      "source": [
        "#Code adds the output of two 'dice throws'. Run code multiple times.\n",
        "rnd.randint(1,6+1) + rnd.randint(1,6+1)"
      ],
      "execution_count": null,
      "outputs": [
        {
          "output_type": "execute_result",
          "data": {
            "text/plain": [
              "4"
            ]
          },
          "metadata": {},
          "execution_count": 4
        }
      ]
    },
    {
      "cell_type": "code",
      "metadata": {
        "id": "Q3Ou0-00YOKB",
        "outputId": "41216988-a1be-4071-c980-5d0be2387d1d",
        "colab": {
          "base_uri": "https://localhost:8080/"
        }
      },
      "source": [
        "#Code here simulates 10 dice throws.\n",
        "for i in range(10):\n",
        "  print(rnd.randint(1,6+1) + rnd.randint(1,6+1), end=', ')"
      ],
      "execution_count": null,
      "outputs": [
        {
          "output_type": "stream",
          "name": "stdout",
          "text": [
            "9, 7, 11, 9, 7, 4, 7, 10, 11, 8, "
          ]
        }
      ]
    },
    {
      "cell_type": "code",
      "metadata": {
        "id": "Jw-6fA9zYoRB"
      },
      "source": [
        "#Required for plotting.\n",
        "import matplotlib.pyplot as plt"
      ],
      "execution_count": null,
      "outputs": []
    },
    {
      "cell_type": "code",
      "metadata": {
        "id": "I1qr9mvzY479",
        "outputId": "5b45db42-0fcf-4f99-b61c-8e6aaaaf7033",
        "colab": {
          "base_uri": "https://localhost:8080/",
          "height": 317
        }
      },
      "source": [
        "# Simulate N throws of pair of dice, and plot histogram\n",
        "# See if you can use bins in histogram to get a better plot\n",
        "n=1000\n",
        "x=[]\n",
        "for i in range(n):\n",
        "  x.append(rnd.randint(1,6+1) + rnd.randint(1,6+1))\n",
        "\n",
        "plt.hist(x, bins=[2,3,4,5,6,7,8,9,10,11,12,13])"
      ],
      "execution_count": null,
      "outputs": [
        {
          "output_type": "execute_result",
          "data": {
            "text/plain": [
              "(array([ 16.,  70.,  76., 122., 138., 150., 138.,  99.,  99.,  61.,  31.]),\n",
              " array([ 2,  3,  4,  5,  6,  7,  8,  9, 10, 11, 12, 13]),\n",
              " <a list of 11 Patch objects>)"
            ]
          },
          "metadata": {},
          "execution_count": 7
        },
        {
          "output_type": "display_data",
          "data": {
            "text/plain": [
              "<Figure size 432x288 with 1 Axes>"
            ],
            "image/png": "[encoded data removed]"
          },
          "metadata": {
            "needs_background": "light"
          }
        }
      ]
    },
    {
      "cell_type": "markdown",
      "metadata": {
        "id": "TycNwmAPiEux"
      },
      "source": [
        "**Example 1c,1d: Toss a fair/unfair coin 10 times**\n",
        "\n",
        "Use choice() function"
      ]
    },
    {
      "cell_type": "code",
      "metadata": {
        "id": "Eo-lMDhvZHY9",
        "outputId": "d3ddc4f0-1c7c-4a4d-d7fd-498fcaea8900",
        "colab": {
          "base_uri": "https://localhost:8080/"
        }
      },
      "source": [
        "#insert code here to simulate toss a fair coin, choice(coin)\n",
        "coin=['Heads', 'Tails']\n",
        "for i in range(10):\n",
        " print(rnd.choice(coin))"
      ],
      "execution_count": null,
      "outputs": [
        {
          "output_type": "stream",
          "name": "stdout",
          "text": [
            "Heads\n",
            "Heads\n",
            "Tails\n",
            "Tails\n",
            "Tails\n",
            "Heads\n",
            "Tails\n",
            "Tails\n",
            "Tails\n",
            "Heads\n"
          ]
        }
      ]
    },
    {
      "cell_type": "code",
      "metadata": {
        "id": "DKQ4dfi0aFi0",
        "outputId": "e6301a13-a5ba-496e-b5b0-f52812a65899",
        "colab": {
          "base_uri": "https://localhost:8080/"
        }
      },
      "source": [
        "#insert code here to simulate toss an unfair coin, with P{H}=0.8. \n",
        "#use choice(coin, p=[0.8, 0.2])\n",
        "coin=['Heads', 'Tails']\n",
        "for i in range(10):\n",
        " print(rnd.choice(coin, p=[0.8,0.2]))"
      ],
      "execution_count": null,
      "outputs": [
        {
          "output_type": "stream",
          "name": "stdout",
          "text": [
            "Heads\n",
            "Heads\n",
            "Heads\n",
            "Tails\n",
            "Heads\n",
            "Heads\n",
            "Heads\n",
            "Heads\n",
            "Tails\n",
            "Heads\n"
          ]
        }
      ]
    },
    {
      "cell_type": "code",
      "metadata": {
        "id": "SRqkKjQmco-A",
        "outputId": "55325603-a2c2-43cf-cb20-515dcf0e68e7",
        "colab": {
          "base_uri": "https://localhost:8080/"
        }
      },
      "source": [
        "#A more compact code. Use  choice(coin, p=[0.8, 0.2], size=10)\n",
        "coin=['Heads', 'Tails']\n",
        "rnd.choice(coin, p=[0.8, 0.2], size=10)"
      ],
      "execution_count": null,
      "outputs": [
        {
          "output_type": "execute_result",
          "data": {
            "text/plain": [
              "array(['Heads', 'Heads', 'Heads', 'Heads', 'Heads', 'Heads', 'Heads',\n",
              "       'Heads', 'Heads', 'Heads'], dtype='<U5')"
            ]
          },
          "metadata": {},
          "execution_count": 10
        }
      ]
    },
    {
      "cell_type": "markdown",
      "source": [
        "After such experiments, one may want to simply count the number of heads and tails, and perhaps plot a bar chart of the aggregate results. We can do that as follows:"
      ],
      "metadata": {
        "id": "1VOycON2Cf4I"
      }
    },
    {
      "cell_type": "code",
      "source": [
        "outcomes = rnd.choice(coin, size=100) #Corresponds to 100 toss of a fair dice\n",
        "#the results are now stored in a variable called 'outcomes'. You can print(outcomes) to view the results\n",
        "print(outcomes)\n",
        "\n",
        "#We need to now count the number of heads and tails we have got. \n",
        "#For that we create a dictonary with key as the options (Heads or Tails), and values as the count.\n",
        "from collections import Counter\n",
        "tosscount = dict(Counter(outcomes))\n",
        "\n",
        "#Print tosscount to view the results\n",
        "print(tosscount)\n",
        "\n",
        "#We can create a bar chart, with x-axis as the keys and y-axis as the values.\n",
        "plt.bar(tosscount.keys(), tosscount.values())"
      ],
      "metadata": {
        "id": "4ZUFGNrdDerA",
        "outputId": "73ff59aa-53c1-4997-d1e6-003b071ad392",
        "colab": {
          "base_uri": "https://localhost:8080/",
          "height": 509
        }
      },
      "execution_count": null,
      "outputs": [
        {
          "output_type": "stream",
          "name": "stdout",
          "text": [
            "['Heads' 'Heads' 'Heads' 'Heads' 'Tails' 'Heads' 'Heads' 'Heads' 'Tails'\n",
            " 'Heads' 'Heads' 'Tails' 'Tails' 'Tails' 'Heads' 'Heads' 'Tails' 'Heads'\n",
            " 'Tails' 'Tails' 'Tails' 'Heads' 'Tails' 'Heads' 'Heads' 'Tails' 'Tails'\n",
            " 'Heads' 'Tails' 'Heads' 'Tails' 'Heads' 'Tails' 'Tails' 'Heads' 'Tails'\n",
            " 'Tails' 'Heads' 'Heads' 'Heads' 'Heads' 'Tails' 'Heads' 'Tails' 'Heads'\n",
            " 'Tails' 'Tails' 'Heads' 'Tails' 'Heads' 'Tails' 'Tails' 'Tails' 'Heads'\n",
            " 'Heads' 'Tails' 'Heads' 'Heads' 'Tails' 'Heads' 'Tails' 'Heads' 'Tails'\n",
            " 'Heads' 'Tails' 'Heads' 'Heads' 'Heads' 'Heads' 'Heads' 'Tails' 'Heads'\n",
            " 'Heads' 'Tails' 'Heads' 'Heads' 'Tails' 'Heads' 'Heads' 'Heads' 'Tails'\n",
            " 'Tails' 'Heads' 'Heads' 'Heads' 'Tails' 'Tails' 'Heads' 'Heads' 'Tails'\n",
            " 'Heads' 'Heads' 'Heads' 'Tails' 'Heads' 'Tails' 'Heads' 'Heads' 'Tails'\n",
            " 'Heads']\n",
            "{'Heads': 58, 'Tails': 42}\n"
          ]
        },
        {
          "output_type": "execute_result",
          "data": {
            "text/plain": [
              "<BarContainer object of 2 artists>"
            ]
          },
          "metadata": {},
          "execution_count": 11
        },
        {
          "output_type": "display_data",
          "data": {
            "text/plain": [
              "<Figure size 432x288 with 1 Axes>"
            ],
            "image/png": "[encoded data removed]"
          },
          "metadata": {
            "needs_background": "light"
          }
        }
      ]
    },
    {
      "cell_type": "markdown",
      "metadata": {
        "id": "dt0uVvF-ifKy"
      },
      "source": [
        "**Example 1e: Sample 3 balls from a box with 5 red and 3 blue balls, without replacement**\n",
        "\n",
        "Sampling using choice() function "
      ]
    },
    {
      "cell_type": "code",
      "metadata": {
        "id": "dPFuBcCDc7Dm",
        "outputId": "ea909ee5-4546-4bf7-eb5c-c91aafe2dd50",
        "colab": {
          "base_uri": "https://localhost:8080/"
        }
      },
      "source": [
        "#insert code here to simulate sampling without replacement. Use replace='False' in choice.\n",
        "box=['red','red','red','red','red','blue','blue','blue']\n",
        "rnd.choice(box, size=4, replace='False')"
      ],
      "execution_count": null,
      "outputs": [
        {
          "output_type": "execute_result",
          "data": {
            "text/plain": [
              "array(['blue', 'blue', 'red', 'blue'], dtype='<U4')"
            ]
          },
          "metadata": {},
          "execution_count": 12
        }
      ]
    },
    {
      "cell_type": "markdown",
      "metadata": {
        "id": "fywJnj-hiwqt"
      },
      "source": [
        "**Example 1f: Randomly shuffle a list of students**\n",
        "\n",
        "Use shuffle() function"
      ]
    },
    {
      "cell_type": "code",
      "metadata": {
        "id": "eduuS73peSiu",
        "outputId": "5d4217dc-fbf4-4c4c-bdd0-0974e05df6d8",
        "colab": {
          "base_uri": "https://localhost:8080/"
        }
      },
      "source": [
        "#insert code here to shuffle a list\n",
        "students=['bhanu','shyam','radha','vijay','manu','deepak','meena','latha', 'alex', 'sania']\n",
        "rnd.shuffle(students)\n",
        "print(students)"
      ],
      "execution_count": null,
      "outputs": [
        {
          "output_type": "stream",
          "name": "stdout",
          "text": [
            "['meena', 'shyam', 'latha', 'manu', 'vijay', 'radha', 'deepak', 'alex', 'bhanu', 'sania']\n"
          ]
        }
      ]
    },
    {
      "cell_type": "markdown",
      "metadata": {
        "id": "Sfe_K2ekyK9X"
      },
      "source": [
        "**Example 1g: Probability Distributions**\n",
        "\n",
        "Use random(), uniform(), triangular(), exponential() to generate sample"
      ]
    },
    {
      "cell_type": "code",
      "metadata": {
        "id": "mr_GHbBQyX6C",
        "outputId": "48e889a9-5bd5-4c00-81c6-4d3b30d05678",
        "colab": {
          "base_uri": "https://localhost:8080/"
        }
      },
      "source": [
        "# Use random() function to generate numbers between 0 and 1\n",
        "# Use uniform(a,b) function to generate numbers between a=1 and b=6\n",
        "# Use triangular(low, mode, high) function to generate numbers triangular(1,2,6)\n",
        "# Use exponential(scale) function to generate numbers exponential(scale=2); scale = 1/lambda\n",
        "print('From random', rnd.random())\n",
        "print('from uniform', rnd.uniform(1,6))\n",
        "print('from triangular(1,6,2)', rnd.triangular(1,2,6))\n",
        "print('from exponential(2)', rnd.exponential(2))"
      ],
      "execution_count": null,
      "outputs": [
        {
          "output_type": "stream",
          "name": "stdout",
          "text": [
            "From random 0.5675937389463371\n",
            "from uniform 3.6727760089607155\n",
            "from triangular(1,6,2) 3.725105041522764\n",
            "from exponential(2) 3.5259159246617697\n"
          ]
        }
      ]
    },
    {
      "cell_type": "markdown",
      "metadata": {
        "id": "gqI7nLL80Vh_"
      },
      "source": [
        "Next: Let's generate say 1000 samples from a distribution and plot the histogram to see the distribution"
      ]
    },
    {
      "cell_type": "code",
      "metadata": {
        "id": "ACtJnev40e1X",
        "outputId": "e7f6fdf6-01e2-4ea7-f9a7-fe8e395b9cc8",
        "colab": {
          "base_uri": "https://localhost:8080/",
          "height": 369
        }
      },
      "source": [
        "#Let's try uniform distribution\n",
        "y=[]\n",
        "n=10000\n",
        "for i in range(n):\n",
        "  y.append(rnd.uniform(1,6))\n",
        "\n",
        "plt.hist(y)"
      ],
      "execution_count": null,
      "outputs": [
        {
          "output_type": "execute_result",
          "data": {
            "text/plain": [
              "(array([ 953., 1013.,  999., 1035., 1032.,  979., 1007.,  983.,  969.,\n",
              "        1030.]),\n",
              " array([1.00010279, 1.50008472, 2.00006665, 2.50004859, 3.00003052,\n",
              "        3.50001245, 3.99999438, 4.49997631, 4.99995825, 5.49994018,\n",
              "        5.99992211]),\n",
              " <a list of 10 Patch objects>)"
            ]
          },
          "metadata": {},
          "execution_count": 15
        },
        {
          "output_type": "display_data",
          "data": {
            "text/plain": [
              "<Figure size 432x288 with 1 Axes>"
            ],
            "image/png": "[encoded data removed]"
          },
          "metadata": {
            "needs_background": "light"
          }
        }
      ]
    },
    {
      "cell_type": "code",
      "metadata": {
        "id": "T5rf4ueP0w25",
        "outputId": "2c3a3c67-a3e1-421c-df58-dae979df02d7",
        "colab": {
          "base_uri": "https://localhost:8080/",
          "height": 352
        }
      },
      "source": [
        "#Let's try expo(2) distribution\n",
        "z=[]\n",
        "n=1000\n",
        "for i in range(n):\n",
        "  z.append(rnd.exponential(2))\n",
        "\n",
        "plt.hist(z)"
      ],
      "execution_count": null,
      "outputs": [
        {
          "output_type": "execute_result",
          "data": {
            "text/plain": [
              "(array([522., 244., 121.,  55.,  34.,  14.,   4.,   2.,   1.,   3.]),\n",
              " array([1.12256548e-02, 1.40677030e+00, 2.80231494e+00, 4.19785959e+00,\n",
              "        5.59340423e+00, 6.98894888e+00, 8.38449352e+00, 9.78003816e+00,\n",
              "        1.11755828e+01, 1.25711275e+01, 1.39666721e+01]),\n",
              " <a list of 10 Patch objects>)"
            ]
          },
          "metadata": {},
          "execution_count": 16
        },
        {
          "output_type": "display_data",
          "data": {
            "text/plain": [
              "<Figure size 432x288 with 1 Axes>"
            ],
            "image/png": "[encoded data removed]"
          },
          "metadata": {
            "needs_background": "light"
          }
        }
      ]
    },
    {
      "cell_type": "code",
      "metadata": {
        "id": "XKBzsEZ5PW2m",
        "outputId": "e61dd499-e46c-4275-c790-fa5b83296e0d",
        "colab": {
          "base_uri": "https://localhost:8080/",
          "height": 352
        }
      },
      "source": [
        "# We can write a more compact code using \"size\" input inside the distribution function\n",
        "n=1000\n",
        "z= rnd.exponential(2,n)\n",
        "plt.hist(z)"
      ],
      "execution_count": null,
      "outputs": [
        {
          "output_type": "execute_result",
          "data": {
            "text/plain": [
              "(array([436., 240., 134.,  91.,  36.,  30.,  22.,   5.,   3.,   3.]),\n",
              " array([5.64198602e-03, 1.10799457e+00, 2.21034715e+00, 3.31269973e+00,\n",
              "        4.41505232e+00, 5.51740490e+00, 6.61975748e+00, 7.72211006e+00,\n",
              "        8.82446265e+00, 9.92681523e+00, 1.10291678e+01]),\n",
              " <a list of 10 Patch objects>)"
            ]
          },
          "metadata": {},
          "execution_count": 17
        },
        {
          "output_type": "display_data",
          "data": {
            "text/plain": [
              "<Figure size 432x288 with 1 Axes>"
            ],
            "image/png": "[encoded data removed]"
          },
          "metadata": {
            "needs_background": "light"
          }
        }
      ]
    },
    {
      "cell_type": "markdown",
      "metadata": {
        "id": "eaQ-jxQH2v4Z"
      },
      "source": [
        "Next: Let's try simple probability exercises, compute P{X>=8}, where X ~ expo(mean=2)"
      ]
    },
    {
      "cell_type": "code",
      "metadata": {
        "id": "owSVOBcK1crb",
        "outputId": "e801e07b-7773-4ea4-a9aa-9c3a8b4e295b",
        "colab": {
          "base_uri": "https://localhost:8080/"
        }
      },
      "source": [
        "# Suppose X ~Expo(mean=2), what is P(X>=8)? Rerun with different values of n (sample size) and observe the output\n",
        "count=0\n",
        "n=1000\n",
        "l=[]\n",
        "l= rnd.exponential(2,n)\n",
        "print(l)\n",
        "for i in range(n):\n",
        "  if (l[i]>= 8):\n",
        "    count = count+1\n",
        "\n",
        "print('P{X>=8} is ', count/n)"
      ],
      "execution_count": 3,
      "outputs": [
        {
          "output_type": "stream",
          "name": "stdout",
          "text": [
            "[8.48930688e+00 5.37596559e+00 1.88789516e+00 2.83156802e+00\n",
            " 3.41042928e-01 1.68761609e+00 3.57715786e+00 1.31404511e-01\n",
            " 1.32875646e+00 1.57897598e+00 6.60154010e+00 9.07936566e-01\n",
            " 2.95987999e+00 5.95969540e-01 1.61907148e+00 3.02737917e+00\n",
            " 2.73516781e-01 1.23800784e+00 1.66888686e+00 5.99768599e+00\n",
            " 6.59230241e-01 1.76298359e-01 6.31844712e+00 2.50716596e-01\n",
            " 3.80891483e-01 2.28587474e-01 9.79448735e-01 2.71067288e+00\n",
            " 8.08929468e-01 3.68664028e-01 2.29822682e+00 2.52953780e-01\n",
            " 1.99922282e-01 2.99902053e+00 7.61797622e-01 2.51062807e+00\n",
            " 8.87109145e+00 2.27085642e-01 7.62649518e-01 2.38322345e-01\n",
            " 2.50828608e+00 1.90913293e+00 5.04620336e+00 1.17027859e+00\n",
            " 3.52434204e-01 7.80353497e-01 1.08715475e+01 3.38424729e+00\n",
            " 7.12648086e+00 1.50840241e+00 4.26065573e+00 1.01462357e-01\n",
            " 6.28385815e-01 1.70865869e-01 6.47326988e-01 2.70977148e+00\n",
            " 9.66043035e-01 3.14965425e+00 5.09017501e+00 2.03740954e+00\n",
            " 7.95562443e+00 4.23783760e+00 1.12988388e+00 3.42686526e+00\n",
            " 3.68075462e+00 9.02824736e+00 1.98701696e+00 1.24760820e-01\n",
            " 2.45392838e+00 5.27762136e-01 1.75108509e+00 3.23005406e+00\n",
            " 5.45332993e+00 2.17406154e+00 9.27016003e-01 4.20970993e+00\n",
            " 2.55784630e-01 6.04620560e-02 2.51053357e+00 1.79098965e+00\n",
            " 3.33487698e-01 3.59720248e+00 1.92440115e+00 5.11833946e-01\n",
            " 4.09091771e+00 1.86768495e+00 6.14073614e-01 1.02676851e+00\n",
            " 7.06019230e-01 1.61325808e+00 2.40611899e+00 1.68927606e+00\n",
            " 4.74639971e+00 3.85632647e+00 4.28661808e+00 1.26409101e+00\n",
            " 1.61394536e+00 2.22383411e+00 1.60025882e+00 7.59906694e-01\n",
            " 1.80066811e-01 5.51415737e+00 1.05008948e-01 6.03862412e-01\n",
            " 2.53178800e+00 2.58529969e+00 4.48017654e+00 3.20030221e+00\n",
            " 1.08281086e-01 1.29185156e+00 3.37290725e+00 3.82485408e+00\n",
            " 1.18596062e+00 2.75063249e+00 9.41169411e-01 9.00352820e-01\n",
            " 1.45314732e+00 1.24766475e+00 4.17118045e-01 8.87989956e-01\n",
            " 1.29319000e+00 1.00846270e+00 1.73540906e+00 2.27481972e-01\n",
            " 2.43323223e-01 5.49075826e-01 1.09768353e+00 1.77129956e+00\n",
            " 4.33447707e-01 1.18258360e-01 6.57480885e-01 1.53241797e-01\n",
            " 7.82437117e+00 2.07817364e+00 2.13367133e+00 1.32811742e+00\n",
            " 4.88130071e+00 1.41917453e+00 3.24256516e+00 3.41964908e+00\n",
            " 2.41690189e+00 1.46337659e+00 2.50425896e+00 1.92183260e+00\n",
            " 6.84836324e+00 5.64357716e-01 2.58336216e+00 1.07076706e+00\n",
            " 1.13477137e+00 4.70661647e-01 8.92272239e-01 5.69013592e-01\n",
            " 3.37894459e+00 1.81396556e+00 1.11600733e+00 1.82966831e+00\n",
            " 8.92342315e-02 2.71683209e+00 2.92568115e+00 1.36217049e+00\n",
            " 2.36302328e+00 7.12757423e-01 1.66173521e-01 1.60901306e+00\n",
            " 3.43943885e+00 1.48444537e+00 3.14889898e-01 4.76529206e-01\n",
            " 3.56708365e+00 2.28051425e+00 8.74288117e-01 1.76357523e+00\n",
            " 9.03263815e-01 1.43845904e+00 9.53011343e+00 7.17118000e+00\n",
            " 9.47622234e-01 7.57014633e-01 5.35495256e+00 2.98541557e+00\n",
            " 1.72152636e+00 4.21700498e-01 1.51903399e+00 6.06442286e-01\n",
            " 1.27073193e-02 2.60771900e+00 1.80885907e+00 4.39915204e-01\n",
            " 1.62150037e+00 2.81847097e-01 2.03509743e+00 2.26515151e+00\n",
            " 7.87703851e-01 2.85503917e+00 9.62150139e-01 2.26031882e-02\n",
            " 1.19193899e+00 2.13767357e+00 4.16709897e+00 4.75331168e+00\n",
            " 1.41945056e+00 3.44537153e+00 2.28906284e+00 5.60093939e+00\n",
            " 6.64550277e+00 6.06861814e-02 1.73173563e+00 2.09670254e-01\n",
            " 1.13226485e+00 2.51579433e+00 1.53898704e+00 4.16079978e+00\n",
            " 1.40523178e+00 8.72458213e+00 3.19067579e-01 1.79728868e+00\n",
            " 2.96366933e-01 6.09064039e-01 6.01904910e+00 1.89988843e+00\n",
            " 4.44362872e-01 3.20717344e+00 4.47431332e+00 3.80548357e+00\n",
            " 2.06803516e+00 3.09526553e-01 2.05421004e+00 1.93321301e+00\n",
            " 6.21130535e-01 2.64493772e-01 3.89038206e-02 1.23711542e+00\n",
            " 1.24230952e+00 1.74857861e+00 2.76044384e+00 2.49296979e+00\n",
            " 1.28588244e-01 9.48534072e-01 2.87495753e+00 4.79678061e-01\n",
            " 3.24653433e-01 1.35480471e+00 6.36903241e-01 3.72947794e+00\n",
            " 3.59804750e+00 1.96946431e+00 1.38111285e+00 3.89357842e+00\n",
            " 7.33866988e-01 7.33515089e+00 2.76983640e+00 2.26571995e+00\n",
            " 9.45095396e-01 3.21191591e-01 5.95549411e-01 7.52902623e-01\n",
            " 4.02096108e+00 3.15540102e-01 7.11671330e-01 9.84691625e-01\n",
            " 1.63901030e+00 2.27710424e+00 1.41827433e+00 2.46128776e+00\n",
            " 2.24618537e+00 3.42924380e-01 9.26995144e-01 3.90190834e+00\n",
            " 3.19158328e-01 4.04192892e+00 1.86203659e+00 2.43801756e+00\n",
            " 3.86902466e+00 3.54070921e+00 4.60337627e-01 3.84723623e-01\n",
            " 1.14044894e+00 3.80111318e-01 8.24866926e-01 3.33324059e-01\n",
            " 1.20222786e+00 2.26628368e-03 4.59804732e+00 2.63699516e+00\n",
            " 3.06442600e+00 3.63407008e+00 3.76505023e+00 5.13275373e+00\n",
            " 2.93899735e+00 3.22057015e+00 6.30264562e+00 1.89017288e+00\n",
            " 2.34155665e+00 1.80071316e-01 2.54903226e-01 2.62912323e+00\n",
            " 3.57968943e+00 1.45276637e+00 4.62015600e+00 8.81246326e-01\n",
            " 2.98630357e+00 2.47166253e-01 1.51275888e+00 2.05314183e+00\n",
            " 1.96832324e+00 4.03184729e+00 1.39886474e-02 1.93475077e+00\n",
            " 1.85364396e+00 9.60082083e-01 1.22608764e+00 1.15593605e+00\n",
            " 1.65373098e+00 2.82057518e+00 5.39081171e+00 3.33886930e+00\n",
            " 1.09490267e+00 2.17191931e-01 4.97962364e+00 1.10004527e+00\n",
            " 1.34890970e-01 3.77340088e-01 2.01604450e+00 2.85225776e+00\n",
            " 2.83881245e-01 2.13338457e+00 2.08417435e+00 2.10610119e+00\n",
            " 1.37676181e+00 6.05438384e+00 9.37053572e-01 2.67269524e-01\n",
            " 1.92286145e+00 1.39136284e-01 1.36315247e-02 9.15062389e-01\n",
            " 2.33528202e-01 2.91401143e-01 2.87847174e+00 9.90351127e-01\n",
            " 3.03068324e+00 3.51849322e+00 4.14936602e+00 6.47767090e-01\n",
            " 3.04276596e+00 5.51601975e-01 1.95603511e-01 3.39645859e-01\n",
            " 1.54324901e+00 5.20247635e-01 4.51936928e+00 8.27718342e-01\n",
            " 5.28374439e-01 6.30851490e-01 5.87039599e-01 4.07995209e+00\n",
            " 5.27056777e-03 8.84826209e-01 4.36189143e-01 3.68374120e-01\n",
            " 3.56798548e+00 1.49994950e+00 9.99163939e+00 1.40152486e+00\n",
            " 5.82523335e-01 2.78356025e-01 2.11641232e+00 4.81655786e-01\n",
            " 1.74671113e-01 4.53899439e+00 1.94836090e+00 4.23501869e+00\n",
            " 6.73261288e-01 2.10376198e+00 9.56539531e-02 1.00907277e+00\n",
            " 4.38784758e+00 1.36983264e-01 1.75016474e+00 3.05185219e+00\n",
            " 5.84132305e-01 5.17456567e-01 7.46791652e-01 1.37906038e+00\n",
            " 5.48943437e+00 2.56839916e+00 1.97902763e-02 1.90310797e+00\n",
            " 2.08285247e+00 6.95618715e-01 2.82505761e+00 3.86990234e+00\n",
            " 5.71289994e+00 1.82655231e+00 1.69315279e-01 2.15980182e+00\n",
            " 3.96693240e-01 1.40389568e+00 4.09447613e-02 9.74909851e-02\n",
            " 3.90988818e-01 3.16046955e+00 1.75817486e+00 2.58584635e+00\n",
            " 1.84317430e+00 3.35539686e+00 1.24036014e+00 1.89599462e+00\n",
            " 2.45623941e+00 4.04672665e-01 1.74036002e+00 1.30738234e+00\n",
            " 7.45439653e-01 6.72430334e+00 2.74741663e-02 5.00653256e+00\n",
            " 1.70315414e+00 2.85605274e-01 1.86861819e+00 7.93128803e-01\n",
            " 1.58464437e+00 4.73750838e+00 8.74546030e-01 3.26919288e-01\n",
            " 4.56368350e+00 2.57532115e+00 1.63145784e+00 1.25608073e+00\n",
            " 3.28648609e+00 7.73999887e-01 2.40345578e+00 2.36988477e-01\n",
            " 8.83246782e-01 1.97281972e+00 7.15655185e-01 1.99597315e+00\n",
            " 6.58716262e-01 1.04593324e+00 6.49927354e+00 3.92312741e+00\n",
            " 1.69012571e+00 2.22833082e+00 2.46043856e+00 1.75653331e+00\n",
            " 2.71584831e+00 1.36419110e+00 2.91227870e+00 7.28704226e-01\n",
            " 9.37170370e-01 1.00229579e+00 1.16482014e+00 1.64960120e+00\n",
            " 1.96182958e+00 2.29406040e+00 2.15967590e+00 3.78904842e-01\n",
            " 1.52466367e-01 4.36347437e+00 6.94014301e-01 5.52489298e+00\n",
            " 9.28874130e-01 2.71198197e+00 3.61304384e+00 5.38623616e-01\n",
            " 3.76712342e+00 4.67603976e-01 1.08606439e+01 2.47826693e+00\n",
            " 3.36816890e-01 3.82568797e-01 7.49909849e-01 1.18992844e+00\n",
            " 2.15573123e+00 2.43707952e+00 2.65050113e+00 7.06928419e-01\n",
            " 1.91946799e+00 3.31775599e+00 1.97729005e+00 9.12025075e-02\n",
            " 6.36449417e-01 3.19884010e+00 3.96997494e+00 2.45956946e+00\n",
            " 5.67582635e-01 1.94149420e-01 1.67411383e-01 5.91093221e+00\n",
            " 1.32615178e+00 1.65506337e+00 9.61383842e-01 3.28804811e-01\n",
            " 3.25931305e+00 2.97266797e+00 1.75459840e-01 2.40855755e+00\n",
            " 1.71173870e+00 3.41897976e+00 5.20505490e-01 1.19581211e+00\n",
            " 4.92040173e+00 2.88881088e+00 2.46268540e+00 8.03796905e-01\n",
            " 1.70306681e-01 4.37265039e+00 1.18629588e-01 5.30100634e-01\n",
            " 2.96444010e+00 1.12014925e-01 1.47237969e+00 2.33712415e+00\n",
            " 3.32642498e+00 1.93510618e+00 1.42822069e+00 4.93322259e+00\n",
            " 3.32446747e+00 3.18917658e+00 7.75673462e-01 2.16411855e-02\n",
            " 5.76975162e+00 1.52209053e+00 8.51709761e-01 3.65981235e-01\n",
            " 2.99967186e+00 2.72975992e-01 6.08481434e-01 1.95763687e-01\n",
            " 2.64547576e+00 1.05961258e+00 2.52180993e-01 1.16910059e+00\n",
            " 5.02040366e+00 2.34930032e-01 1.05164620e+00 3.03782607e+00\n",
            " 4.28580546e-01 3.50015705e+00 1.06733147e-01 1.51091068e+00\n",
            " 8.31613676e-01 4.26274767e-01 7.27819222e-01 1.92932190e+00\n",
            " 3.18114205e+00 7.44252196e-01 1.77984279e-01 4.21218744e+00\n",
            " 1.04967969e+00 6.30562409e-01 9.39889341e-02 4.83242956e-01\n",
            " 1.69765125e+00 1.47203701e+00 2.78139820e+00 2.30909644e-01\n",
            " 5.31602040e+00 2.33029903e+00 1.49008492e+00 1.38686921e+00\n",
            " 1.28174680e+00 2.62327701e-01 2.49077831e-01 3.25520869e-01\n",
            " 1.80902777e+00 1.49598623e+00 3.17407586e+00 6.84456466e-01\n",
            " 1.49025786e+00 2.55150523e+00 2.15087512e+00 6.96799151e-01\n",
            " 6.94780397e-01 4.56528825e-01 1.02530177e+00 4.65256815e-01\n",
            " 2.87019209e+00 6.27186430e-01 2.59922112e+00 2.05458652e-01\n",
            " 6.18315665e-01 1.16532596e+00 2.49487611e-02 2.43581316e-01\n",
            " 6.47310431e-01 4.67909757e-01 4.46139899e+00 6.68609028e-01\n",
            " 7.38422068e-01 1.08079527e+00 1.49850166e+00 4.35075705e-01\n",
            " 1.93185860e+00 3.55484103e+00 4.30676942e-01 9.61008006e-01\n",
            " 4.92179173e+00 9.73451429e-02 9.77718987e-01 1.73860270e-01\n",
            " 3.08930851e+00 3.19692575e-01 1.33445520e+00 1.09040778e+00\n",
            " 3.81275758e+00 7.30841199e-01 1.96911296e+00 4.02901450e-01\n",
            " 1.33071833e+00 1.29278607e+01 3.49672230e+00 2.42986867e+00\n",
            " 3.09659076e-01 1.95282519e-01 5.86117096e-02 1.18491449e-01\n",
            " 7.87910347e-01 2.18824256e+00 3.23018841e-01 1.72145304e+00\n",
            " 2.65181868e-01 1.88683517e-02 1.82031242e+00 9.05783753e-01\n",
            " 2.72825632e+00 3.57278155e+00 1.63580856e+00 3.35854766e-01\n",
            " 8.40519997e+00 4.61283819e-02 2.24562377e-01 2.44616940e+00\n",
            " 1.54873948e+00 1.98493289e+00 3.18982496e-01 4.44888225e-01\n",
            " 4.91158735e+00 1.06880796e+00 4.68458485e-02 7.81897700e+00\n",
            " 2.48100552e+00 9.41203945e-02 1.68150486e-01 3.35720478e-01\n",
            " 8.41998372e-01 1.42270503e+00 6.17809595e-01 1.27294587e+00\n",
            " 2.15083546e+00 1.09882621e+00 1.06193023e+00 2.68650435e+00\n",
            " 2.31158720e+00 3.65386403e-01 1.21626263e+00 1.58544283e+00\n",
            " 5.85150887e-01 5.27669945e-01 1.38518988e+00 1.52354764e+00\n",
            " 5.18764220e-01 5.96124335e-01 4.05698606e+00 6.73465891e-01\n",
            " 1.07770757e+00 1.16827736e+00 6.29304244e-01 3.22042841e-01\n",
            " 1.00102216e+00 2.61081153e-01 3.88640830e+00 5.50754913e-01\n",
            " 4.35015947e-01 1.82473991e+00 1.60212702e-01 9.86788754e-01\n",
            " 5.27561710e-01 7.85672099e-01 2.29833032e+00 5.73908733e-03\n",
            " 1.84908118e+00 3.28591003e+00 8.46680725e-01 7.46639989e-02\n",
            " 1.15307598e+00 2.67201037e+00 1.02006879e+00 5.94261167e-01\n",
            " 3.11636202e+00 1.37211831e+01 1.02142437e+00 4.85612717e-01\n",
            " 2.55727770e+00 1.56607396e+00 2.62280321e+00 1.09154588e+01\n",
            " 4.94512868e+00 2.16390913e+00 2.58790924e+00 9.10133793e-02\n",
            " 3.79482340e+00 4.35479362e+00 1.39682158e+00 3.66108483e+00\n",
            " 1.32494397e+00 6.62240244e-01 3.90124018e+00 4.03541795e+00\n",
            " 1.83650314e+00 8.68751845e-01 8.83120522e-01 2.01936901e+00\n",
            " 9.39936837e-01 1.22102586e+00 4.89324573e+00 8.98519602e-01\n",
            " 1.54078922e+00 6.79051335e+00 7.57257196e-01 1.45680811e+00\n",
            " 2.62037445e+00 3.66563084e+00 2.63072576e+00 2.18752152e+00\n",
            " 3.45409270e+00 9.50922924e-01 5.00048303e-01 8.00269051e-01\n",
            " 1.20924629e+00 5.17932581e-01 4.42786432e-01 3.13480515e+00\n",
            " 1.02624591e+00 3.92326523e-01 1.25672446e+00 3.67127179e-02\n",
            " 3.86328192e+00 7.99274062e+00 2.85571585e-02 8.04447994e-01\n",
            " 3.92676391e+00 1.19167705e-01 3.79059540e+00 9.31472223e-01\n",
            " 8.90302864e-01 1.10100307e-01 5.42084696e+00 2.60473870e+00\n",
            " 4.34621763e-01 1.86918619e+00 1.90588262e+00 9.21424428e+00\n",
            " 2.16991617e-01 3.56887784e-01 1.16078670e+00 5.72968787e+00\n",
            " 4.47135658e+00 8.92999213e+00 2.82024954e+00 7.13080555e-01\n",
            " 4.69381733e-01 2.65951637e+00 3.60555700e-02 2.90946840e+00\n",
            " 5.40318897e-01 6.32781324e+00 1.03880513e+00 3.98336136e-01\n",
            " 1.47570819e+00 6.76143988e-01 4.26609057e-01 3.37763714e+00\n",
            " 1.19136453e+00 3.24990634e-01 3.13513177e+00 5.78771255e-01\n",
            " 2.55885884e+00 3.53646363e-01 5.53795834e-01 1.64329587e+00\n",
            " 1.51214565e-01 5.75956873e+00 6.58949208e+00 4.51824799e-01\n",
            " 1.18568632e-01 1.44685762e+00 4.70596942e-01 2.56573411e+00\n",
            " 6.94171400e-01 3.83532977e-01 6.59624092e-01 2.66257796e+00\n",
            " 1.86279332e-01 3.74603830e+00 1.04552517e+00 1.39473062e-01\n",
            " 4.94529155e+00 3.49495429e-02 2.37850450e+00 1.74514735e-01\n",
            " 1.56288269e-01 6.91999273e+00 2.33698768e+00 5.99367067e-01\n",
            " 4.23045738e+00 1.59814044e+00 1.96793274e+00 3.90531425e+00\n",
            " 6.33883233e-02 3.16815815e+00 2.76726408e-01 4.16692966e+00\n",
            " 2.10371356e+00 2.33354549e-01 8.51673225e-02 2.80704385e+00\n",
            " 7.65226080e+00 1.61795707e+00 2.74031577e-01 7.64324995e-01\n",
            " 4.40831332e+00 1.76677279e+00 3.85546729e+00 1.34796505e+00\n",
            " 2.02688169e+00 2.05882285e+00 1.64962884e-01 1.99133440e-01\n",
            " 2.20862332e+00 3.73831170e+00 3.06552057e+00 2.90899957e+00\n",
            " 1.54113616e+00 2.80638771e+00 1.68235412e+00 4.95849265e+00\n",
            " 6.82412553e-01 1.00698666e+00 1.83985010e+00 2.01967444e-01\n",
            " 2.97347127e-01 3.93738055e+00 6.14984431e-01 6.38103179e-01\n",
            " 4.54853761e-01 2.29980437e+00 3.06820296e+00 3.09252675e-02\n",
            " 1.95951218e+00 1.14637460e+00 5.18297348e+00 2.67702719e+00\n",
            " 3.39924346e-01 3.47091962e+00 4.59801047e+00 9.91307814e-01\n",
            " 7.63550180e-01 6.82917369e+00 8.34589962e-01 7.14139795e-02\n",
            " 4.56985564e-01 2.20737862e-01 1.26266627e+00 1.75242587e+00\n",
            " 3.71765463e-01 1.58437480e+00 3.76087301e+00 2.81522543e-01\n",
            " 1.04372777e+00 1.39779574e+00 8.74912512e-02 4.95850018e+00\n",
            " 1.58799035e+00 3.55343636e-01 2.49928933e-02 5.57704851e+00\n",
            " 4.62020187e+00 5.00938494e+00 2.87664432e+00 1.14458912e+00\n",
            " 1.11862201e+00 1.83283919e+00 1.17929993e+00 2.45229681e+00\n",
            " 5.63983647e+00 8.38911755e-01 1.16072367e+00 1.75767416e+00\n",
            " 5.31210423e-01 2.23374354e+00 2.14032695e+00 1.52081531e+00\n",
            " 5.98227873e+00 2.09279636e+00 3.97063452e+00 3.22574967e+00\n",
            " 3.16254367e+00 6.71059831e+00 3.76072878e-01 4.83335789e+00\n",
            " 1.67875639e-01 1.37360279e+00 1.45248435e+00 1.15184476e+00\n",
            " 3.75855712e-02 7.63103448e-01 3.27074584e+00 1.93719824e-01\n",
            " 6.14322241e+00 1.22918013e+01 4.23095006e+00 5.28921137e+00\n",
            " 2.36219960e+00 9.41612074e-03 2.59189761e-01 4.19636063e+00\n",
            " 1.12624908e+00 5.75043855e-01 1.96312996e-01 4.63311385e-01\n",
            " 6.41012834e-01 2.40027082e+00 4.70867192e+00 9.21828014e-01\n",
            " 6.47197920e+00 4.18713677e-01 4.18262541e+00 3.35054776e-01\n",
            " 2.29236526e+00 2.29166136e+00 1.43290299e+00 3.31801891e+00\n",
            " 6.02654308e+00 8.67478452e+00 7.97745711e-01 1.17401079e-02\n",
            " 1.24732193e-01 3.35642658e-01 3.98667556e-01 2.50532195e+00\n",
            " 3.75226613e-01 2.06488467e+00 2.53041405e+00 4.39999478e-02\n",
            " 1.08976579e+00 2.00466216e+00 1.89429150e+00 7.48567605e-01\n",
            " 1.67573203e+00 5.48109847e+00 3.80599630e+00 2.67330208e+00\n",
            " 3.15730878e-01 8.62380391e-01 1.49639080e+00 4.51019819e+00\n",
            " 8.39827463e+00 5.99481368e+00 3.28762241e-01 9.06109999e-02\n",
            " 4.78966078e+00 2.58699465e-02 8.44814954e+00 3.14638836e+00\n",
            " 4.84852587e-01 8.86342720e-02 1.42426308e+00 5.60220752e-01\n",
            " 6.92903440e-01 2.02237805e+00 1.92091677e-01 2.73233456e+00\n",
            " 3.34694301e-01 5.15168321e-01 2.79890380e+00 3.08562452e+00\n",
            " 1.43852987e+00 7.25629452e-01 1.91945725e+00 3.34540025e-01\n",
            " 3.28758214e-01 1.51204836e+00 7.88060014e-01 1.08062810e+00\n",
            " 9.17087534e+00 3.90366283e+00 5.44105073e+00 1.74315743e+00\n",
            " 2.07214262e-01 2.34700073e-01 3.65367851e-01 7.35971408e-01\n",
            " 4.52497599e+00 3.60904891e+00 1.34031793e+00 8.82405051e+00\n",
            " 9.78204039e-01 6.72699692e-02 1.98349504e+00 1.62954099e+00]\n",
            "P{X>=8} is  0.02\n"
          ]
        }
      ]
    },
    {
      "cell_type": "markdown",
      "metadata": {
        "id": "C58ouJl927rR"
      },
      "source": [
        "In the above code, you see that the Prob. value keeps changing when you run it multiple times. To keep it the same, we need the simulator to use the same set of random numbers each time.  We can do that using ```seed()``` function.\n",
        "\n",
        "In the above code, before the ```for-loop ```, insert ```rnd.seed(3)``` and rerun the code"
      ]
    },
    {
      "cell_type": "code",
      "source": [
        "# Suppose X ~Expo(mean=2), what is P(X>=8)? Rerun with different values of n (sample size) and observe the output\n",
        "count=0\n",
        "n=500\n",
        "rnd.seed(3)\n",
        "\n",
        "l=[]\n",
        "l= rnd.exponential(2,n)\n",
        "print(l)\n",
        "\n",
        "for i in range(n):\n",
        "  if (l[i]>= 8):\n",
        "    count = count+1\n",
        "\n",
        "print('P{X>=8} is ', count/n)"
      ],
      "metadata": {
        "id": "veR-W_O-RXKl",
        "outputId": "92083908-38d2-44cf-a254-24ea6207c561",
        "colab": {
          "base_uri": "https://localhost:8080/"
        }
      },
      "execution_count": null,
      "outputs": [
        {
          "output_type": "stream",
          "name": "stdout",
          "text": [
            "[1.60056477e+00 2.46301569e+00 6.87530803e-01 1.43008061e+00\n",
            " 4.46886163e+00 4.53237304e+00 2.68401085e-01 4.64476764e-01\n",
            " 1.05677826e-01 1.16253138e+00 6.06631960e-02 1.22067774e+00\n",
            " 2.09475906e+00 6.52810549e-01 2.25559761e+00 1.78740954e+00\n",
            " 4.85482592e-02 1.63675918e+00 6.00190792e-01 1.07263287e+00\n",
            " 6.66824077e-01 2.36271376e+00 1.16125807e+00 3.41262879e-01\n",
            " 1.57337354e+00 3.03111901e+00 7.31614555e-01 5.01949245e-01\n",
            " 9.81952066e-01 5.50976953e+00 7.45902147e+00 2.23182420e+00\n",
            " 4.66267108e+00 3.73837253e+00 9.49611213e-01 1.93499851e-01\n",
            " 2.11923072e+00 1.63217039e+00 8.97470077e-01 5.09925162e-01\n",
            " 1.04350325e+00 1.26576148e+00 6.27328279e-01 6.90037073e-01\n",
            " 1.22382169e+00 3.93986762e+00 1.76500074e+00 6.66720184e-01\n",
            " 6.51397973e-01 1.21255257e+00 4.59858909e-01 4.49736854e-01\n",
            " 1.44323759e+00 1.82541311e-01 1.32169121e+00 8.99386458e-01\n",
            " 2.45985768e+00 2.74672644e+00 2.34942953e+00 2.33708529e+00\n",
            " 9.35532665e-01 2.20605286e+00 8.30572346e-01 1.70097728e+00\n",
            " 7.88478187e-01 1.17809710e+00 1.27006500e-01 5.55926698e-01\n",
            " 7.12291581e+00 5.24247518e-01 2.35192108e+00 2.10237101e+00\n",
            " 2.57426786e+00 1.28905163e+00 1.81596952e+00 1.38634614e-01\n",
            " 1.50658963e-01 4.43728805e-01 3.29421476e-01 2.10952922e-01\n",
            " 2.76901493e-01 1.61163640e+00 4.16053833e-01 6.07733145e+00\n",
            " 2.28896764e+00 1.55749586e+00 2.45639849e+00 6.12742385e-01\n",
            " 5.22709026e+00 3.65510150e+00 2.59158781e+00 1.30877606e+00\n",
            " 3.69162707e+00 2.73104185e+00 2.15953734e+00 4.90624086e+00\n",
            " 2.00841721e+00 9.11225228e-01 1.60969807e+00 4.37258952e-01\n",
            " 4.26565400e-01 2.58684429e+00 3.07364578e+00 7.15813989e+00\n",
            " 3.80723432e+00 1.56874646e+00 1.88161784e-01 1.34227533e+00\n",
            " 5.26041098e+00 3.09873936e+00 1.32754272e+00 1.21496441e+00\n",
            " 4.91764679e-01 3.90116768e-01 1.52949444e-01 4.45854264e+00\n",
            " 2.04428394e+00 3.09410408e-01 1.06930420e+00 1.00711519e-01\n",
            " 4.69858839e-01 2.62391889e+00 2.10607039e+00 1.30392716e+00\n",
            " 6.42561838e-01 2.11238834e+00 6.26766871e+00 1.14370262e+00\n",
            " 1.45426363e-01 1.18930000e-01 1.73014322e-01 6.42316434e+00\n",
            " 1.55636830e+00 3.63369224e+00 3.72739988e-01 6.03143032e-01\n",
            " 2.35516497e+00 4.51848286e+00 8.33118293e-01 1.33718580e-01\n",
            " 3.99196141e+00 6.87439723e-01 2.70249088e+00 3.44030471e-01\n",
            " 2.37464725e+00 3.68298736e+00 2.59768141e+00 8.89787163e-01\n",
            " 2.59429538e+00 3.00406917e-01 7.53228011e-01 1.08801610e+00\n",
            " 4.19459261e+00 3.33857769e-01 4.24260799e+00 3.20854574e+00\n",
            " 7.12444406e+00 9.16792064e-01 4.58674810e-01 5.50375098e-01\n",
            " 3.51892691e+00 6.71789417e+00 2.40002796e+00 1.31748007e+00\n",
            " 6.76687314e-01 3.58777808e+00 4.11425682e+00 1.93311672e-01\n",
            " 4.86563621e-01 3.56474046e+00 3.77175216e+00 7.55659996e-01\n",
            " 6.55049640e-01 1.12709961e+00 1.55065251e+00 2.00893693e-01\n",
            " 3.62693239e+00 1.53029573e+00 2.98302369e+00 5.24902827e-01\n",
            " 6.72164800e+00 2.78082411e+00 8.40428278e-01 5.93342090e+00\n",
            " 2.41136038e+00 3.67218882e+00 9.31296265e-02 1.14498923e-01\n",
            " 2.71531487e+00 7.26784719e-01 1.45458455e+00 3.39827523e-01\n",
            " 7.62910393e+00 1.39732894e+00 3.53219606e+00 1.53843724e-01\n",
            " 1.30368594e+00 1.28606656e-01 4.31249712e+00 1.18049603e+00\n",
            " 1.42025359e-01 1.59160907e-01 1.54781514e+00 1.57148116e-01\n",
            " 4.06123882e-01 1.14666871e+00 1.37744529e+00 1.75083467e+00\n",
            " 1.93786820e+00 9.33016290e-01 1.92852952e+00 3.42157173e-01\n",
            " 6.44570431e-01 3.20609943e+00 3.32320043e-01 5.05461363e-01\n",
            " 5.56726402e-01 1.30595885e+00 1.49160016e-03 6.15604985e-02\n",
            " 1.23811441e+00 3.54717428e-01 2.27575726e+00 3.17148757e+00\n",
            " 1.72627429e+00 2.37334646e+00 9.91736148e-01 9.48042821e-02\n",
            " 1.15757210e+00 9.30367526e-01 1.81765352e+00 2.88244660e-01\n",
            " 5.16797805e-01 3.37244804e+00 6.13935099e-01 1.05635122e+00\n",
            " 5.49687510e+00 6.44691865e-01 3.13986001e-01 2.42145869e+00\n",
            " 1.67434252e+00 1.89140734e+00 8.58794101e-02 1.08005199e+00\n",
            " 8.55112273e-03 5.66146668e-01 2.44873326e+00 1.27031616e-01\n",
            " 6.98245634e-01 8.86457824e+00 7.09630415e+00 1.31496707e+00\n",
            " 2.66129087e+00 2.00291185e+00 1.25356967e+00 3.89075064e+00\n",
            " 3.78736458e-01 3.52555027e+00 8.59601502e-02 4.03411606e+00\n",
            " 2.25400246e+00 1.18087114e+00 2.22686462e+00 1.23373757e+00\n",
            " 3.02828476e+00 2.40822161e-01 1.41919318e+00 4.10348995e+00\n",
            " 5.24914521e+00 4.97785293e-01 5.80518254e-01 4.68707402e+00\n",
            " 8.47820371e-01 1.17107754e-01 2.50973707e+00 1.07030104e+00\n",
            " 2.65849910e+00 1.29669808e+00 1.38855786e+00 1.08106477e+00\n",
            " 6.86346989e-01 4.61943831e+00 2.20999070e+00 3.11020576e+00\n",
            " 4.52172600e+00 5.75868055e-01 5.04697766e+00 3.96979185e+00\n",
            " 1.41078474e+00 1.67820654e+00 2.44182139e-01 2.87194290e+00\n",
            " 3.80445395e-01 1.52643573e+00 2.70350756e-01 1.51424564e-01\n",
            " 1.87823582e+00 1.35141284e+00 2.24669090e+00 3.12944716e+00\n",
            " 8.11265214e+00 1.75653996e-01 1.99506726e+00 1.72064751e+00\n",
            " 2.10331720e+00 1.56692929e+00 1.63003034e+00 4.05832796e+00\n",
            " 1.20300238e+00 1.53133071e+00 2.34859309e+00 1.87511758e-01\n",
            " 1.13100478e+00 2.15469376e-01 2.96558982e-01 4.25564134e-03\n",
            " 4.70701606e-01 4.88318848e-01 1.45235125e+00 1.68890893e+00\n",
            " 3.47410149e+00 1.33383321e+00 4.44117350e+00 1.00525461e+00\n",
            " 2.72993831e+00 1.60930759e+00 1.95540209e+00 6.30495742e-01\n",
            " 5.54822001e+00 2.93635172e+00 3.14699986e-01 1.54193366e+00\n",
            " 1.09388310e+01 1.00600906e-01 7.21422839e-01 2.70041381e+00\n",
            " 8.03141139e-02 2.74613320e+00 1.70391671e+00 2.63134135e+00\n",
            " 1.60071925e+00 5.60703557e+00 8.50524682e-01 1.70883712e+00\n",
            " 1.04229324e-01 1.61233093e+00 1.08736215e+00 8.16820888e+00\n",
            " 5.82305134e+00 2.97648416e-01 8.50127444e-02 2.57201575e-01\n",
            " 4.28236226e-01 2.59048096e+00 1.57042825e+00 1.53111463e+00\n",
            " 1.24924689e+00 1.34334503e-02 9.96713744e-01 1.36960339e+01\n",
            " 3.43283509e+00 1.70129023e+00 4.37463995e-01 5.06322747e+00\n",
            " 1.10380658e+00 1.93163051e+00 4.54071374e-01 7.95189553e-01\n",
            " 8.46097994e-01 1.00423355e+00 4.49654798e-02 2.15966185e+00\n",
            " 3.72635104e-01 1.84915123e+00 1.93296057e+00 2.39402580e+00\n",
            " 6.90427990e-01 6.90712730e-01 2.81732107e+00 9.82778791e-01\n",
            " 3.30842182e-01 4.71334143e+00 2.63382875e-02 4.35163015e+00\n",
            " 6.91347858e-01 9.61967510e-01 7.67060106e+00 1.14779974e+00\n",
            " 2.51673112e+00 1.06335901e+00 4.89604993e+00 2.54229537e+00\n",
            " 1.31051543e+00 1.75961837e-01 9.03962404e-01 1.34906975e+00\n",
            " 6.67770884e-01 1.52989015e+00 4.70561490e-01 1.36374031e+00\n",
            " 1.50157460e+00 2.23779106e+00 2.73585490e+00 2.61847215e+00\n",
            " 1.10369771e+00 1.21743682e+00 4.13513822e+00 9.01305494e-01\n",
            " 2.67907218e+00 1.02545287e+01 5.17543107e+00 1.59362657e+00\n",
            " 7.28007430e-01 1.94737701e+00 2.30593634e+00 1.49716019e+00\n",
            " 8.35510540e-01 1.21550498e+00 1.70659931e-01 6.88595728e-01\n",
            " 3.13066126e-01 2.19610927e+00 6.39982070e+00 3.42133500e-01\n",
            " 5.74041267e-02 2.70461440e+00 8.74420871e-01 1.41030300e+00\n",
            " 1.25981999e-01 3.91457944e-01 2.37820971e+00 1.85880574e+00\n",
            " 3.84024809e+00 6.58952841e+00 8.91371752e-01 1.93647641e+00\n",
            " 1.18724601e+00 1.40880846e+00 9.93522513e-01 7.57909992e+00\n",
            " 1.95440670e+00 3.06035308e-01 2.39285893e+00 6.74850285e+00\n",
            " 4.50472309e+00 1.63290927e+00 2.96482402e-02 3.27512271e+00\n",
            " 5.37242106e+00 2.64798404e+00 1.12056797e+00 9.58786697e-01\n",
            " 2.72988597e+00 2.28244458e-01 3.07140717e+00 1.38152094e+00\n",
            " 1.45397344e-01 3.46372205e+00 9.94198780e-01 2.25811006e-01\n",
            " 3.81833042e-01 3.92413660e+00 3.79276839e-01 3.06727421e+00\n",
            " 3.26046629e+00 1.80983534e-01 1.14322798e+00 3.09441949e+00\n",
            " 1.34692787e+00 4.02006707e+00 9.55172610e-01 1.97941399e+00\n",
            " 4.80376646e-01 3.69356850e+00 3.65714510e+00 1.66865820e+00\n",
            " 7.80429319e-01 8.54097305e-01 1.80617033e+00 2.74870179e-01\n",
            " 1.42863067e+00 7.00324597e-01 8.35819508e-01 7.76741260e-01\n",
            " 3.59801757e+00 3.85957759e-01 5.39546967e-01 3.59389831e-01\n",
            " 3.04319018e-02 1.10887499e+00 3.71512548e+00 4.66092532e+00\n",
            " 1.33638496e+00 1.09420606e+00 4.05244212e+00 1.50365020e+00\n",
            " 1.59110048e+00 2.09571621e+00 1.65921505e-01 3.64656934e+00]\n",
            "P{X>=8} is  0.012\n"
          ]
        }
      ]
    },
    {
      "cell_type": "markdown",
      "metadata": {
        "id": "gcJUwt8E3sXB"
      },
      "source": [
        "**Example 1h: Central limit Theorem**\n",
        "If $X_1, X_2, ..X_n$ are i.i.d random samples each of size $n$ taken from a population. Then the sample mean $\\bar{X}$ is Normally distributed."
      ]
    },
    {
      "cell_type": "code",
      "metadata": {
        "id": "E7riElZe3XNT",
        "outputId": "707aef95-24fb-4428-f40e-c622edacb57e",
        "colab": {
          "base_uri": "https://localhost:8080/",
          "height": 456
        }
      },
      "source": [
        "# We can going to generate m sets of data, where each set has n data points. \n",
        "# From each set, we will take the sample mean, and plot the histogram of the sample means\n",
        "# let's generate samples from Expo(2)\n",
        "m=2000\n",
        "n=100\n",
        "sample_means=[]\n",
        "rnd.seed(3)\n",
        "for i in range(m):\n",
        "  x=[]  \n",
        "  for j in range(n):\n",
        "    x.append(rnd.exponential(2))\n",
        "  sample_means.append(sum(x)/n)\n",
        "\n",
        "plt.hist(sample_means,bins=30)"
      ],
      "execution_count": null,
      "outputs": [
        {
          "output_type": "execute_result",
          "data": {
            "text/plain": [
              "(array([  4.,   3.,   1.,   4.,  17.,  18.,  23.,  55.,  74., 110., 103.,\n",
              "        136., 143., 173., 178., 180., 162., 139., 136.,  90.,  80.,  44.,\n",
              "         42.,  29.,  15.,  18.,   9.,   6.,   4.,   4.]),\n",
              " array([1.34605656, 1.39061184, 1.43516713, 1.47972242, 1.5242777 ,\n",
              "        1.56883299, 1.61338828, 1.65794356, 1.70249885, 1.74705414,\n",
              "        1.79160942, 1.83616471, 1.88072   , 1.92527528, 1.96983057,\n",
              "        2.01438586, 2.05894114, 2.10349643, 2.14805172, 2.192607  ,\n",
              "        2.23716229, 2.28171758, 2.32627286, 2.37082815, 2.41538344,\n",
              "        2.45993873, 2.50449401, 2.5490493 , 2.59360459, 2.63815987,\n",
              "        2.68271516]),\n",
              " <a list of 30 Patch objects>)"
            ]
          },
          "metadata": {},
          "execution_count": 20
        },
        {
          "output_type": "display_data",
          "data": {
            "text/plain": [
              "<Figure size 432x288 with 1 Axes>"
            ],
            "image/png": "[encoded data removed]"
          },
          "metadata": {
            "needs_background": "light"
          }
        }
      ]
    },
    {
      "cell_type": "markdown",
      "metadata": {
        "id": "u3USDWsK7f5V"
      },
      "source": [
        "***Note: The Above construct of ```inner for-loop``` for the samples, and the ```outer for-loop``` for the sample means is common in simulation***"
      ]
    },
    {
      "cell_type": "code",
      "metadata": {
        "id": "eIBANT3hNHd7",
        "outputId": "306f20d4-0708-4713-c219-542f016c4dda",
        "colab": {
          "base_uri": "https://localhost:8080/",
          "height": 456
        }
      },
      "source": [
        "# However, we can write a compact code using list comprehension\n",
        "n=10000\n",
        "rnd.seed(3)\n",
        "sample_means = [np.mean(rnd.exponential(2,n)) for i in range(m)]\n",
        "\n",
        "plt.hist(sample_means, bins=30)"
      ],
      "execution_count": null,
      "outputs": [
        {
          "output_type": "execute_result",
          "data": {
            "text/plain": [
              "(array([  1.,   1.,   0.,   3.,   6.,  11.,  12.,  21.,  43.,  63., 103.,\n",
              "        107., 169., 166., 170., 196., 202., 186., 132., 128.,  93.,  59.,\n",
              "         52.,  40.,  19.,   7.,   7.,   1.,   1.,   1.]),\n",
              " array([1.92466958, 1.92955418, 1.93443877, 1.93932337, 1.94420797,\n",
              "        1.94909257, 1.95397717, 1.95886176, 1.96374636, 1.96863096,\n",
              "        1.97351556, 1.97840016, 1.98328475, 1.98816935, 1.99305395,\n",
              "        1.99793855, 2.00282314, 2.00770774, 2.01259234, 2.01747694,\n",
              "        2.02236154, 2.02724613, 2.03213073, 2.03701533, 2.04189993,\n",
              "        2.04678452, 2.05166912, 2.05655372, 2.06143832, 2.06632292,\n",
              "        2.07120751]),\n",
              " <a list of 30 Patch objects>)"
            ]
          },
          "metadata": {},
          "execution_count": 21
        },
        {
          "output_type": "display_data",
          "data": {
            "text/plain": [
              "<Figure size 432x288 with 1 Axes>"
            ],
            "image/png": "[encoded data removed]"
          },
          "metadata": {
            "needs_background": "light"
          }
        }
      ]
    },
    {
      "cell_type": "markdown",
      "metadata": {
        "id": "6aCnd7u878a5"
      },
      "source": [
        "##Exercise to try\n",
        "**P1: Compute P{2X+Y} <= 10, where X ~ triangular(1,3,8) and Y ~ discrete uniform[1,6] (i.e., sampling Y is like rolling a die)** \n",
        "\n",
        "Compute probability with at least 4 decimal place accuracy"
      ]
    },
    {
      "cell_type": "code",
      "metadata": {
        "id": "tsQo2L3J6dnw",
        "outputId": "70c4f803-de36-4cfd-ec70-be541cf2b218",
        "colab": {
          "base_uri": "https://localhost:8080/"
        }
      },
      "source": [
        "count=0\n",
        "n=10000\n",
        "rnd.seed(3)\n",
        "for i in range(n):\n",
        "  if (2*rnd.triangular(1,3,8)+rnd.randint(1,7)<= 10):\n",
        "    count = count+1\n",
        "\n",
        "print('P{2X+Y<=10} is ', count/n)"
      ],
      "execution_count": null,
      "outputs": [
        {
          "output_type": "stream",
          "name": "stdout",
          "text": [
            "P{2X+Y<=10} is  0.3517\n"
          ]
        }
      ]
    },
    {
      "cell_type": "markdown",
      "source": [
        "**P2a: Suppose we have 5 courses: C1, C2, C3, C4 and C5. Now, 750 students have to each choose one course out of the five.**\n",
        "(i)  Suppose each student chooses any of the course with equal probability. Simulate and count the number of students opting for each course. Simulate 10 different outcome scenarios. Make a bar chart of an outcome scenario.\n"
      ],
      "metadata": {
        "id": "c92ZtglCKHkf"
      }
    },
    {
      "cell_type": "code",
      "source": [
        "from collections import Counter\n",
        "for i in range(10):\n",
        "  print('Scenario',i+1)\n",
        "  outcomes = rnd.choice(['C1','C2','C3','C4','C5'], size=750)\n",
        "  tosscount = dict(Counter(outcomes))\n",
        "  print(tosscount)\n",
        "plt.bar(tosscount.keys(), tosscount.values())"
      ],
      "metadata": {
        "colab": {
          "base_uri": "https://localhost:8080/",
          "height": 629
        },
        "id": "Vlz4gnXzpNUf",
        "outputId": "f1612ff7-060b-481f-86a7-dd9d4efce719"
      },
      "execution_count": null,
      "outputs": [
        {
          "output_type": "stream",
          "name": "stdout",
          "text": [
            "Scenario 1\n",
            "{'C5': 142, 'C2': 154, 'C1': 162, 'C4': 143, 'C3': 149}\n",
            "Scenario 2\n",
            "{'C5': 140, 'C2': 152, 'C3': 152, 'C4': 148, 'C1': 158}\n",
            "Scenario 3\n",
            "{'C2': 147, 'C5': 163, 'C4': 148, 'C1': 154, 'C3': 138}\n",
            "Scenario 4\n",
            "{'C5': 154, 'C1': 146, 'C3': 162, 'C4': 145, 'C2': 143}\n",
            "Scenario 5\n",
            "{'C2': 155, 'C1': 133, 'C3': 153, 'C5': 158, 'C4': 151}\n",
            "Scenario 6\n",
            "{'C3': 152, 'C2': 148, 'C1': 138, 'C4': 161, 'C5': 151}\n",
            "Scenario 7\n",
            "{'C2': 159, 'C3': 138, 'C4': 161, 'C5': 153, 'C1': 139}\n",
            "Scenario 8\n",
            "{'C2': 155, 'C4': 144, 'C5': 152, 'C1': 157, 'C3': 142}\n",
            "Scenario 9\n",
            "{'C3': 141, 'C2': 160, 'C5': 159, 'C4': 138, 'C1': 152}\n",
            "Scenario 10\n",
            "{'C5': 154, 'C3': 128, 'C4': 181, 'C2': 130, 'C1': 157}\n"
          ]
        },
        {
          "output_type": "execute_result",
          "data": {
            "text/plain": [
              "<BarContainer object of 5 artists>"
            ]
          },
          "metadata": {},
          "execution_count": 23
        },
        {
          "output_type": "display_data",
          "data": {
            "text/plain": [
              "<Figure size 432x288 with 1 Axes>"
            ],
            "image/png": "[encoded data removed]"
          },
          "metadata": {
            "needs_background": "light"
          }
        }
      ]
    },
    {
      "cell_type": "markdown",
      "source": [
        "**P2b: Suppose we have 5 courses: C1, C2, C3, C4 and C5. Now, 750 students have to each choose one course out of the five.**\n",
        "(ii) Suppose each student choose courses such that the probability of choosing C1 > prob. of choosing C2 > prob. of choosing C3 > prob. of choosing C4 > prob. of choosing C5. You come up the with the probability values. Simulate and observe if the outcomes matches the probabiliy values you have taken.  Make a bar chart of an outcome scenario."
      ],
      "metadata": {
        "id": "g0TfW8UvMhLe"
      }
    },
    {
      "cell_type": "code",
      "source": [
        "from collections import Counter\n",
        "li=list(rnd.choice(['C1','C2','C3','C4','C5'], p=[0.5,0.4,0.06,0.03,0.01], size=750))\n",
        "count = dict(Counter(li))\n",
        "print(count)\n",
        "plt.bar(count.keys(), count.values())"
      ],
      "metadata": {
        "colab": {
          "base_uri": "https://localhost:8080/",
          "height": 302
        },
        "id": "Cxrc1A66CNFz",
        "outputId": "1346cb44-fc6e-4861-f851-14a881f3e57f"
      },
      "execution_count": null,
      "outputs": [
        {
          "output_type": "stream",
          "name": "stdout",
          "text": [
            "{'C1': 385, 'C2': 294, 'C3': 33, 'C4': 25, 'C5': 13}\n"
          ]
        },
        {
          "output_type": "execute_result",
          "data": {
            "text/plain": [
              "<BarContainer object of 5 artists>"
            ]
          },
          "metadata": {},
          "execution_count": 42
        },
        {
          "output_type": "display_data",
          "data": {
            "text/plain": [
              "<Figure size 432x288 with 1 Axes>"
            ],
            "image/png": "[encoded data removed]"
          },
          "metadata": {
            "needs_background": "light"
          }
        }
      ]
    }
  ]
}